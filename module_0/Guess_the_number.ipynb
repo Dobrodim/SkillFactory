{
 "cells": [
  {
   "cell_type": "code",
   "execution_count": 7,
   "metadata": {},
   "outputs": [
    {
     "name": "stdout",
     "output_type": "stream",
     "text": [
      "Введите число от 1 до 100: 5\n",
      "Загаданное число меньше:  68\n",
      "Загаданное число меньше:  60\n",
      "Загаданное число меньше:  10\n",
      "Загаданное число больше:  3\n",
      "Загаданное число больше:  4\n",
      "Загаданное число больше:  4\n",
      "Загаданное число меньше:  8\n",
      "\n",
      "Искомое число - 5\n",
      "Число отгадано с 8 попытки\n",
      "Это отличный результат!\n"
     ]
    }
   ],
   "source": [
    "import random\n",
    "choice = int(input(\"Введите число от 1 до 100: \"))\n",
    "\n",
    "x = 1\n",
    "y = 100\n",
    "guess = random.randint (x, y)\n",
    "attempt = 1\n",
    "\n",
    "if choice == guess:\n",
    "    print(\"Число отгадано с первой попытки!\")\n",
    "    print(\"Это фантастика!\")\n",
    "else:\n",
    "    while guess != choice:\n",
    "        if choice > guess:\n",
    "            print(\"Загаданное число больше: \", guess)\n",
    "            x = guess\n",
    "            guess = random.randint(x, y)\n",
    "            attempt += 1\n",
    "        elif choice < guess:\n",
    "            print(\"Загаданное число меньше: \", guess)\n",
    "            y = guess\n",
    "            guess = random.randint(x, y)\n",
    "            attempt += 1\n",
    "    print()\n",
    "    print(\"Искомое число -\", choice)\n",
    "    print(\"Число отгадано с\", attempt, \"попытки\")\n",
    "    print(\"Это отличный результат!\")"
   ]
  },
  {
   "cell_type": "code",
   "execution_count": null,
   "metadata": {},
   "outputs": [],
   "source": []
  }
 ],
 "metadata": {
  "kernelspec": {
   "display_name": "Python 3",
   "language": "python",
   "name": "python3"
  },
  "language_info": {
   "codemirror_mode": {
    "name": "ipython",
    "version": 3
   },
   "file_extension": ".py",
   "mimetype": "text/x-python",
   "name": "python",
   "nbconvert_exporter": "python",
   "pygments_lexer": "ipython3",
   "version": "3.7.6"
  }
 },
 "nbformat": 4,
 "nbformat_minor": 4
}
