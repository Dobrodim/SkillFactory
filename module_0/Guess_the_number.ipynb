{
 "cells": [
  {
   "cell_type": "code",
   "execution_count": null,
   "metadata": {},
   "outputs": [],
   "source": [
    "import random\n",
    "choice = int(input(\"Введите число от 1 до 100: \"))\n",
    "\n",
    "'''Задание диапазона для выбора числа'''\n",
    "\n",
    "x = 1\n",
    "y = 100\n",
    "guess = random.randint (x, y)\n",
    "attempt = 1\n",
    "print()\n",
    "\n",
    "'''Цикл проверки генерируемых чисел на совпадение с введённым числом'''\n",
    "\n",
    "if choice == guess:\n",
    "    print(\"Число отгадано с первой попытки!\")\n",
    "    print(\"Это фантастика!\")\n",
    "    \n",
    "else:\n",
    "    while guess != choice:\n",
    "        if choice > guess:\n",
    "            print(\"Загаданное число больше: \", guess)\n",
    "            x = guess\n",
    "            guess = random.randint(x, y)\n",
    "            attempt += 1\n",
    "            \n",
    "        elif choice < guess:\n",
    "            print(\"Загаданное число меньше: \", guess)\n",
    "            y = guess\n",
    "            guess = random.randint(x, y)\n",
    "            attempt += 1\n",
    "    print()\n",
    "    print(\"Искомое число -\", choice)\n",
    "    print(\"Число отгадано с\", attempt, \"попытки\")\n",
    "    print(\"Это отличный результат!\")"
   ]
  },
  {
   "cell_type": "code",
   "execution_count": null,
   "metadata": {},
   "outputs": [],
   "source": []
  }
 ],
 "metadata": {
  "kernelspec": {
   "display_name": "Python 3",
   "language": "python",
   "name": "python3"
  },
  "language_info": {
   "codemirror_mode": {
    "name": "ipython",
    "version": 3
   },
   "file_extension": ".py",
   "mimetype": "text/x-python",
   "name": "python",
   "nbconvert_exporter": "python",
   "pygments_lexer": "ipython3",
   "version": "3.7.6"
  }
 },
 "nbformat": 4,
 "nbformat_minor": 4
}
