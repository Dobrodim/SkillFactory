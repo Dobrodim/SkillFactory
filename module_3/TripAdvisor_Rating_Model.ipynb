{
 "cells": [
  {
   "cell_type": "markdown",
   "metadata": {},
   "source": [
    "![](https://static.tacdn.com/img2/brand_refresh/application_icons/post-image-550x370.png)\n",
    "# Predict TripAdvisor Rating\n",
    "### В этом соревновании мы предскажем рейтинги ресторанов в TripAdvisor"
   ]
  },
  {
   "cell_type": "markdown",
   "metadata": {},
   "source": [
    "## Import"
   ]
  },
  {
   "cell_type": "code",
   "execution_count": 125,
   "metadata": {
    "_cell_guid": "b1076dfc-b9ad-4769-8c92-a6c4dae69d19",
    "_uuid": "8f2839f25d086af736a60e9eeb907d3b93b6e0e5"
   },
   "outputs": [],
   "source": [
    "import pandas as pd\n",
    "import numpy as np\n",
    "\n",
    "import re\n",
    "import matplotlib.pyplot as plt\n",
    "import seaborn as sns \n",
    "%matplotlib inline\n",
    "\n",
    "from sklearn.preprocessing import OneHotEncoder\n",
    "from sklearn.model_selection import train_test_split\n",
    "        \n",
    "import datetime\n",
    "from datetime import datetime, timedelta"
   ]
  },
  {
   "cell_type": "code",
   "execution_count": 126,
   "metadata": {},
   "outputs": [],
   "source": [
    "# Фиксируем RANDOM_SEED, чтобы нашии эксперименты были воспроизводимы:\n",
    "RANDOM_SEED = 42"
   ]
  },
  {
   "cell_type": "code",
   "execution_count": 127,
   "metadata": {},
   "outputs": [],
   "source": [
    "# Фиксируем версию пакетов, чтобы наши эксперименты были воспроизводимы:\n",
    "!pip freeze > requirements.txt"
   ]
  },
  {
   "cell_type": "markdown",
   "metadata": {},
   "source": [
    "## Data"
   ]
  },
  {
   "cell_type": "code",
   "execution_count": 128,
   "metadata": {
    "_cell_guid": "79c7e3d0-c299-4dcb-8224-4455121ee9b0",
    "_uuid": "d629ff2d2480ee46fbb7e2d37f6b5fab8052498a"
   },
   "outputs": [],
   "source": [
    "df_train = pd.read_csv('main_task.csv')\n",
    "df_test = pd.read_csv('kaggle_task.csv')\n",
    "sample_submission = pd.read_csv('sample_submission.csv')"
   ]
  },
  {
   "cell_type": "markdown",
   "metadata": {},
   "source": [
    "Посмотрим на количественные характеристики наших признаков:"
   ]
  },
  {
   "cell_type": "code",
   "execution_count": 129,
   "metadata": {},
   "outputs": [
    {
     "name": "stdout",
     "output_type": "stream",
     "text": [
      "<class 'pandas.core.frame.DataFrame'>\n",
      "RangeIndex: 40000 entries, 0 to 39999\n",
      "Data columns (total 10 columns):\n",
      " #   Column             Non-Null Count  Dtype  \n",
      "---  ------             --------------  -----  \n",
      " 0   Restaurant_id      40000 non-null  object \n",
      " 1   City               40000 non-null  object \n",
      " 2   Cuisine Style      30717 non-null  object \n",
      " 3   Ranking            40000 non-null  float64\n",
      " 4   Rating             40000 non-null  float64\n",
      " 5   Price Range        26114 non-null  object \n",
      " 6   Number of Reviews  37457 non-null  float64\n",
      " 7   Reviews            40000 non-null  object \n",
      " 8   URL_TA             40000 non-null  object \n",
      " 9   ID_TA              40000 non-null  object \n",
      "dtypes: float64(3), object(7)\n",
      "memory usage: 3.1+ MB\n"
     ]
    }
   ],
   "source": [
    "df_train.info()"
   ]
  },
  {
   "cell_type": "code",
   "execution_count": 130,
   "metadata": {},
   "outputs": [
    {
     "data": {
      "text/html": [
       "<div>\n",
       "<style scoped>\n",
       "    .dataframe tbody tr th:only-of-type {\n",
       "        vertical-align: middle;\n",
       "    }\n",
       "\n",
       "    .dataframe tbody tr th {\n",
       "        vertical-align: top;\n",
       "    }\n",
       "\n",
       "    .dataframe thead th {\n",
       "        text-align: right;\n",
       "    }\n",
       "</style>\n",
       "<table border=\"1\" class=\"dataframe\">\n",
       "  <thead>\n",
       "    <tr style=\"text-align: right;\">\n",
       "      <th></th>\n",
       "      <th>Restaurant_id</th>\n",
       "      <th>City</th>\n",
       "      <th>Cuisine Style</th>\n",
       "      <th>Ranking</th>\n",
       "      <th>Rating</th>\n",
       "      <th>Price Range</th>\n",
       "      <th>Number of Reviews</th>\n",
       "      <th>Reviews</th>\n",
       "      <th>URL_TA</th>\n",
       "      <th>ID_TA</th>\n",
       "    </tr>\n",
       "  </thead>\n",
       "  <tbody>\n",
       "    <tr>\n",
       "      <th>0</th>\n",
       "      <td>id_5569</td>\n",
       "      <td>Paris</td>\n",
       "      <td>['European', 'French', 'International']</td>\n",
       "      <td>5570.0</td>\n",
       "      <td>3.5</td>\n",
       "      <td>$$ - $$$</td>\n",
       "      <td>194.0</td>\n",
       "      <td>[['Good food at your doorstep', 'A good hotel ...</td>\n",
       "      <td>/Restaurant_Review-g187147-d1912643-Reviews-R_...</td>\n",
       "      <td>d1912643</td>\n",
       "    </tr>\n",
       "    <tr>\n",
       "      <th>1</th>\n",
       "      <td>id_1535</td>\n",
       "      <td>Stockholm</td>\n",
       "      <td>NaN</td>\n",
       "      <td>1537.0</td>\n",
       "      <td>4.0</td>\n",
       "      <td>NaN</td>\n",
       "      <td>10.0</td>\n",
       "      <td>[['Unique cuisine', 'Delicious Nepalese food']...</td>\n",
       "      <td>/Restaurant_Review-g189852-d7992032-Reviews-Bu...</td>\n",
       "      <td>d7992032</td>\n",
       "    </tr>\n",
       "    <tr>\n",
       "      <th>2</th>\n",
       "      <td>id_352</td>\n",
       "      <td>London</td>\n",
       "      <td>['Japanese', 'Sushi', 'Asian', 'Grill', 'Veget...</td>\n",
       "      <td>353.0</td>\n",
       "      <td>4.5</td>\n",
       "      <td>$$$$</td>\n",
       "      <td>688.0</td>\n",
       "      <td>[['Catch up with friends', 'Not exceptional'],...</td>\n",
       "      <td>/Restaurant_Review-g186338-d8632781-Reviews-RO...</td>\n",
       "      <td>d8632781</td>\n",
       "    </tr>\n",
       "    <tr>\n",
       "      <th>3</th>\n",
       "      <td>id_3456</td>\n",
       "      <td>Berlin</td>\n",
       "      <td>NaN</td>\n",
       "      <td>3458.0</td>\n",
       "      <td>5.0</td>\n",
       "      <td>NaN</td>\n",
       "      <td>3.0</td>\n",
       "      <td>[[], []]</td>\n",
       "      <td>/Restaurant_Review-g187323-d1358776-Reviews-Es...</td>\n",
       "      <td>d1358776</td>\n",
       "    </tr>\n",
       "    <tr>\n",
       "      <th>4</th>\n",
       "      <td>id_615</td>\n",
       "      <td>Munich</td>\n",
       "      <td>['German', 'Central European', 'Vegetarian Fri...</td>\n",
       "      <td>621.0</td>\n",
       "      <td>4.0</td>\n",
       "      <td>$$ - $$$</td>\n",
       "      <td>84.0</td>\n",
       "      <td>[['Best place to try a Bavarian food', 'Nice b...</td>\n",
       "      <td>/Restaurant_Review-g187309-d6864963-Reviews-Au...</td>\n",
       "      <td>d6864963</td>\n",
       "    </tr>\n",
       "  </tbody>\n",
       "</table>\n",
       "</div>"
      ],
      "text/plain": [
       "  Restaurant_id       City                                      Cuisine Style  \\\n",
       "0       id_5569      Paris            ['European', 'French', 'International']   \n",
       "1       id_1535  Stockholm                                                NaN   \n",
       "2        id_352     London  ['Japanese', 'Sushi', 'Asian', 'Grill', 'Veget...   \n",
       "3       id_3456     Berlin                                                NaN   \n",
       "4        id_615     Munich  ['German', 'Central European', 'Vegetarian Fri...   \n",
       "\n",
       "   Ranking  Rating Price Range  Number of Reviews  \\\n",
       "0   5570.0     3.5    $$ - $$$              194.0   \n",
       "1   1537.0     4.0         NaN               10.0   \n",
       "2    353.0     4.5        $$$$              688.0   \n",
       "3   3458.0     5.0         NaN                3.0   \n",
       "4    621.0     4.0    $$ - $$$               84.0   \n",
       "\n",
       "                                             Reviews  \\\n",
       "0  [['Good food at your doorstep', 'A good hotel ...   \n",
       "1  [['Unique cuisine', 'Delicious Nepalese food']...   \n",
       "2  [['Catch up with friends', 'Not exceptional'],...   \n",
       "3                                           [[], []]   \n",
       "4  [['Best place to try a Bavarian food', 'Nice b...   \n",
       "\n",
       "                                              URL_TA     ID_TA  \n",
       "0  /Restaurant_Review-g187147-d1912643-Reviews-R_...  d1912643  \n",
       "1  /Restaurant_Review-g189852-d7992032-Reviews-Bu...  d7992032  \n",
       "2  /Restaurant_Review-g186338-d8632781-Reviews-RO...  d8632781  \n",
       "3  /Restaurant_Review-g187323-d1358776-Reviews-Es...  d1358776  \n",
       "4  /Restaurant_Review-g187309-d6864963-Reviews-Au...  d6864963  "
      ]
     },
     "execution_count": 130,
     "metadata": {},
     "output_type": "execute_result"
    }
   ],
   "source": [
    "df_train.head()"
   ]
  },
  {
   "cell_type": "code",
   "execution_count": 131,
   "metadata": {},
   "outputs": [
    {
     "name": "stdout",
     "output_type": "stream",
     "text": [
      "<class 'pandas.core.frame.DataFrame'>\n",
      "RangeIndex: 10000 entries, 0 to 9999\n",
      "Data columns (total 9 columns):\n",
      " #   Column             Non-Null Count  Dtype  \n",
      "---  ------             --------------  -----  \n",
      " 0   Restaurant_id      10000 non-null  object \n",
      " 1   City               10000 non-null  object \n",
      " 2   Cuisine Style      7693 non-null   object \n",
      " 3   Ranking            10000 non-null  float64\n",
      " 4   Price Range        6525 non-null   object \n",
      " 5   Number of Reviews  9343 non-null   float64\n",
      " 6   Reviews            9998 non-null   object \n",
      " 7   URL_TA             10000 non-null  object \n",
      " 8   ID_TA              10000 non-null  object \n",
      "dtypes: float64(2), object(7)\n",
      "memory usage: 703.2+ KB\n"
     ]
    }
   ],
   "source": [
    "df_test.info()"
   ]
  },
  {
   "cell_type": "code",
   "execution_count": 132,
   "metadata": {},
   "outputs": [
    {
     "data": {
      "text/html": [
       "<div>\n",
       "<style scoped>\n",
       "    .dataframe tbody tr th:only-of-type {\n",
       "        vertical-align: middle;\n",
       "    }\n",
       "\n",
       "    .dataframe tbody tr th {\n",
       "        vertical-align: top;\n",
       "    }\n",
       "\n",
       "    .dataframe thead th {\n",
       "        text-align: right;\n",
       "    }\n",
       "</style>\n",
       "<table border=\"1\" class=\"dataframe\">\n",
       "  <thead>\n",
       "    <tr style=\"text-align: right;\">\n",
       "      <th></th>\n",
       "      <th>Restaurant_id</th>\n",
       "      <th>City</th>\n",
       "      <th>Cuisine Style</th>\n",
       "      <th>Ranking</th>\n",
       "      <th>Price Range</th>\n",
       "      <th>Number of Reviews</th>\n",
       "      <th>Reviews</th>\n",
       "      <th>URL_TA</th>\n",
       "      <th>ID_TA</th>\n",
       "    </tr>\n",
       "  </thead>\n",
       "  <tbody>\n",
       "    <tr>\n",
       "      <th>0</th>\n",
       "      <td>id_0</td>\n",
       "      <td>Paris</td>\n",
       "      <td>['Bar', 'Pub']</td>\n",
       "      <td>12963.0</td>\n",
       "      <td>$$ - $$$</td>\n",
       "      <td>4.0</td>\n",
       "      <td>[[], []]</td>\n",
       "      <td>/Restaurant_Review-g187147-d10746918-Reviews-L...</td>\n",
       "      <td>d10746918</td>\n",
       "    </tr>\n",
       "    <tr>\n",
       "      <th>1</th>\n",
       "      <td>id_1</td>\n",
       "      <td>Helsinki</td>\n",
       "      <td>['European', 'Scandinavian', 'Gluten Free Opti...</td>\n",
       "      <td>106.0</td>\n",
       "      <td>$$ - $$$</td>\n",
       "      <td>97.0</td>\n",
       "      <td>[['Very good reviews!', 'Fine dining in Hakani...</td>\n",
       "      <td>/Restaurant_Review-g189934-d6674944-Reviews-Ra...</td>\n",
       "      <td>d6674944</td>\n",
       "    </tr>\n",
       "    <tr>\n",
       "      <th>2</th>\n",
       "      <td>id_2</td>\n",
       "      <td>Edinburgh</td>\n",
       "      <td>['Vegetarian Friendly']</td>\n",
       "      <td>810.0</td>\n",
       "      <td>$$ - $$$</td>\n",
       "      <td>28.0</td>\n",
       "      <td>[['Better than the Links', 'Ivy Black'], ['12/...</td>\n",
       "      <td>/Restaurant_Review-g186525-d13129638-Reviews-B...</td>\n",
       "      <td>d13129638</td>\n",
       "    </tr>\n",
       "    <tr>\n",
       "      <th>3</th>\n",
       "      <td>id_3</td>\n",
       "      <td>London</td>\n",
       "      <td>['Italian', 'Mediterranean', 'European', 'Vege...</td>\n",
       "      <td>1669.0</td>\n",
       "      <td>$$$$</td>\n",
       "      <td>202.0</td>\n",
       "      <td>[['Most exquisite', 'Delicious and authentic']...</td>\n",
       "      <td>/Restaurant_Review-g186338-d680417-Reviews-Qui...</td>\n",
       "      <td>d680417</td>\n",
       "    </tr>\n",
       "    <tr>\n",
       "      <th>4</th>\n",
       "      <td>id_4</td>\n",
       "      <td>Bratislava</td>\n",
       "      <td>['Italian', 'Mediterranean', 'European', 'Seaf...</td>\n",
       "      <td>37.0</td>\n",
       "      <td>$$$$</td>\n",
       "      <td>162.0</td>\n",
       "      <td>[['Always the best in bratislava', 'Very good ...</td>\n",
       "      <td>/Restaurant_Review-g274924-d1112354-Reviews-Ma...</td>\n",
       "      <td>d1112354</td>\n",
       "    </tr>\n",
       "  </tbody>\n",
       "</table>\n",
       "</div>"
      ],
      "text/plain": [
       "  Restaurant_id        City  \\\n",
       "0          id_0       Paris   \n",
       "1          id_1    Helsinki   \n",
       "2          id_2   Edinburgh   \n",
       "3          id_3      London   \n",
       "4          id_4  Bratislava   \n",
       "\n",
       "                                       Cuisine Style  Ranking Price Range  \\\n",
       "0                                     ['Bar', 'Pub']  12963.0    $$ - $$$   \n",
       "1  ['European', 'Scandinavian', 'Gluten Free Opti...    106.0    $$ - $$$   \n",
       "2                            ['Vegetarian Friendly']    810.0    $$ - $$$   \n",
       "3  ['Italian', 'Mediterranean', 'European', 'Vege...   1669.0        $$$$   \n",
       "4  ['Italian', 'Mediterranean', 'European', 'Seaf...     37.0        $$$$   \n",
       "\n",
       "   Number of Reviews                                            Reviews  \\\n",
       "0                4.0                                           [[], []]   \n",
       "1               97.0  [['Very good reviews!', 'Fine dining in Hakani...   \n",
       "2               28.0  [['Better than the Links', 'Ivy Black'], ['12/...   \n",
       "3              202.0  [['Most exquisite', 'Delicious and authentic']...   \n",
       "4              162.0  [['Always the best in bratislava', 'Very good ...   \n",
       "\n",
       "                                              URL_TA      ID_TA  \n",
       "0  /Restaurant_Review-g187147-d10746918-Reviews-L...  d10746918  \n",
       "1  /Restaurant_Review-g189934-d6674944-Reviews-Ra...   d6674944  \n",
       "2  /Restaurant_Review-g186525-d13129638-Reviews-B...  d13129638  \n",
       "3  /Restaurant_Review-g186338-d680417-Reviews-Qui...    d680417  \n",
       "4  /Restaurant_Review-g274924-d1112354-Reviews-Ma...   d1112354  "
      ]
     },
     "execution_count": 132,
     "metadata": {},
     "output_type": "execute_result"
    }
   ],
   "source": [
    "df_test.head()"
   ]
  },
  {
   "cell_type": "markdown",
   "metadata": {},
   "source": [
    "ВАЖНО! Для корректной обработки признаков объединяем train и test в один датасет:"
   ]
  },
  {
   "cell_type": "code",
   "execution_count": 236,
   "metadata": {},
   "outputs": [],
   "source": [
    "df_train['sample'] = 1 # помечаем, где у нас train;\n",
    "df_test['sample'] = 0 # помечаем, где у нас test;\n",
    "df_test['Rating'] = 0 # в test у нас нет значения Rating, мы его должны предсказать, поэтому пока просто заполняем нулями.\n",
    "\n",
    "data = df_test.append(df_train, sort=False).reset_index(drop=True)"
   ]
  },
  {
   "cell_type": "markdown",
   "metadata": {},
   "source": [
    "Посмотрим на данные:"
   ]
  },
  {
   "cell_type": "code",
   "execution_count": 134,
   "metadata": {},
   "outputs": [
    {
     "data": {
      "text/html": [
       "<div>\n",
       "<style scoped>\n",
       "    .dataframe tbody tr th:only-of-type {\n",
       "        vertical-align: middle;\n",
       "    }\n",
       "\n",
       "    .dataframe tbody tr th {\n",
       "        vertical-align: top;\n",
       "    }\n",
       "\n",
       "    .dataframe thead th {\n",
       "        text-align: right;\n",
       "    }\n",
       "</style>\n",
       "<table border=\"1\" class=\"dataframe\">\n",
       "  <thead>\n",
       "    <tr style=\"text-align: right;\">\n",
       "      <th></th>\n",
       "      <th>Restaurant_id</th>\n",
       "      <th>City</th>\n",
       "      <th>Cuisine Style</th>\n",
       "      <th>Ranking</th>\n",
       "      <th>Price Range</th>\n",
       "      <th>Number of Reviews</th>\n",
       "      <th>Reviews</th>\n",
       "      <th>URL_TA</th>\n",
       "      <th>ID_TA</th>\n",
       "      <th>sample</th>\n",
       "      <th>Rating</th>\n",
       "    </tr>\n",
       "  </thead>\n",
       "  <tbody>\n",
       "    <tr>\n",
       "      <th>39319</th>\n",
       "      <td>id_911</td>\n",
       "      <td>Rome</td>\n",
       "      <td>['Italian', 'Mediterranean', 'Vegetarian Frien...</td>\n",
       "      <td>912.0</td>\n",
       "      <td>$</td>\n",
       "      <td>372.0</td>\n",
       "      <td>[['Great restaurant', 'My best dinner in Rome'...</td>\n",
       "      <td>/Restaurant_Review-g187791-d2441917-Reviews-Os...</td>\n",
       "      <td>d2441917</td>\n",
       "      <td>1</td>\n",
       "      <td>4.0</td>\n",
       "    </tr>\n",
       "    <tr>\n",
       "      <th>27918</th>\n",
       "      <td>id_6680</td>\n",
       "      <td>London</td>\n",
       "      <td>['Cafe', 'Vegetarian Friendly']</td>\n",
       "      <td>6689.0</td>\n",
       "      <td>$</td>\n",
       "      <td>39.0</td>\n",
       "      <td>[['Tongue Tantalising', 'Lovely fresh salads']...</td>\n",
       "      <td>/Restaurant_Review-g186338-d6167537-Reviews-Le...</td>\n",
       "      <td>d6167537</td>\n",
       "      <td>1</td>\n",
       "      <td>4.0</td>\n",
       "    </tr>\n",
       "    <tr>\n",
       "      <th>10816</th>\n",
       "      <td>id_2228</td>\n",
       "      <td>Prague</td>\n",
       "      <td>['Cafe']</td>\n",
       "      <td>2233.0</td>\n",
       "      <td>$$ - $$$</td>\n",
       "      <td>11.0</td>\n",
       "      <td>[['TERRIBLE STAFF', 'Nice change'], ['04/29/20...</td>\n",
       "      <td>/Restaurant_Review-g274707-d10412920-Reviews-C...</td>\n",
       "      <td>d10412920</td>\n",
       "      <td>1</td>\n",
       "      <td>4.0</td>\n",
       "    </tr>\n",
       "    <tr>\n",
       "      <th>24012</th>\n",
       "      <td>id_11390</td>\n",
       "      <td>London</td>\n",
       "      <td>['Bar', 'Pub', 'Italian', 'Mediterranean']</td>\n",
       "      <td>11400.0</td>\n",
       "      <td>$$ - $$$</td>\n",
       "      <td>15.0</td>\n",
       "      <td>[['Great pub and great beers!', 'Bella!'], ['0...</td>\n",
       "      <td>/Restaurant_Review-g186338-d4366865-Reviews-La...</td>\n",
       "      <td>d4366865</td>\n",
       "      <td>1</td>\n",
       "      <td>3.5</td>\n",
       "    </tr>\n",
       "    <tr>\n",
       "      <th>27625</th>\n",
       "      <td>id_3155</td>\n",
       "      <td>London</td>\n",
       "      <td>['Bar', 'British', 'Pub', 'Vegetarian Friendly']</td>\n",
       "      <td>3161.0</td>\n",
       "      <td>$$ - $$$</td>\n",
       "      <td>158.0</td>\n",
       "      <td>[['Great pub', 'Nice place, good food'], ['12/...</td>\n",
       "      <td>/Restaurant_Review-g186338-d3308333-Reviews-Th...</td>\n",
       "      <td>d3308333</td>\n",
       "      <td>1</td>\n",
       "      <td>4.0</td>\n",
       "    </tr>\n",
       "  </tbody>\n",
       "</table>\n",
       "</div>"
      ],
      "text/plain": [
       "      Restaurant_id    City  \\\n",
       "39319        id_911    Rome   \n",
       "27918       id_6680  London   \n",
       "10816       id_2228  Prague   \n",
       "24012      id_11390  London   \n",
       "27625       id_3155  London   \n",
       "\n",
       "                                           Cuisine Style  Ranking Price Range  \\\n",
       "39319  ['Italian', 'Mediterranean', 'Vegetarian Frien...    912.0           $   \n",
       "27918                    ['Cafe', 'Vegetarian Friendly']   6689.0           $   \n",
       "10816                                           ['Cafe']   2233.0    $$ - $$$   \n",
       "24012         ['Bar', 'Pub', 'Italian', 'Mediterranean']  11400.0    $$ - $$$   \n",
       "27625   ['Bar', 'British', 'Pub', 'Vegetarian Friendly']   3161.0    $$ - $$$   \n",
       "\n",
       "       Number of Reviews                                            Reviews  \\\n",
       "39319              372.0  [['Great restaurant', 'My best dinner in Rome'...   \n",
       "27918               39.0  [['Tongue Tantalising', 'Lovely fresh salads']...   \n",
       "10816               11.0  [['TERRIBLE STAFF', 'Nice change'], ['04/29/20...   \n",
       "24012               15.0  [['Great pub and great beers!', 'Bella!'], ['0...   \n",
       "27625              158.0  [['Great pub', 'Nice place, good food'], ['12/...   \n",
       "\n",
       "                                                  URL_TA      ID_TA  sample  \\\n",
       "39319  /Restaurant_Review-g187791-d2441917-Reviews-Os...   d2441917       1   \n",
       "27918  /Restaurant_Review-g186338-d6167537-Reviews-Le...   d6167537       1   \n",
       "10816  /Restaurant_Review-g274707-d10412920-Reviews-C...  d10412920       1   \n",
       "24012  /Restaurant_Review-g186338-d4366865-Reviews-La...   d4366865       1   \n",
       "27625  /Restaurant_Review-g186338-d3308333-Reviews-Th...   d3308333       1   \n",
       "\n",
       "       Rating  \n",
       "39319     4.0  \n",
       "27918     4.0  \n",
       "10816     4.0  \n",
       "24012     3.5  \n",
       "27625     4.0  "
      ]
     },
     "execution_count": 134,
     "metadata": {},
     "output_type": "execute_result"
    }
   ],
   "source": [
    "data.sample(5)"
   ]
  },
  {
   "cell_type": "code",
   "execution_count": 135,
   "metadata": {},
   "outputs": [
    {
     "data": {
      "text/plain": [
       "(50000, 11)"
      ]
     },
     "execution_count": 135,
     "metadata": {},
     "output_type": "execute_result"
    }
   ],
   "source": [
    "data.shape"
   ]
  },
  {
   "cell_type": "code",
   "execution_count": 136,
   "metadata": {},
   "outputs": [
    {
     "name": "stdout",
     "output_type": "stream",
     "text": [
      "<class 'pandas.core.frame.DataFrame'>\n",
      "RangeIndex: 50000 entries, 0 to 49999\n",
      "Data columns (total 11 columns):\n",
      " #   Column             Non-Null Count  Dtype  \n",
      "---  ------             --------------  -----  \n",
      " 0   Restaurant_id      50000 non-null  object \n",
      " 1   City               50000 non-null  object \n",
      " 2   Cuisine Style      38410 non-null  object \n",
      " 3   Ranking            50000 non-null  float64\n",
      " 4   Price Range        32639 non-null  object \n",
      " 5   Number of Reviews  46800 non-null  float64\n",
      " 6   Reviews            49998 non-null  object \n",
      " 7   URL_TA             50000 non-null  object \n",
      " 8   ID_TA              50000 non-null  object \n",
      " 9   sample             50000 non-null  int64  \n",
      " 10  Rating             50000 non-null  float64\n",
      "dtypes: float64(3), int64(1), object(7)\n",
      "memory usage: 4.2+ MB\n"
     ]
    }
   ],
   "source": [
    "data.info()"
   ]
  },
  {
   "cell_type": "markdown",
   "metadata": {},
   "source": [
    "#### Признаки датасета:"
   ]
  },
  {
   "cell_type": "markdown",
   "metadata": {},
   "source": [
    "- Restaurant_id — идентификационный номер ресторана;\n",
    "- City — город, в котором находится ресторан;\n",
    "- Cuisine Style — кухня или кухни, к которым можно отнести блюда, предлагаемые в ресторане;\n",
    "- Ranking — место, которое занимает данный ресторан среди всех ресторанов своего города;\n",
    "- Rating — рейтинг ресторана по данным TripAdvisor (именно это значение должна будет предсказывать модель);\n",
    "- Price Range — диапазон цен в ресторане;\n",
    "- Number of Reviews — количество отзывов о ресторане;\n",
    "- Reviews — данные о двух отзывах, которые отображаются на сайте ресторана;\n",
    "- URL_TA — URL страницы ресторана на TripAdvisor;\n",
    "- ID_TA — идентификатор ресторана в базе данных TripAdvisor.\n"
   ]
  },
  {
   "cell_type": "markdown",
   "metadata": {},
   "source": [
    "Приведем названия признаков к общему виду, для более удобной работы:"
   ]
  },
  {
   "cell_type": "code",
   "execution_count": 137,
   "metadata": {},
   "outputs": [],
   "source": [
    "data.columns = ['_'.join(col.split()).lower() for col in data.columns]"
   ]
  },
  {
   "cell_type": "markdown",
   "metadata": {},
   "source": [
    "Посмотрим на уникальность данных:"
   ]
  },
  {
   "cell_type": "code",
   "execution_count": 138,
   "metadata": {},
   "outputs": [
    {
     "data": {
      "text/plain": [
       "restaurant_id        13094\n",
       "city                    31\n",
       "cuisine_style        10731\n",
       "ranking              12975\n",
       "price_range              3\n",
       "number_of_reviews     1573\n",
       "reviews              41857\n",
       "url_ta               49963\n",
       "id_ta                49963\n",
       "sample                   2\n",
       "rating                  10\n",
       "dtype: int64"
      ]
     },
     "execution_count": 138,
     "metadata": {},
     "output_type": "execute_result"
    }
   ],
   "source": [
    "data.nunique()"
   ]
  },
  {
   "cell_type": "markdown",
   "metadata": {},
   "source": [
    "Как видно, такие признаки как restaurant_id, utl_ta, id_ta, которые якобы должны быть уникальными, имеют дубли.\n",
    "Возможные причины:\n",
    "\n",
    "- ошибки в данных, например, если датасет собирался из разных источников;\n",
    "- ресторан является сетевым и под одним id находится несколько филиалов в разных локациях."
   ]
  },
  {
   "cell_type": "markdown",
   "metadata": {},
   "source": [
    "Как видим, большинство признаков у нас требует очистки и предварительной обработки"
   ]
  },
  {
   "cell_type": "code",
   "execution_count": 139,
   "metadata": {
    "scrolled": true
   },
   "outputs": [
    {
     "data": {
      "text/plain": [
       "\"[['Very good reviews!', 'Fine dining in Hakaniemi'], ['12/05/2017', '10/29/2017']]\""
      ]
     },
     "execution_count": 139,
     "metadata": {},
     "output_type": "execute_result"
    }
   ],
   "source": [
    "data.reviews[1]"
   ]
  },
  {
   "cell_type": "markdown",
   "metadata": {},
   "source": [
    "# Data Preparation\n",
    "Обычно данные содержат в себе кучу мусора, который необходимо почистить, для того чтобы привести их в приемлемый формат. Чистка данных — это необходимый этап решения любой реальной задачи.\n",
    "![](https://www.aramar.co.uk/getmedia/115f9d70-637f-4b9a-9385-560fb542d8c9/data-analytics.png.aspx?ext=.png&width=500)"
   ]
  },
  {
   "cell_type": "code",
   "execution_count": 140,
   "metadata": {},
   "outputs": [
    {
     "name": "stdout",
     "output_type": "stream",
     "text": [
      "<class 'pandas.core.frame.DataFrame'>\n",
      "RangeIndex: 50000 entries, 0 to 49999\n",
      "Data columns (total 11 columns):\n",
      " #   Column             Non-Null Count  Dtype  \n",
      "---  ------             --------------  -----  \n",
      " 0   restaurant_id      50000 non-null  object \n",
      " 1   city               50000 non-null  object \n",
      " 2   cuisine_style      38410 non-null  object \n",
      " 3   ranking            50000 non-null  float64\n",
      " 4   price_range        32639 non-null  object \n",
      " 5   number_of_reviews  46800 non-null  float64\n",
      " 6   reviews            49998 non-null  object \n",
      " 7   url_ta             50000 non-null  object \n",
      " 8   id_ta              50000 non-null  object \n",
      " 9   sample             50000 non-null  int64  \n",
      " 10  rating             50000 non-null  float64\n",
      "dtypes: float64(3), int64(1), object(7)\n",
      "memory usage: 4.2+ MB\n"
     ]
    }
   ],
   "source": [
    "data.info()"
   ]
  },
  {
   "cell_type": "markdown",
   "metadata": {},
   "source": [
    "## 1. NAN Values Processing\n",
    "У наличия пропусков могут быть разные причины, но пропуски нужно либо заполнить, либо исключить из набора данных. \n",
    "С пропусками нужно быть внимательными, так как **даже отсутствие информации может быть важным признаком!**   \n",
    "По этому перед обработкой NAN будем выносить информацию о наличии пропусков, как отдельный признак."
   ]
  },
  {
   "cell_type": "markdown",
   "metadata": {},
   "source": [
    "### 1.1. cuisine_style "
   ]
  },
  {
   "cell_type": "markdown",
   "metadata": {},
   "source": [
    "Создадим булевый признак, где 0 - пропуск, 1 - истинное значение:"
   ]
  },
  {
   "cell_type": "code",
   "execution_count": 141,
   "metadata": {},
   "outputs": [],
   "source": [
    "data['cuisine_style_NAN'] = pd.isna(data['cuisine_style']).astype('uint8')"
   ]
  },
  {
   "cell_type": "markdown",
   "metadata": {},
   "source": [
    "Пропуски в cuisine_style заменим на Other:"
   ]
  },
  {
   "cell_type": "code",
   "execution_count": 142,
   "metadata": {},
   "outputs": [],
   "source": [
    "data.cuisine_style = data.cuisine_style.fillna(\"['Other']\")"
   ]
  },
  {
   "cell_type": "markdown",
   "metadata": {},
   "source": [
    "Видим, что направление Other является самым встречаемым в датасете:"
   ]
  },
  {
   "cell_type": "code",
   "execution_count": 143,
   "metadata": {},
   "outputs": [
    {
     "data": {
      "text/plain": [
       "['Other']                                                                                                 11590\n",
       "['Italian']                                                                                                1332\n",
       "['French']                                                                                                 1019\n",
       "['Spanish']                                                                                                 860\n",
       "['French', 'European']                                                                                      503\n",
       "                                                                                                          ...  \n",
       "['Mediterranean', 'European', 'Spanish', 'Delicatessen', 'Vegetarian Friendly', 'Gluten Free Options']        1\n",
       "['Italian', 'Bar', 'Mediterranean', 'Pub']                                                                    1\n",
       "['Mediterranean', 'Spanish', 'International', 'Contemporary', 'Vegetarian Friendly']                          1\n",
       "['Fast Food', 'Barbecue', 'Turkish', 'Middle Eastern', 'Halal', 'Vegetarian Friendly']                        1\n",
       "['European', 'Portuguese', 'Steakhouse', 'Mediterranean']                                                     1\n",
       "Name: cuisine_style, Length: 10732, dtype: int64"
      ]
     },
     "execution_count": 143,
     "metadata": {},
     "output_type": "execute_result"
    }
   ],
   "source": [
    "data.cuisine_style.value_counts()"
   ]
  },
  {
   "cell_type": "code",
   "execution_count": 144,
   "metadata": {},
   "outputs": [
    {
     "name": "stdout",
     "output_type": "stream",
     "text": [
      "<class 'pandas.core.frame.DataFrame'>\n",
      "RangeIndex: 50000 entries, 0 to 49999\n",
      "Data columns (total 12 columns):\n",
      " #   Column             Non-Null Count  Dtype  \n",
      "---  ------             --------------  -----  \n",
      " 0   restaurant_id      50000 non-null  object \n",
      " 1   city               50000 non-null  object \n",
      " 2   cuisine_style      50000 non-null  object \n",
      " 3   ranking            50000 non-null  float64\n",
      " 4   price_range        32639 non-null  object \n",
      " 5   number_of_reviews  46800 non-null  float64\n",
      " 6   reviews            49998 non-null  object \n",
      " 7   url_ta             50000 non-null  object \n",
      " 8   id_ta              50000 non-null  object \n",
      " 9   sample             50000 non-null  int64  \n",
      " 10  rating             50000 non-null  float64\n",
      " 11  cuisine_style_NAN  50000 non-null  uint8  \n",
      "dtypes: float64(3), int64(1), object(7), uint8(1)\n",
      "memory usage: 4.2+ MB\n"
     ]
    }
   ],
   "source": [
    "data.info()"
   ]
  },
  {
   "cell_type": "markdown",
   "metadata": {},
   "source": [
    "### 1.2. price_range"
   ]
  },
  {
   "cell_type": "markdown",
   "metadata": {},
   "source": [
    "Посмотрим на частотность распределения значений признака price_range:"
   ]
  },
  {
   "cell_type": "code",
   "execution_count": 145,
   "metadata": {},
   "outputs": [
    {
     "data": {
      "text/plain": [
       "$$ - $$$    23041\n",
       "$            7816\n",
       "$$$$         1782\n",
       "Name: price_range, dtype: int64"
      ]
     },
     "execution_count": 145,
     "metadata": {},
     "output_type": "execute_result"
    }
   ],
   "source": [
    "data.price_range.value_counts(ascending=False)"
   ]
  },
  {
   "cell_type": "markdown",
   "metadata": {},
   "source": [
    "Для начала создадим булевый признак, где 0 - пропуск, 1 - истинное значение:"
   ]
  },
  {
   "cell_type": "code",
   "execution_count": 146,
   "metadata": {},
   "outputs": [],
   "source": [
    "data['price_range_NAN'] = pd.isna(data['price_range']).astype('uint8')"
   ]
  },
  {
   "cell_type": "markdown",
   "metadata": {},
   "source": [
    "Видим, что значение среднего уровня цен более, чем в 3 раза выше остальных.\n",
    "Заполним пропуски средним значением. Далее оценим, как это скажется на качестве модели."
   ]
  },
  {
   "cell_type": "code",
   "execution_count": 147,
   "metadata": {},
   "outputs": [],
   "source": [
    "data.price_range = data.price_range.fillna(value='$$ - $$$')"
   ]
  },
  {
   "cell_type": "code",
   "execution_count": 148,
   "metadata": {},
   "outputs": [
    {
     "name": "stdout",
     "output_type": "stream",
     "text": [
      "<class 'pandas.core.frame.DataFrame'>\n",
      "RangeIndex: 50000 entries, 0 to 49999\n",
      "Data columns (total 13 columns):\n",
      " #   Column             Non-Null Count  Dtype  \n",
      "---  ------             --------------  -----  \n",
      " 0   restaurant_id      50000 non-null  object \n",
      " 1   city               50000 non-null  object \n",
      " 2   cuisine_style      50000 non-null  object \n",
      " 3   ranking            50000 non-null  float64\n",
      " 4   price_range        50000 non-null  object \n",
      " 5   number_of_reviews  46800 non-null  float64\n",
      " 6   reviews            49998 non-null  object \n",
      " 7   url_ta             50000 non-null  object \n",
      " 8   id_ta              50000 non-null  object \n",
      " 9   sample             50000 non-null  int64  \n",
      " 10  rating             50000 non-null  float64\n",
      " 11  cuisine_style_NAN  50000 non-null  uint8  \n",
      " 12  price_range_NAN    50000 non-null  uint8  \n",
      "dtypes: float64(3), int64(1), object(7), uint8(2)\n",
      "memory usage: 4.3+ MB\n"
     ]
    }
   ],
   "source": [
    "data.info()"
   ]
  },
  {
   "cell_type": "markdown",
   "metadata": {},
   "source": [
    "### 1.3. number_of_reviews"
   ]
  },
  {
   "cell_type": "markdown",
   "metadata": {},
   "source": [
    "Cоздадим булевый признак, где 0 - пропуск, 1 - истинное значение:"
   ]
  },
  {
   "cell_type": "code",
   "execution_count": 149,
   "metadata": {},
   "outputs": [],
   "source": [
    "data['number_of_reviews_NAN'] = pd.isna(data['number_of_reviews']).astype('uint8')"
   ]
  },
  {
   "cell_type": "markdown",
   "metadata": {},
   "source": [
    "Заполним пропуски средним значением по городу.\n",
    "Для этого посчитаем среднее количество отзывов по городам:"
   ]
  },
  {
   "cell_type": "code",
   "execution_count": 150,
   "metadata": {},
   "outputs": [],
   "source": [
    "mean_num_rev = data.groupby('city').number_of_reviews.mean()\n",
    "\n",
    "data.number_of_reviews = data.apply(lambda row: mean_num_rev[row['city']] \n",
    "                                    if pd.isnull(row['number_of_reviews']) \\\n",
    "                                    else row['number_of_reviews'], axis=1)"
   ]
  },
  {
   "cell_type": "code",
   "execution_count": 151,
   "metadata": {},
   "outputs": [
    {
     "name": "stdout",
     "output_type": "stream",
     "text": [
      "<class 'pandas.core.frame.DataFrame'>\n",
      "RangeIndex: 50000 entries, 0 to 49999\n",
      "Data columns (total 14 columns):\n",
      " #   Column                 Non-Null Count  Dtype  \n",
      "---  ------                 --------------  -----  \n",
      " 0   restaurant_id          50000 non-null  object \n",
      " 1   city                   50000 non-null  object \n",
      " 2   cuisine_style          50000 non-null  object \n",
      " 3   ranking                50000 non-null  float64\n",
      " 4   price_range            50000 non-null  object \n",
      " 5   number_of_reviews      50000 non-null  float64\n",
      " 6   reviews                49998 non-null  object \n",
      " 7   url_ta                 50000 non-null  object \n",
      " 8   id_ta                  50000 non-null  object \n",
      " 9   sample                 50000 non-null  int64  \n",
      " 10  rating                 50000 non-null  float64\n",
      " 11  cuisine_style_NAN      50000 non-null  uint8  \n",
      " 12  price_range_NAN        50000 non-null  uint8  \n",
      " 13  number_of_reviews_NAN  50000 non-null  uint8  \n",
      "dtypes: float64(3), int64(1), object(7), uint8(3)\n",
      "memory usage: 4.3+ MB\n"
     ]
    }
   ],
   "source": [
    "data.info()"
   ]
  },
  {
   "cell_type": "markdown",
   "metadata": {},
   "source": [
    "### 1.4. reviews"
   ]
  },
  {
   "cell_type": "markdown",
   "metadata": {},
   "source": [
    "Посмотрим на частотность признака:"
   ]
  },
  {
   "cell_type": "code",
   "execution_count": 152,
   "metadata": {
    "scrolled": true
   },
   "outputs": [
    {
     "data": {
      "text/plain": [
       "[[], []]                                                                                                                   8112\n",
       "[['Nice restaurant in Madrid', 'Highly reccomended'], ['11/10/2017', '05/21/2017']]                                           2\n",
       "[['Simply Excellent!', 'Modern!'], ['10/22/2017', '08/29/2017']]                                                              2\n",
       "[['Happened to drop in', 'Right for a quick bite'], ['11/30/2016', '06/20/2015']]                                             2\n",
       "[['Visited the rooftop bar', 'SIXTH FLOOR ROOFTOP BUT YOU CAN ONLY SEE O...'], ['06/27/2017', '10/31/2017']]                  2\n",
       "                                                                                                                           ... \n",
       "[['Loved it- will return !!', 'Best family restaurant in D6'], ['10/20/2017', '09/28/2017']]                                  1\n",
       "[['Macarons!', 'Amazing Chocolate and Desserts'], ['11/04/2017', '09/02/2017']]                                               1\n",
       "[['Pricey, but a good location', 'Relaxing Coffee Shop'], ['01/19/2015', '12/27/2014']]                                       1\n",
       "[['Delicious food, great wine and a comfy has...', 'A lovely secret'], ['07/18/2017', '07/07/2017']]                          1\n",
       "[['Delicious Chinese food in heart of 10th Ar...', 'Dinner for the last night in Paris'], ['07/29/2017', '05/07/2017']]       1\n",
       "Name: reviews, Length: 41857, dtype: int64"
      ]
     },
     "execution_count": 152,
     "metadata": {},
     "output_type": "execute_result"
    }
   ],
   "source": [
    "data.reviews.value_counts()"
   ]
  },
  {
   "cell_type": "markdown",
   "metadata": {},
   "source": [
    "Видим, что 8112 строк в признаке reviews имеют пустые значения [[], []]. Заменим их на np.nan:"
   ]
  },
  {
   "cell_type": "code",
   "execution_count": 153,
   "metadata": {},
   "outputs": [],
   "source": [
    "data.reviews = data.reviews.apply(lambda string: np.nan if string == '[[], []]' else string)"
   ]
  },
  {
   "cell_type": "markdown",
   "metadata": {},
   "source": [
    "Cоздадим булевый признак, где 0 - пропуск, 1 - истинное значение:"
   ]
  },
  {
   "cell_type": "code",
   "execution_count": 154,
   "metadata": {},
   "outputs": [],
   "source": [
    "data['reviews_NAN'] = pd.isna(data['reviews']).astype('uint8')"
   ]
  },
  {
   "cell_type": "code",
   "execution_count": 155,
   "metadata": {},
   "outputs": [
    {
     "name": "stdout",
     "output_type": "stream",
     "text": [
      "<class 'pandas.core.frame.DataFrame'>\n",
      "RangeIndex: 50000 entries, 0 to 49999\n",
      "Data columns (total 15 columns):\n",
      " #   Column                 Non-Null Count  Dtype  \n",
      "---  ------                 --------------  -----  \n",
      " 0   restaurant_id          50000 non-null  object \n",
      " 1   city                   50000 non-null  object \n",
      " 2   cuisine_style          50000 non-null  object \n",
      " 3   ranking                50000 non-null  float64\n",
      " 4   price_range            50000 non-null  object \n",
      " 5   number_of_reviews      50000 non-null  float64\n",
      " 6   reviews                41886 non-null  object \n",
      " 7   url_ta                 50000 non-null  object \n",
      " 8   id_ta                  50000 non-null  object \n",
      " 9   sample                 50000 non-null  int64  \n",
      " 10  rating                 50000 non-null  float64\n",
      " 11  cuisine_style_NAN      50000 non-null  uint8  \n",
      " 12  price_range_NAN        50000 non-null  uint8  \n",
      " 13  number_of_reviews_NAN  50000 non-null  uint8  \n",
      " 14  reviews_NAN            50000 non-null  uint8  \n",
      "dtypes: float64(3), int64(1), object(7), uint8(4)\n",
      "memory usage: 4.4+ MB\n"
     ]
    }
   ],
   "source": [
    "data.info()"
   ]
  },
  {
   "cell_type": "markdown",
   "metadata": {},
   "source": [
    "## 2. Feature Engineering\n",
    "Генерация признаков – пожалуй, самый творческий этап подготовки данных для машинного обучения.\n",
    "\n",
    "![](https://user92966.clients-cdnnow.ru/upload/setka-editor/338/338b842ace08dc71b1d85f1436556ba6.png?15760576722437793)"
   ]
  },
  {
   "cell_type": "code",
   "execution_count": 156,
   "metadata": {},
   "outputs": [
    {
     "data": {
      "text/html": [
       "<div>\n",
       "<style scoped>\n",
       "    .dataframe tbody tr th:only-of-type {\n",
       "        vertical-align: middle;\n",
       "    }\n",
       "\n",
       "    .dataframe tbody tr th {\n",
       "        vertical-align: top;\n",
       "    }\n",
       "\n",
       "    .dataframe thead th {\n",
       "        text-align: right;\n",
       "    }\n",
       "</style>\n",
       "<table border=\"1\" class=\"dataframe\">\n",
       "  <thead>\n",
       "    <tr style=\"text-align: right;\">\n",
       "      <th></th>\n",
       "      <th>restaurant_id</th>\n",
       "      <th>city</th>\n",
       "      <th>cuisine_style</th>\n",
       "      <th>ranking</th>\n",
       "      <th>price_range</th>\n",
       "      <th>number_of_reviews</th>\n",
       "      <th>reviews</th>\n",
       "      <th>url_ta</th>\n",
       "      <th>id_ta</th>\n",
       "      <th>sample</th>\n",
       "      <th>rating</th>\n",
       "      <th>cuisine_style_NAN</th>\n",
       "      <th>price_range_NAN</th>\n",
       "      <th>number_of_reviews_NAN</th>\n",
       "      <th>reviews_NAN</th>\n",
       "    </tr>\n",
       "  </thead>\n",
       "  <tbody>\n",
       "    <tr>\n",
       "      <th>34821</th>\n",
       "      <td>id_1403</td>\n",
       "      <td>Barcelona</td>\n",
       "      <td>['Spanish', 'Mediterranean', 'European']</td>\n",
       "      <td>1404.0</td>\n",
       "      <td>$</td>\n",
       "      <td>75.000000</td>\n",
       "      <td>[['Good little fine!', 'Nice and friendly'], [...</td>\n",
       "      <td>/Restaurant_Review-g187497-d11743900-Reviews-T...</td>\n",
       "      <td>d11743900</td>\n",
       "      <td>1</td>\n",
       "      <td>4.0</td>\n",
       "      <td>0</td>\n",
       "      <td>0</td>\n",
       "      <td>0</td>\n",
       "      <td>0</td>\n",
       "    </tr>\n",
       "    <tr>\n",
       "      <th>6332</th>\n",
       "      <td>id_6332</td>\n",
       "      <td>Stockholm</td>\n",
       "      <td>['Other']</td>\n",
       "      <td>2424.0</td>\n",
       "      <td>$$ - $$$</td>\n",
       "      <td>75.197479</td>\n",
       "      <td>[['Poor ramen noodle soup'], ['11/30/2017']]</td>\n",
       "      <td>/Restaurant_Review-g189852-d13205700-Reviews-N...</td>\n",
       "      <td>d13205700</td>\n",
       "      <td>0</td>\n",
       "      <td>0.0</td>\n",
       "      <td>1</td>\n",
       "      <td>1</td>\n",
       "      <td>1</td>\n",
       "      <td>0</td>\n",
       "    </tr>\n",
       "    <tr>\n",
       "      <th>22438</th>\n",
       "      <td>id_6308</td>\n",
       "      <td>Paris</td>\n",
       "      <td>['Mexican', 'Latin', 'Central American', 'Vege...</td>\n",
       "      <td>6309.0</td>\n",
       "      <td>$$ - $$$</td>\n",
       "      <td>230.000000</td>\n",
       "      <td>[['Nice atmosphere. OK food. Expensive drin......</td>\n",
       "      <td>/Restaurant_Review-g187147-d718705-Reviews-La_...</td>\n",
       "      <td>d718705</td>\n",
       "      <td>1</td>\n",
       "      <td>3.5</td>\n",
       "      <td>0</td>\n",
       "      <td>0</td>\n",
       "      <td>0</td>\n",
       "      <td>0</td>\n",
       "    </tr>\n",
       "    <tr>\n",
       "      <th>10010</th>\n",
       "      <td>id_6578</td>\n",
       "      <td>Barcelona</td>\n",
       "      <td>['Other']</td>\n",
       "      <td>6579.0</td>\n",
       "      <td>$$ - $$$</td>\n",
       "      <td>6.000000</td>\n",
       "      <td>NaN</td>\n",
       "      <td>/Restaurant_Review-g187497-d10696479-Reviews-R...</td>\n",
       "      <td>d10696479</td>\n",
       "      <td>1</td>\n",
       "      <td>3.0</td>\n",
       "      <td>1</td>\n",
       "      <td>1</td>\n",
       "      <td>0</td>\n",
       "      <td>1</td>\n",
       "    </tr>\n",
       "    <tr>\n",
       "      <th>22743</th>\n",
       "      <td>id_2802</td>\n",
       "      <td>Berlin</td>\n",
       "      <td>['Other']</td>\n",
       "      <td>2804.0</td>\n",
       "      <td>$$ - $$$</td>\n",
       "      <td>19.000000</td>\n",
       "      <td>[['Small place n tasty food', 'Classic Donner'...</td>\n",
       "      <td>/Restaurant_Review-g187323-d1341422-Reviews-Bo...</td>\n",
       "      <td>d1341422</td>\n",
       "      <td>1</td>\n",
       "      <td>4.5</td>\n",
       "      <td>1</td>\n",
       "      <td>1</td>\n",
       "      <td>0</td>\n",
       "      <td>0</td>\n",
       "    </tr>\n",
       "  </tbody>\n",
       "</table>\n",
       "</div>"
      ],
      "text/plain": [
       "      restaurant_id       city  \\\n",
       "34821       id_1403  Barcelona   \n",
       "6332        id_6332  Stockholm   \n",
       "22438       id_6308      Paris   \n",
       "10010       id_6578  Barcelona   \n",
       "22743       id_2802     Berlin   \n",
       "\n",
       "                                           cuisine_style  ranking price_range  \\\n",
       "34821           ['Spanish', 'Mediterranean', 'European']   1404.0           $   \n",
       "6332                                           ['Other']   2424.0    $$ - $$$   \n",
       "22438  ['Mexican', 'Latin', 'Central American', 'Vege...   6309.0    $$ - $$$   \n",
       "10010                                          ['Other']   6579.0    $$ - $$$   \n",
       "22743                                          ['Other']   2804.0    $$ - $$$   \n",
       "\n",
       "       number_of_reviews                                            reviews  \\\n",
       "34821          75.000000  [['Good little fine!', 'Nice and friendly'], [...   \n",
       "6332           75.197479       [['Poor ramen noodle soup'], ['11/30/2017']]   \n",
       "22438         230.000000  [['Nice atmosphere. OK food. Expensive drin......   \n",
       "10010           6.000000                                                NaN   \n",
       "22743          19.000000  [['Small place n tasty food', 'Classic Donner'...   \n",
       "\n",
       "                                                  url_ta      id_ta  sample  \\\n",
       "34821  /Restaurant_Review-g187497-d11743900-Reviews-T...  d11743900       1   \n",
       "6332   /Restaurant_Review-g189852-d13205700-Reviews-N...  d13205700       0   \n",
       "22438  /Restaurant_Review-g187147-d718705-Reviews-La_...    d718705       1   \n",
       "10010  /Restaurant_Review-g187497-d10696479-Reviews-R...  d10696479       1   \n",
       "22743  /Restaurant_Review-g187323-d1341422-Reviews-Bo...   d1341422       1   \n",
       "\n",
       "       rating  cuisine_style_NAN  price_range_NAN  number_of_reviews_NAN  \\\n",
       "34821     4.0                  0                0                      0   \n",
       "6332      0.0                  1                1                      1   \n",
       "22438     3.5                  0                0                      0   \n",
       "10010     3.0                  1                1                      0   \n",
       "22743     4.5                  1                1                      0   \n",
       "\n",
       "       reviews_NAN  \n",
       "34821            0  \n",
       "6332             0  \n",
       "22438            0  \n",
       "10010            1  \n",
       "22743            0  "
      ]
     },
     "execution_count": 156,
     "metadata": {},
     "output_type": "execute_result"
    }
   ],
   "source": [
    "data.sample(5)"
   ]
  },
  {
   "cell_type": "markdown",
   "metadata": {},
   "source": [
    "### 2.1. restaurant_id, chain_restaurant"
   ]
  },
  {
   "cell_type": "markdown",
   "metadata": {},
   "source": [
    "Посмотрим на уникальность значений этого признака (помним, что общее число 50000):"
   ]
  },
  {
   "cell_type": "code",
   "execution_count": 157,
   "metadata": {},
   "outputs": [
    {
     "data": {
      "text/plain": [
       "13094"
      ]
     },
     "execution_count": 157,
     "metadata": {},
     "output_type": "execute_result"
    }
   ],
   "source": [
    "data.restaurant_id.nunique()"
   ]
  },
  {
   "cell_type": "markdown",
   "metadata": {},
   "source": [
    "Видим, что некоторые id повторяются. Делаем вывод, что в датасете также присутствуют данные сетевых ресторанов:"
   ]
  },
  {
   "cell_type": "code",
   "execution_count": 158,
   "metadata": {},
   "outputs": [
    {
     "data": {
      "text/plain": [
       "id_227      19\n",
       "id_871      19\n",
       "id_436      19\n",
       "id_633      19\n",
       "id_585      18\n",
       "            ..\n",
       "id_10171     1\n",
       "id_12050     1\n",
       "id_11967     1\n",
       "id_9460      1\n",
       "id_11593     1\n",
       "Name: restaurant_id, Length: 13094, dtype: int64"
      ]
     },
     "execution_count": 158,
     "metadata": {},
     "output_type": "execute_result"
    }
   ],
   "source": [
    "data.restaurant_id.value_counts()"
   ]
  },
  {
   "cell_type": "markdown",
   "metadata": {},
   "source": [
    "Создадим список сетевых ресторанов:"
   ]
  },
  {
   "cell_type": "code",
   "execution_count": 159,
   "metadata": {},
   "outputs": [],
   "source": [
    "chain_lst = list(data.restaurant_id.value_counts()[data.restaurant_id.value_counts() > 1].index)"
   ]
  },
  {
   "cell_type": "markdown",
   "metadata": {},
   "source": [
    "Теперь создадим новый признак для наших ресторанов, который будет обозначать принадлежность к сети: 1 - да, 0 - нет:"
   ]
  },
  {
   "cell_type": "code",
   "execution_count": 160,
   "metadata": {},
   "outputs": [],
   "source": [
    "data['chain_restaurant'] = data[data.restaurant_id.isin(chain_lst)].restaurant_id.apply(lambda x: 1)\n",
    "data['chain_restaurant'].fillna(0, inplace=True)"
   ]
  },
  {
   "cell_type": "markdown",
   "metadata": {},
   "source": [
    "Видим, что подавляющее большинство ресторанов являются частью сетевого бизнеса:"
   ]
  },
  {
   "cell_type": "code",
   "execution_count": 161,
   "metadata": {},
   "outputs": [
    {
     "data": {
      "text/plain": [
       "1.0    46193\n",
       "0.0     3807\n",
       "Name: chain_restaurant, dtype: int64"
      ]
     },
     "execution_count": 161,
     "metadata": {},
     "output_type": "execute_result"
    }
   ],
   "source": [
    "data.chain_restaurant.value_counts()"
   ]
  },
  {
   "cell_type": "markdown",
   "metadata": {},
   "source": [
    "### 2.2. city, city_population, capital, rest_count, dummy variables of city\n",
    "> Признак city - кладезь ценной информации, так как в общем доступе мы можем найти данные по статусу городов, их географическим особенностям, населении и другим параметрам. Теперь рассмотрим данные поближе и подумаем, что нам понадобится."
   ]
  },
  {
   "cell_type": "markdown",
   "metadata": {},
   "source": [
    "В этом признаке содержится 31 уникаьлное значение - сравнительно немного:"
   ]
  },
  {
   "cell_type": "code",
   "execution_count": 162,
   "metadata": {},
   "outputs": [
    {
     "data": {
      "text/plain": [
       "31"
      ]
     },
     "execution_count": 162,
     "metadata": {},
     "output_type": "execute_result"
    }
   ],
   "source": [
    "data.city.nunique()"
   ]
  },
  {
   "cell_type": "markdown",
   "metadata": {},
   "source": [
    "Видим, что в списке представлены крупные европейские города, многие из которых являются ещё и столицами:"
   ]
  },
  {
   "cell_type": "code",
   "execution_count": 163,
   "metadata": {},
   "outputs": [
    {
     "data": {
      "text/plain": [
       "London        7193\n",
       "Paris         6108\n",
       "Madrid        3813\n",
       "Barcelona     3395\n",
       "Berlin        2705\n",
       "Milan         2694\n",
       "Rome          2589\n",
       "Prague        1816\n",
       "Lisbon        1647\n",
       "Vienna        1443\n",
       "Amsterdam     1372\n",
       "Brussels      1314\n",
       "Hamburg       1186\n",
       "Munich        1145\n",
       "Lyon          1126\n",
       "Stockholm     1033\n",
       "Budapest      1021\n",
       "Warsaw         925\n",
       "Dublin         836\n",
       "Copenhagen     819\n",
       "Athens         776\n",
       "Edinburgh      745\n",
       "Zurich         685\n",
       "Oporto         642\n",
       "Geneva         590\n",
       "Krakow         554\n",
       "Oslo           488\n",
       "Helsinki       475\n",
       "Bratislava     380\n",
       "Luxembourg     263\n",
       "Ljubljana      222\n",
       "Name: city, dtype: int64"
      ]
     },
     "execution_count": 163,
     "metadata": {},
     "output_type": "execute_result"
    }
   ],
   "source": [
    "data.city.value_counts()"
   ]
  },
  {
   "cell_type": "markdown",
   "metadata": {},
   "source": [
    "Поменяем название португальского Порто на интернациональное - Porto:"
   ]
  },
  {
   "cell_type": "code",
   "execution_count": 164,
   "metadata": {},
   "outputs": [],
   "source": [
    "data.replace({'city': {'Oporto':'Porto'}}, inplace=True)"
   ]
  },
  {
   "cell_type": "markdown",
   "metadata": {},
   "source": [
    "Благодаря гистограмме наглядно видно, что в тройку самых развитых городов с точки зрения ресторанного бизнеса входят Лондон, Париж и Мадрид:"
   ]
  },
  {
   "cell_type": "code",
   "execution_count": 165,
   "metadata": {
    "scrolled": true
   },
   "outputs": [
    {
     "data": {
      "text/plain": [
       "<matplotlib.axes._subplots.AxesSubplot at 0x7fb849e3d310>"
      ]
     },
     "execution_count": 165,
     "metadata": {},
     "output_type": "execute_result"
    },
    {
     "data": {
      "image/png": "[encoded data removed]",
      "text/plain": [
       "<Figure size 1080x360 with 1 Axes>"
      ]
     },
     "metadata": {
      "needs_background": "light"
     },
     "output_type": "display_data"
    }
   ],
   "source": [
    "plt.figure(figsize=(15,5))\n",
    "data.city.value_counts(ascending=False).plot(kind='bar', color='orange')"
   ]
  },
  {
   "cell_type": "markdown",
   "metadata": {},
   "source": [
    "Добавим в наш датасет информацию о населении в каждом рассматриваемом городе. Данные берём за 2018 год (так как остальные данные именно 2018 года) на портале: https://worldpopulationreview.com"
   ]
  },
  {
   "cell_type": "code",
   "execution_count": 166,
   "metadata": {},
   "outputs": [],
   "source": [
    "city_population_dict = {\n",
    "            'London': 9046485,\n",
    "            'Paris': 10900952,\n",
    "            'Madrid': 6497124,\n",
    "            'Barcelona': 5494125,\n",
    "            'Berlin': 3552123, \n",
    "            'Milan': 3132060,\n",
    "            'Rome': 4209710,\n",
    "            'Prague': 1291552,\n",
    "            'Lisbon': 2927316,\n",
    "            'Vienna': 1900547,\n",
    "            'Amsterdam': 1131690,\n",
    "            'Brussels': 2049510,\n",
    "            'Hamburg': 1792904,\n",
    "            'Munich': 1503708,\n",
    "            'Lyon': 1690105,\n",
    "            'Stockholm': 1582968,\n",
    "            'Budapest': 1759497,\n",
    "            'Warsaw': 1767798,\n",
    "            'Dublin': 1201426,\n",
    "            'Copenhagen': 1320826,\n",
    "            'Athens': 3155600,\n",
    "            'Edinburgh': 524639,\n",
    "            'Zurich': 1370779,\n",
    "            'Porto': 1306934,\n",
    "            'Geneva': 599376,\n",
    "            'Krakow': 767178,\n",
    "            'Oslo': 1012225,\n",
    "            'Helsinki': 1279096,\n",
    "            'Bratislava': 429920,\n",
    "            'Luxembourg': 115227,\n",
    "            'Ljubljana': 288307\n",
    " }"
   ]
  },
  {
   "cell_type": "markdown",
   "metadata": {},
   "source": [
    "Обращаем внимание на вполне логичную пропорциональность - чем гуще населён город, тем больше ресторанов (+/-). \n",
    "Создаём новый признак:"
   ]
  },
  {
   "cell_type": "code",
   "execution_count": 167,
   "metadata": {},
   "outputs": [],
   "source": [
    "data['city_population'] = data['city'].map(city_population_dict)"
   ]
  },
  {
   "cell_type": "markdown",
   "metadata": {},
   "source": [
    "Также создадим новый признак, который будет указывать, являетлся ли город столицей (1 - да, 0 - нет):"
   ]
  },
  {
   "cell_type": "code",
   "execution_count": 168,
   "metadata": {},
   "outputs": [],
   "source": [
    "capitals_lst = ['London', 'Paris', 'Madrid', 'Berlin', 'Rome', 'Prague', 'Lisbon', 'Vienna', 'Amsterdam', \n",
    "                'Brussels', 'Stockholm','Budapest', 'Warsaw', 'Dublin', 'Copenhagen', 'Athens', \n",
    "                'Edinburgh', 'Oslo', 'Helsinki', 'Bratislava', 'Luxemburg', 'Ljubljana']\n",
    "\n",
    "data['capital'] = data['city'].apply(lambda x: 1 if x in capitals_lst else 0)"
   ]
  },
  {
   "cell_type": "markdown",
   "metadata": {},
   "source": [
    "Теперь создадим новый признак rest_count, который будет содержать инфо о количестве ресторанов в том или ином городе:"
   ]
  },
  {
   "cell_type": "code",
   "execution_count": 169,
   "metadata": {},
   "outputs": [],
   "source": [
    "rest_count_dict = dict(data['city'].value_counts())\n",
    "data['rest_count'] = data['city'].map(rest_count_dict)"
   ]
  },
  {
   "cell_type": "markdown",
   "metadata": {},
   "source": [
    "Создадим на всякий случай дубль признака city перед созданием dummy переменных:"
   ]
  },
  {
   "cell_type": "code",
   "execution_count": 170,
   "metadata": {},
   "outputs": [],
   "source": [
    "data['city1'] = data.city"
   ]
  },
  {
   "cell_type": "markdown",
   "metadata": {},
   "source": [
    "Признак city категориальный, поэтому преобразуем его в числовой формат с помощью метода One-Hot Encoding средствами Python:"
   ]
  },
  {
   "cell_type": "code",
   "execution_count": 171,
   "metadata": {},
   "outputs": [],
   "source": [
    "data = pd.get_dummies(data,columns=['city'], dummy_na=True)"
   ]
  },
  {
   "cell_type": "markdown",
   "metadata": {},
   "source": [
    "Удаляем столбец city_nan, так как он имеет только нулевые значения:"
   ]
  },
  {
   "cell_type": "code",
   "execution_count": 172,
   "metadata": {},
   "outputs": [],
   "source": [
    "data.drop(['city_nan'], axis='columns', inplace=True)"
   ]
  },
  {
   "cell_type": "code",
   "execution_count": 173,
   "metadata": {},
   "outputs": [
    {
     "name": "stdout",
     "output_type": "stream",
     "text": [
      "<class 'pandas.core.frame.DataFrame'>\n",
      "RangeIndex: 50000 entries, 0 to 49999\n",
      "Data columns (total 50 columns):\n",
      " #   Column                 Non-Null Count  Dtype  \n",
      "---  ------                 --------------  -----  \n",
      " 0   restaurant_id          50000 non-null  object \n",
      " 1   cuisine_style          50000 non-null  object \n",
      " 2   ranking                50000 non-null  float64\n",
      " 3   price_range            50000 non-null  object \n",
      " 4   number_of_reviews      50000 non-null  float64\n",
      " 5   reviews                41886 non-null  object \n",
      " 6   url_ta                 50000 non-null  object \n",
      " 7   id_ta                  50000 non-null  object \n",
      " 8   sample                 50000 non-null  int64  \n",
      " 9   rating                 50000 non-null  float64\n",
      " 10  cuisine_style_NAN      50000 non-null  uint8  \n",
      " 11  price_range_NAN        50000 non-null  uint8  \n",
      " 12  number_of_reviews_NAN  50000 non-null  uint8  \n",
      " 13  reviews_NAN            50000 non-null  uint8  \n",
      " 14  chain_restaurant       50000 non-null  float64\n",
      " 15  city_population        50000 non-null  int64  \n",
      " 16  capital                50000 non-null  int64  \n",
      " 17  rest_count             50000 non-null  int64  \n",
      " 18  city1                  50000 non-null  object \n",
      " 19  city_Amsterdam         50000 non-null  uint8  \n",
      " 20  city_Athens            50000 non-null  uint8  \n",
      " 21  city_Barcelona         50000 non-null  uint8  \n",
      " 22  city_Berlin            50000 non-null  uint8  \n",
      " 23  city_Bratislava        50000 non-null  uint8  \n",
      " 24  city_Brussels          50000 non-null  uint8  \n",
      " 25  city_Budapest          50000 non-null  uint8  \n",
      " 26  city_Copenhagen        50000 non-null  uint8  \n",
      " 27  city_Dublin            50000 non-null  uint8  \n",
      " 28  city_Edinburgh         50000 non-null  uint8  \n",
      " 29  city_Geneva            50000 non-null  uint8  \n",
      " 30  city_Hamburg           50000 non-null  uint8  \n",
      " 31  city_Helsinki          50000 non-null  uint8  \n",
      " 32  city_Krakow            50000 non-null  uint8  \n",
      " 33  city_Lisbon            50000 non-null  uint8  \n",
      " 34  city_Ljubljana         50000 non-null  uint8  \n",
      " 35  city_London            50000 non-null  uint8  \n",
      " 36  city_Luxembourg        50000 non-null  uint8  \n",
      " 37  city_Lyon              50000 non-null  uint8  \n",
      " 38  city_Madrid            50000 non-null  uint8  \n",
      " 39  city_Milan             50000 non-null  uint8  \n",
      " 40  city_Munich            50000 non-null  uint8  \n",
      " 41  city_Oslo              50000 non-null  uint8  \n",
      " 42  city_Paris             50000 non-null  uint8  \n",
      " 43  city_Porto             50000 non-null  uint8  \n",
      " 44  city_Prague            50000 non-null  uint8  \n",
      " 45  city_Rome              50000 non-null  uint8  \n",
      " 46  city_Stockholm         50000 non-null  uint8  \n",
      " 47  city_Vienna            50000 non-null  uint8  \n",
      " 48  city_Warsaw            50000 non-null  uint8  \n",
      " 49  city_Zurich            50000 non-null  uint8  \n",
      "dtypes: float64(4), int64(4), object(7), uint8(35)\n",
      "memory usage: 7.4+ MB\n"
     ]
    }
   ],
   "source": [
    "data.info()"
   ]
  },
  {
   "cell_type": "markdown",
   "metadata": {},
   "source": [
    "### 2.3. cuisine_style, cuisine_count, unique_cuisine, dummy variables of cuisine_style"
   ]
  },
  {
   "cell_type": "markdown",
   "metadata": {},
   "source": [
    "Посмотрим поближе на содержание переменной cuisine_style:"
   ]
  },
  {
   "cell_type": "code",
   "execution_count": 174,
   "metadata": {},
   "outputs": [
    {
     "data": {
      "text/plain": [
       "\"['European', 'Scandinavian', 'Gluten Free Options', 'Vegetarian Friendly', 'Vegan Options']\""
      ]
     },
     "execution_count": 174,
     "metadata": {},
     "output_type": "execute_result"
    }
   ],
   "source": [
    "data.cuisine_style[1]"
   ]
  },
  {
   "cell_type": "markdown",
   "metadata": {},
   "source": [
    "Данные имеют строковый тип:"
   ]
  },
  {
   "cell_type": "code",
   "execution_count": 175,
   "metadata": {},
   "outputs": [
    {
     "data": {
      "text/plain": [
       "str"
      ]
     },
     "execution_count": 175,
     "metadata": {},
     "output_type": "execute_result"
    }
   ],
   "source": [
    "type(data.cuisine_style[1])"
   ]
  },
  {
   "cell_type": "markdown",
   "metadata": {},
   "source": [
    "Переведем тип str в list:"
   ]
  },
  {
   "cell_type": "code",
   "execution_count": 176,
   "metadata": {},
   "outputs": [],
   "source": [
    "data.cuisine_style = data.cuisine_style.apply(lambda x: x.split(\",\") if type(x) == str else x)"
   ]
  },
  {
   "cell_type": "markdown",
   "metadata": {},
   "source": [
    "Уберём лишние символы:"
   ]
  },
  {
   "cell_type": "code",
   "execution_count": 177,
   "metadata": {},
   "outputs": [
    {
     "name": "stdout",
     "output_type": "stream",
     "text": [
      "['Italian', 'Mediterranean', 'European', 'Seafood', 'Vegetarian Friendly', 'Gluten Free Options']\n"
     ]
    }
   ],
   "source": [
    "for lst in data.cuisine_style:\n",
    "    if type(lst) == list:\n",
    "        for i in range(len(lst)):\n",
    "            lst[i] = lst[i].replace(\"[\", \"\").strip()\n",
    "            lst[i] = lst[i].replace(\"'\", \"\").strip()\n",
    "            lst[i] = lst[i].replace(\"]\", \"\").strip()            \n",
    "print(data.cuisine_style[4])"
   ]
  },
  {
   "cell_type": "markdown",
   "metadata": {},
   "source": [
    "Создадим признак cuisine_count - количество кухонь, предлагаемых в ресторане:"
   ]
  },
  {
   "cell_type": "code",
   "execution_count": 178,
   "metadata": {},
   "outputs": [],
   "source": [
    "data['cuisine_count'] = data.cuisine_style.apply(lambda x: len(x) if type(x) == list else x)"
   ]
  },
  {
   "cell_type": "markdown",
   "metadata": {},
   "source": [
    "Посмотрим на распределение нового признака:"
   ]
  },
  {
   "cell_type": "code",
   "execution_count": 179,
   "metadata": {},
   "outputs": [
    {
     "data": {
      "text/plain": [
       "<matplotlib.axes._subplots.AxesSubplot at 0x7fb8596358e0>"
      ]
     },
     "execution_count": 179,
     "metadata": {},
     "output_type": "execute_result"
    },
    {
     "data": {
      "image/png": "[encoded data removed]",
      "text/plain": [
       "<Figure size 432x288 with 1 Axes>"
      ]
     },
     "metadata": {
      "needs_background": "light"
     },
     "output_type": "display_data"
    }
   ],
   "source": [
    "data.cuisine_count.hist(bins=20, color='green')"
   ]
  },
  {
   "cell_type": "markdown",
   "metadata": {},
   "source": [
    "Создадим список кухонь по всем ресторанам:"
   ]
  },
  {
   "cell_type": "code",
   "execution_count": 180,
   "metadata": {},
   "outputs": [],
   "source": [
    "cuisine_lst = []\n",
    "\n",
    "for lst in data.cuisine_style:\n",
    "    if type(lst) == list:\n",
    "        for el in lst:\n",
    "            cuisine_lst.append(el)"
   ]
  },
  {
   "cell_type": "markdown",
   "metadata": {},
   "source": [
    "Видим, что кухни направлений Vegetarian Friendly и European лидируют, а Salvadoran и Xinjiang замыкают список:"
   ]
  },
  {
   "cell_type": "code",
   "execution_count": 181,
   "metadata": {},
   "outputs": [
    {
     "data": {
      "text/plain": [
       "Vegetarian Friendly    14021\n",
       "European               12561\n",
       "Other                  11590\n",
       "Mediterranean           7820\n",
       "Italian                 7433\n",
       "                       ...  \n",
       "Polynesian                 2\n",
       "Latvian                    1\n",
       "Salvadoran                 1\n",
       "Burmese                    1\n",
       "Xinjiang                   1\n",
       "Length: 126, dtype: int64"
      ]
     },
     "execution_count": 181,
     "metadata": {},
     "output_type": "execute_result"
    }
   ],
   "source": [
    "pd.Series(cuisine_lst).value_counts()"
   ]
  },
  {
   "cell_type": "markdown",
   "metadata": {},
   "source": [
    "Для дальнейшего обучения модели оставим только 60 самых популярных кухонь:"
   ]
  },
  {
   "cell_type": "code",
   "execution_count": 182,
   "metadata": {},
   "outputs": [
    {
     "name": "stdout",
     "output_type": "stream",
     "text": [
      "Популярные кухни: {'Bar', 'Chinese', 'American', 'British', 'Vietnamese', 'Scandinavian', 'Mexican', 'Czech', 'Delicatessen', 'Cafe', 'Sushi', 'French', 'International', 'Italian', 'Healthy', 'Fusion', 'Seafood', 'Swedish', 'Thai', 'Vegetarian Friendly', 'Central European', 'Greek', 'Wine Bar', 'German', 'Gluten Free Options', 'Contemporary', 'Asian', 'Halal', 'Indian', 'Irish', 'Belgian', 'Street Food', 'Eastern European', 'Danish', 'Japanese', 'Fast Food', 'Vegan Options', 'Spanish', 'Mediterranean', 'Gastropub', 'Hungarian', 'Steakhouse', 'European', 'Portuguese', 'Barbecue', 'Grill', 'Other', 'Brew Pub', 'Latin', 'Pub', 'Polish', 'Dutch', 'Lebanese', 'Diner', 'Austrian', 'South American', 'Soups', 'Middle Eastern', 'Pizza', 'Turkish'}\n"
     ]
    }
   ],
   "source": [
    "top_cuis = set(pd.Series(cuisine_lst).value_counts().head(60).index.to_list())\n",
    "print('Популярные кухни:', top_cuis)"
   ]
  },
  {
   "cell_type": "markdown",
   "metadata": {},
   "source": [
    "Кухни, встречающиеся меньше 50 раз, будем считать редкими. Их всего 42:"
   ]
  },
  {
   "cell_type": "code",
   "execution_count": 183,
   "metadata": {},
   "outputs": [
    {
     "name": "stdout",
     "output_type": "stream",
     "text": [
      "Редкие кухни: ['Malaysian', 'Jamaican', 'Australian', 'Croatian', 'Cuban', 'Taiwanese', 'Colombian', 'Sri Lankan', 'Tibetan', 'Cajun & Creole', 'Afghani', 'Southwestern', 'Egyptian', 'Tunisian', 'Hawaiian', 'Cambodian', 'Singaporean', 'Mongolian', 'Ukrainian', 'Georgian', 'Armenian', 'Filipino', 'Chilean', 'Romanian', 'Minority Chinese', 'Central Asian', 'Ecuadorean', 'Albanian', 'New Zealand', 'Canadian', 'Native American', 'Uzbek', 'Caucasian', 'Azerbaijani', 'Welsh', 'Yunnan', 'Fujian', 'Polynesian', 'Latvian', 'Salvadoran', 'Burmese', 'Xinjiang']\n"
     ]
    }
   ],
   "source": [
    "unigue_cuis_lst = data.explode('cuisine_style')['cuisine_style'].value_counts()[\n",
    "    data.explode('cuisine_style')['cuisine_style'].value_counts() < 50].index.tolist()\n",
    "print('Редкие кухни:', unigue_cuis_lst)"
   ]
  },
  {
   "cell_type": "markdown",
   "metadata": {},
   "source": [
    "Напишем функцию для подсчёта редких кухонь в ресторанах:"
   ]
  },
  {
   "cell_type": "code",
   "execution_count": 184,
   "metadata": {},
   "outputs": [],
   "source": [
    "def unigue_cuis_count(cell):\n",
    "    x = 0\n",
    "    for i in unigue_cuis_lst:\n",
    "        if i in cell:\n",
    "            x += 1\n",
    "    return x"
   ]
  },
  {
   "cell_type": "markdown",
   "metadata": {},
   "source": [
    "Создадим признак, в который поместим количество редких кухонь в том или ином ресторане:"
   ]
  },
  {
   "cell_type": "code",
   "execution_count": 185,
   "metadata": {},
   "outputs": [
    {
     "data": {
      "text/plain": [
       "0    49347\n",
       "1      619\n",
       "2       31\n",
       "3        3\n",
       "Name: unique_cuisine, dtype: int64"
      ]
     },
     "execution_count": 185,
     "metadata": {},
     "output_type": "execute_result"
    }
   ],
   "source": [
    "data['unique_cuisine'] = data['cuisine_style'].apply(unigue_cuis_count)\n",
    "data['unique_cuisine'].value_counts()"
   ]
  },
  {
   "cell_type": "markdown",
   "metadata": {},
   "source": [
    "Признак cuisine_style категориальный, поэтому преобразуем его в числовой формат с помощью метода One-Hot Encoding (как писали выше, используем только 60 самых популярных кухонь):"
   ]
  },
  {
   "cell_type": "code",
   "execution_count": 186,
   "metadata": {},
   "outputs": [],
   "source": [
    "def find_item(cell):\n",
    "    if item in cell:\n",
    "        return 1\n",
    "    return 0\n",
    "    \n",
    "for item in top_cuis:\n",
    "    data[item] = data['cuisine_style'].apply(find_item)"
   ]
  },
  {
   "cell_type": "markdown",
   "metadata": {},
   "source": [
    "### 2.3. ranking, ranking_norm"
   ]
  },
  {
   "cell_type": "markdown",
   "metadata": {},
   "source": [
    "ranking показывает место, которое занимает ресторан среди всех остальных в своём городе. Это важный признак, один из немногих, оказывающих непосредственное влияние на целевую переменную."
   ]
  },
  {
   "cell_type": "code",
   "execution_count": 187,
   "metadata": {},
   "outputs": [
    {
     "data": {
      "text/html": [
       "<div>\n",
       "<style scoped>\n",
       "    .dataframe tbody tr th:only-of-type {\n",
       "        vertical-align: middle;\n",
       "    }\n",
       "\n",
       "    .dataframe tbody tr th {\n",
       "        vertical-align: top;\n",
       "    }\n",
       "\n",
       "    .dataframe thead th {\n",
       "        text-align: right;\n",
       "    }\n",
       "</style>\n",
       "<table border=\"1\" class=\"dataframe\">\n",
       "  <thead>\n",
       "    <tr style=\"text-align: right;\">\n",
       "      <th></th>\n",
       "      <th>Ranking</th>\n",
       "      <th>Rating</th>\n",
       "    </tr>\n",
       "  </thead>\n",
       "  <tbody>\n",
       "    <tr>\n",
       "      <th>Ranking</th>\n",
       "      <td>1.000000</td>\n",
       "      <td>-0.368371</td>\n",
       "    </tr>\n",
       "    <tr>\n",
       "      <th>Rating</th>\n",
       "      <td>-0.368371</td>\n",
       "      <td>1.000000</td>\n",
       "    </tr>\n",
       "  </tbody>\n",
       "</table>\n",
       "</div>"
      ],
      "text/plain": [
       "          Ranking    Rating\n",
       "Ranking  1.000000 -0.368371\n",
       "Rating  -0.368371  1.000000"
      ]
     },
     "execution_count": 187,
     "metadata": {},
     "output_type": "execute_result"
    }
   ],
   "source": [
    "df_train.loc[:, [\"Ranking\", \"Rating\"]].corr()"
   ]
  },
  {
   "cell_type": "code",
   "execution_count": 188,
   "metadata": {},
   "outputs": [
    {
     "data": {
      "image/png": "[encoded data removed]",
      "text/plain": [
       "<Figure size 864x360 with 1 Axes>"
      ]
     },
     "metadata": {
      "needs_background": "light"
     },
     "output_type": "display_data"
    }
   ],
   "source": [
    "plt.rcParams['figure.figsize'] = (12,5)\n",
    "data['ranking'].hist(bins=100);"
   ]
  },
  {
   "cell_type": "markdown",
   "metadata": {},
   "source": [
    "Посмотрим на ранг ресторанов по 10 самым крупным городам:  "
   ]
  },
  {
   "cell_type": "code",
   "execution_count": 189,
   "metadata": {},
   "outputs": [
    {
     "data": {
      "image/png": "[encoded data removed]",
      "text/plain": [
       "<Figure size 864x360 with 1 Axes>"
      ]
     },
     "metadata": {
      "needs_background": "light"
     },
     "output_type": "display_data"
    }
   ],
   "source": [
    "for x in (data['city1'].value_counts())[0:10].index:\n",
    "    data['ranking'][data['city1'] == x].hist(bins=35)"
   ]
  },
  {
   "cell_type": "markdown",
   "metadata": {},
   "source": [
    "Признак ranking имеет нормальное распределение, просто в больших городах больше ресторанов, из-за этого мы имеем смещение."
   ]
  },
  {
   "cell_type": "markdown",
   "metadata": {},
   "source": [
    "Создадим признак ranking_norm, который будет обозначать относительный ранг ресторана по городу:"
   ]
  },
  {
   "cell_type": "code",
   "execution_count": 190,
   "metadata": {},
   "outputs": [],
   "source": [
    "data['ranking_norm'] = data['ranking'] / data['rest_count']"
   ]
  },
  {
   "cell_type": "code",
   "execution_count": 191,
   "metadata": {},
   "outputs": [
    {
     "data": {
      "image/png": "[encoded data removed]",
      "text/plain": [
       "<Figure size 864x360 with 1 Axes>"
      ]
     },
     "metadata": {
      "needs_background": "light"
     },
     "output_type": "display_data"
    }
   ],
   "source": [
    "for x in (data['city1'].value_counts())[0:10].index:\n",
    "    data['ranking_norm'][data['city1'] == x].hist(bins=35)"
   ]
  },
  {
   "cell_type": "markdown",
   "metadata": {},
   "source": [
    "Проверим кореляцию нового признака с другими (больше 0.3):"
   ]
  },
  {
   "cell_type": "code",
   "execution_count": 192,
   "metadata": {},
   "outputs": [
    {
     "data": {
      "text/plain": [
       "ranking                0.557146\n",
       "rating                -0.543724\n",
       "chain_restaurant      -0.300930\n",
       "city_population       -0.017965\n",
       "rest_count            -0.017035\n",
       "city_London           -0.010144\n",
       "city_Paris            -0.011878\n",
       "cuisine_count         -0.540847\n",
       "Vegetarian Friendly   -0.548918\n",
       "ranking_norm           1.000000\n",
       "Name: ranking_norm, dtype: float64"
      ]
     },
     "execution_count": 192,
     "metadata": {},
     "output_type": "execute_result"
    }
   ],
   "source": [
    "corr_matrix_new = data[data[\"sample\"] == 1].corr()\n",
    "corr_matrix_new[abs(corr_matrix_new.ranking) > 0.3].ranking_norm"
   ]
  },
  {
   "cell_type": "markdown",
   "metadata": {},
   "source": [
    "Видим, что новая переменная ranking_norm хорошо скоррелирована с такими параметрами, как number_of_reviews, rating, chain_restaraunt, cuisine_count. Это позволяет сделать нам несколько ценных исайтов: \n",
    "- чем больше отзывов о ресторане, тем выше его ранг,\n",
    "- у сетевых ресторанов довольно высокий ранг (возможно, за счёт популярности),\n",
    "- количество кухонь больше в ресторанах с более высоким рангом, \n",
    "- чем выше рейтинг ресторана, тем выше его ранг (что вполне логично).\n"
   ]
  },
  {
   "cell_type": "markdown",
   "metadata": {},
   "source": [
    "### 2.4. price_range"
   ]
  },
  {
   "cell_type": "code",
   "execution_count": 193,
   "metadata": {},
   "outputs": [
    {
     "data": {
      "text/plain": [
       "$$ - $$$    40402\n",
       "$            7816\n",
       "$$$$         1782\n",
       "Name: price_range, dtype: int64"
      ]
     },
     "execution_count": 193,
     "metadata": {},
     "output_type": "execute_result"
    }
   ],
   "source": [
    "data.price_range.value_counts()"
   ]
  },
  {
   "cell_type": "markdown",
   "metadata": {},
   "source": [
    "Преобразуем значения, обозначающий диапазон цен, с формата $ на числовой по принципу Label Encoding:"
   ]
  },
  {
   "cell_type": "code",
   "execution_count": 194,
   "metadata": {},
   "outputs": [],
   "source": [
    "data.replace({'price_range': {'$':1, '$$ - $$$':2, '$$$$':3}}, inplace=True)"
   ]
  },
  {
   "cell_type": "markdown",
   "metadata": {},
   "source": [
    "Теперь обозначения следующие: 1 - низкие, 2 - средние, 3 - высокие цены в ресторанах:"
   ]
  },
  {
   "cell_type": "code",
   "execution_count": 195,
   "metadata": {
    "scrolled": true
   },
   "outputs": [
    {
     "data": {
      "text/plain": [
       "2    40402\n",
       "1     7816\n",
       "3     1782\n",
       "Name: price_range, dtype: int64"
      ]
     },
     "execution_count": 195,
     "metadata": {},
     "output_type": "execute_result"
    }
   ],
   "source": [
    "data.price_range.value_counts()"
   ]
  },
  {
   "cell_type": "markdown",
   "metadata": {},
   "source": [
    "Делаем ценный инсайт - самые дорогие рестораны (3) реже получают низкие оценки:"
   ]
  },
  {
   "cell_type": "code",
   "execution_count": 196,
   "metadata": {},
   "outputs": [
    {
     "data": {
      "text/plain": [
       "<matplotlib.axes._subplots.AxesSubplot at 0x7fb84c37ff40>"
      ]
     },
     "execution_count": 196,
     "metadata": {},
     "output_type": "execute_result"
    },
    {
     "data": {
      "image/png": "[encoded data removed]",
      "text/plain": [
       "<Figure size 864x360 with 1 Axes>"
      ]
     },
     "metadata": {
      "needs_background": "light"
     },
     "output_type": "display_data"
    }
   ],
   "source": [
    "sns.boxplot(x='price_range', y='rating', data=data)"
   ]
  },
  {
   "cell_type": "markdown",
   "metadata": {},
   "source": [
    "### 2.5. reviews, date_1, date_2, review_days, days_to_last_rev_1, days_to_last_rev_2"
   ]
  },
  {
   "cell_type": "markdown",
   "metadata": {},
   "source": [
    "Каждый отзыв состоит из двух последних отзывов и двух дат их написания, соответственно:"
   ]
  },
  {
   "cell_type": "code",
   "execution_count": 197,
   "metadata": {},
   "outputs": [
    {
     "data": {
      "text/plain": [
       "\"[['Very good reviews!', 'Fine dining in Hakaniemi'], ['12/05/2017', '10/29/2017']]\""
      ]
     },
     "execution_count": 197,
     "metadata": {},
     "output_type": "execute_result"
    }
   ],
   "source": [
    "data.reviews[1]"
   ]
  },
  {
   "cell_type": "markdown",
   "metadata": {},
   "source": [
    "При этом тип данных - строчный:"
   ]
  },
  {
   "cell_type": "code",
   "execution_count": 198,
   "metadata": {},
   "outputs": [
    {
     "data": {
      "text/plain": [
       "str"
      ]
     },
     "execution_count": 198,
     "metadata": {},
     "output_type": "execute_result"
    }
   ],
   "source": [
    "type(data.reviews[1])"
   ]
  },
  {
   "cell_type": "markdown",
   "metadata": {},
   "source": [
    "Переведем тип str в list:"
   ]
  },
  {
   "cell_type": "code",
   "execution_count": 199,
   "metadata": {},
   "outputs": [],
   "source": [
    "data.reviews = data.reviews.apply(lambda x: x.split(\",\") if type(x) == str else x)"
   ]
  },
  {
   "cell_type": "markdown",
   "metadata": {},
   "source": [
    "Уберём лишние символы:"
   ]
  },
  {
   "cell_type": "code",
   "execution_count": 200,
   "metadata": {},
   "outputs": [
    {
     "name": "stdout",
     "output_type": "stream",
     "text": [
      "['Better than the Links', 'Ivy Black', '12/28/2017', '12/06/2017']\n"
     ]
    }
   ],
   "source": [
    "for lst in data.reviews:\n",
    "    if type(lst) == list:\n",
    "        for i in range(len(lst)):\n",
    "            lst[i] = lst[i].replace(\"[\", \"\").strip()\n",
    "            lst[i] = lst[i].replace(\"'\", \"\").strip()\n",
    "            lst[i] = lst[i].replace(\"]\", \"\").strip()            \n",
    "print(data.reviews[2])"
   ]
  },
  {
   "cell_type": "markdown",
   "metadata": {},
   "source": [
    "Создадим новые признаки: date_1 / date_2:"
   ]
  },
  {
   "cell_type": "code",
   "execution_count": 201,
   "metadata": {},
   "outputs": [],
   "source": [
    "data['date_1'] = data['reviews'].dropna().apply(lambda x: x[-2])\n",
    "data['date_2'] = data['reviews'].dropna().apply(lambda x: x[-1])"
   ]
  },
  {
   "cell_type": "markdown",
   "metadata": {},
   "source": [
    "И обновим reviews, удалив из него даты:"
   ]
  },
  {
   "cell_type": "code",
   "execution_count": 202,
   "metadata": {},
   "outputs": [],
   "source": [
    "data['reviews'] = data['reviews'].dropna().apply(lambda x: x[:2])"
   ]
  },
  {
   "cell_type": "markdown",
   "metadata": {},
   "source": [
    "Переводим наши признаки с датами в формат datetime:"
   ]
  },
  {
   "cell_type": "code",
   "execution_count": 203,
   "metadata": {},
   "outputs": [],
   "source": [
    "data['date_1'] = pd.to_datetime(data['date_1'], errors='coerce')\n",
    "data['date_2'] = pd.to_datetime(data['date_2'], errors='coerce')"
   ]
  },
  {
   "cell_type": "markdown",
   "metadata": {},
   "source": [
    "Заменим пропуски в date_1 и date_2 на самые часто встречающиеся даты соответственно:"
   ]
  },
  {
   "cell_type": "code",
   "execution_count": 204,
   "metadata": {},
   "outputs": [],
   "source": [
    "data['date_1'].fillna(data.date_1.value_counts().index[0], inplace=True)\n",
    "data['date_2'].fillna(data.date_2.value_counts().index[0], inplace=True)"
   ]
  },
  {
   "cell_type": "markdown",
   "metadata": {},
   "source": [
    "Cоздадим признак review_days, который будет содержать разницу между последними двумя отзывами в днях:"
   ]
  },
  {
   "cell_type": "code",
   "execution_count": 205,
   "metadata": {},
   "outputs": [],
   "source": [
    "data['review_days'] = abs(data['date_2'] - data['date_1']).dt.days"
   ]
  },
  {
   "cell_type": "code",
   "execution_count": 206,
   "metadata": {},
   "outputs": [
    {
     "data": {
      "text/plain": [
       "<matplotlib.axes._subplots.AxesSubplot at 0x7fb8494c1880>"
      ]
     },
     "execution_count": 206,
     "metadata": {},
     "output_type": "execute_result"
    },
    {
     "data": {
      "image/png": "[encoded data removed]",
      "text/plain": [
       "<Figure size 720x288 with 1 Axes>"
      ]
     },
     "metadata": {
      "needs_background": "light"
     },
     "output_type": "display_data"
    }
   ],
   "source": [
    "plt.figure(figsize=(10,4))\n",
    "data['review_days'].hist(bins=125)"
   ]
  },
  {
   "cell_type": "markdown",
   "metadata": {},
   "source": [
    "Создадим признаки, обозначающие разницу между максимальной датой и остальными датами для date_1 и date_2. Это поможет проанализировать, какие интервалы частотности написания отзывов сформировались:"
   ]
  },
  {
   "cell_type": "code",
   "execution_count": 207,
   "metadata": {},
   "outputs": [],
   "source": [
    "data['days_to_last_rev_1'] = (data.date_1.max() - data.date_1).dt.days\n",
    "data['days_to_last_rev_2'] = (data.date_2.max() - data.date_2).dt.days"
   ]
  },
  {
   "cell_type": "markdown",
   "metadata": {},
   "source": [
    "### 2.6. number_of_reviews, num_reviews_city, rank_rev_city"
   ]
  },
  {
   "cell_type": "markdown",
   "metadata": {},
   "source": [
    "Посмотрим на распределение признака number_of_reviews относительно городов. Чем больше ресторанов, тем больше отзывов:"
   ]
  },
  {
   "cell_type": "code",
   "execution_count": 208,
   "metadata": {},
   "outputs": [
    {
     "data": {
      "text/plain": [
       "<matplotlib.axes._subplots.AxesSubplot at 0x7fb84d4557f0>"
      ]
     },
     "execution_count": 208,
     "metadata": {},
     "output_type": "execute_result"
    },
    {
     "data": {
      "image/png": "[encoded data removed]",
      "text/plain": [
       "<Figure size 1080x360 with 1 Axes>"
      ]
     },
     "metadata": {
      "needs_background": "light"
     },
     "output_type": "display_data"
    }
   ],
   "source": [
    "plt.figure(figsize=(15,5))\n",
    "data.groupby('city1')['number_of_reviews'].sum().sort_values(ascending=False).plot(kind='bar')"
   ]
  },
  {
   "cell_type": "markdown",
   "metadata": {},
   "source": [
    "Создадим переменную num_reviews_city, в которую добавим общее количество отзывов, ранжируя их по городам:"
   ]
  },
  {
   "cell_type": "code",
   "execution_count": 209,
   "metadata": {},
   "outputs": [],
   "source": [
    "rewiews_city_dict = dict(data.groupby('city1')['number_of_reviews'].sum())\n",
    "data['num_reviews_city'] = round(data.city1.map(rewiews_city_dict), 0)"
   ]
  },
  {
   "cell_type": "markdown",
   "metadata": {},
   "source": [
    "Создадим признак rank_rev_city - отношение ранга ресторана к количеству отзывов в городе:"
   ]
  },
  {
   "cell_type": "code",
   "execution_count": 210,
   "metadata": {},
   "outputs": [],
   "source": [
    "data['rank_rev_city'] = data['ranking'] / data['num_reviews_city']"
   ]
  },
  {
   "cell_type": "markdown",
   "metadata": {},
   "source": [
    "## Subtotal\n",
    "Признаки url_ta и id_ta удалим, так как на данном этапе не хватает знаний для их обработки. \n",
    "\n",
    "По итогу, в дополнение к первоначальным признакам мы добавили:\n",
    "- **chain_restaurant** -  признак принадлежности ресторана к сети,\n",
    "- **city_population** -  население города,\n",
    "- **capital** - является ли город столицей, \n",
    "- **rest_count** -  количество ресторанов в городе,\n",
    "- **dummy переменные** признака **city**, всего 31,\n",
    "- **cuisine_count** - количество кухонь, предлагаемых в ресторане, \n",
    "- **unigue_cuis_lst** - количество редких кухонь, \n",
    "- **dummy переменные** признака **cuisine_style**, всего 60,\n",
    "- **ranking_norm** - относительный ранг ресторана по городу,\n",
    "- **date 1 / date 2** - признаки, обозначающие первую и вторую дату двух отзывов, соответственно,\n",
    "- **review_days** - разница между двумя отзывами,\n",
    "- **days_to_last_rev_1 / days_to_last_rev_2** - разницы между максимальной датой и остальными датами для date 1 / date 2,\n",
    "- **num_reviews_city** - общее количество отзывов, ранжированное по городам, \n",
    "- **rank_rev_city** - отношение ранга ресторана к количеству отзывов в городе."
   ]
  },
  {
   "cell_type": "code",
   "execution_count": 211,
   "metadata": {},
   "outputs": [],
   "source": [
    "data.drop(['url_ta'], axis='columns', inplace=True)\n",
    "data.drop(['id_ta'], axis='columns', inplace=True)"
   ]
  },
  {
   "cell_type": "markdown",
   "metadata": {},
   "source": [
    "Также удалим категориальные признаки, обработанные ранее - restaurant_id, cuisine_style, city1, reviews. Они нам больше не понадобятся:"
   ]
  },
  {
   "cell_type": "code",
   "execution_count": 212,
   "metadata": {},
   "outputs": [],
   "source": [
    "data.drop(['restaurant_id'], axis='columns', inplace=True)\n",
    "data.drop(['cuisine_style'], axis='columns', inplace=True)\n",
    "data.drop(['city1'], axis='columns', inplace=True)\n",
    "data.drop(['reviews'], axis='columns', inplace=True)\n",
    "data.drop(['date_1'], axis='columns', inplace=True)\n",
    "data.drop(['date_2'], axis='columns', inplace=True)"
   ]
  },
  {
   "cell_type": "code",
   "execution_count": 213,
   "metadata": {},
   "outputs": [
    {
     "data": {
      "text/html": [
       "<div>\n",
       "<style scoped>\n",
       "    .dataframe tbody tr th:only-of-type {\n",
       "        vertical-align: middle;\n",
       "    }\n",
       "\n",
       "    .dataframe tbody tr th {\n",
       "        vertical-align: top;\n",
       "    }\n",
       "\n",
       "    .dataframe thead th {\n",
       "        text-align: right;\n",
       "    }\n",
       "</style>\n",
       "<table border=\"1\" class=\"dataframe\">\n",
       "  <thead>\n",
       "    <tr style=\"text-align: right;\">\n",
       "      <th></th>\n",
       "      <th>ranking</th>\n",
       "      <th>price_range</th>\n",
       "      <th>number_of_reviews</th>\n",
       "      <th>sample</th>\n",
       "      <th>rating</th>\n",
       "      <th>cuisine_style_NAN</th>\n",
       "      <th>price_range_NAN</th>\n",
       "      <th>number_of_reviews_NAN</th>\n",
       "      <th>reviews_NAN</th>\n",
       "      <th>chain_restaurant</th>\n",
       "      <th>...</th>\n",
       "      <th>Soups</th>\n",
       "      <th>Middle Eastern</th>\n",
       "      <th>Pizza</th>\n",
       "      <th>Turkish</th>\n",
       "      <th>ranking_norm</th>\n",
       "      <th>review_days</th>\n",
       "      <th>days_to_last_rev_1</th>\n",
       "      <th>days_to_last_rev_2</th>\n",
       "      <th>num_reviews_city</th>\n",
       "      <th>rank_rev_city</th>\n",
       "    </tr>\n",
       "  </thead>\n",
       "  <tbody>\n",
       "    <tr>\n",
       "      <th>0</th>\n",
       "      <td>12963.0</td>\n",
       "      <td>2</td>\n",
       "      <td>4.0</td>\n",
       "      <td>0</td>\n",
       "      <td>0.0</td>\n",
       "      <td>0</td>\n",
       "      <td>0</td>\n",
       "      <td>0</td>\n",
       "      <td>1</td>\n",
       "      <td>1.0</td>\n",
       "      <td>...</td>\n",
       "      <td>0</td>\n",
       "      <td>0</td>\n",
       "      <td>0</td>\n",
       "      <td>0</td>\n",
       "      <td>2.122299</td>\n",
       "      <td>4</td>\n",
       "      <td>50</td>\n",
       "      <td>54</td>\n",
       "      <td>714886.0</td>\n",
       "      <td>0.018133</td>\n",
       "    </tr>\n",
       "    <tr>\n",
       "      <th>1</th>\n",
       "      <td>106.0</td>\n",
       "      <td>2</td>\n",
       "      <td>97.0</td>\n",
       "      <td>0</td>\n",
       "      <td>0.0</td>\n",
       "      <td>0</td>\n",
       "      <td>0</td>\n",
       "      <td>0</td>\n",
       "      <td>0</td>\n",
       "      <td>1.0</td>\n",
       "      <td>...</td>\n",
       "      <td>0</td>\n",
       "      <td>0</td>\n",
       "      <td>0</td>\n",
       "      <td>0</td>\n",
       "      <td>0.223158</td>\n",
       "      <td>37</td>\n",
       "      <td>83</td>\n",
       "      <td>120</td>\n",
       "      <td>31360.0</td>\n",
       "      <td>0.003380</td>\n",
       "    </tr>\n",
       "    <tr>\n",
       "      <th>2</th>\n",
       "      <td>810.0</td>\n",
       "      <td>2</td>\n",
       "      <td>28.0</td>\n",
       "      <td>0</td>\n",
       "      <td>0.0</td>\n",
       "      <td>0</td>\n",
       "      <td>0</td>\n",
       "      <td>0</td>\n",
       "      <td>0</td>\n",
       "      <td>1.0</td>\n",
       "      <td>...</td>\n",
       "      <td>0</td>\n",
       "      <td>0</td>\n",
       "      <td>0</td>\n",
       "      <td>0</td>\n",
       "      <td>1.087248</td>\n",
       "      <td>22</td>\n",
       "      <td>60</td>\n",
       "      <td>82</td>\n",
       "      <td>177095.0</td>\n",
       "      <td>0.004574</td>\n",
       "    </tr>\n",
       "    <tr>\n",
       "      <th>3</th>\n",
       "      <td>1669.0</td>\n",
       "      <td>3</td>\n",
       "      <td>202.0</td>\n",
       "      <td>0</td>\n",
       "      <td>0.0</td>\n",
       "      <td>0</td>\n",
       "      <td>0</td>\n",
       "      <td>0</td>\n",
       "      <td>0</td>\n",
       "      <td>1.0</td>\n",
       "      <td>...</td>\n",
       "      <td>0</td>\n",
       "      <td>0</td>\n",
       "      <td>0</td>\n",
       "      <td>0</td>\n",
       "      <td>0.232031</td>\n",
       "      <td>14</td>\n",
       "      <td>82</td>\n",
       "      <td>96</td>\n",
       "      <td>992407.0</td>\n",
       "      <td>0.001682</td>\n",
       "    </tr>\n",
       "    <tr>\n",
       "      <th>4</th>\n",
       "      <td>37.0</td>\n",
       "      <td>3</td>\n",
       "      <td>162.0</td>\n",
       "      <td>0</td>\n",
       "      <td>0.0</td>\n",
       "      <td>0</td>\n",
       "      <td>0</td>\n",
       "      <td>0</td>\n",
       "      <td>0</td>\n",
       "      <td>1.0</td>\n",
       "      <td>...</td>\n",
       "      <td>0</td>\n",
       "      <td>0</td>\n",
       "      <td>0</td>\n",
       "      <td>0</td>\n",
       "      <td>0.097368</td>\n",
       "      <td>15</td>\n",
       "      <td>18</td>\n",
       "      <td>33</td>\n",
       "      <td>19614.0</td>\n",
       "      <td>0.001886</td>\n",
       "    </tr>\n",
       "    <tr>\n",
       "      <th>...</th>\n",
       "      <td>...</td>\n",
       "      <td>...</td>\n",
       "      <td>...</td>\n",
       "      <td>...</td>\n",
       "      <td>...</td>\n",
       "      <td>...</td>\n",
       "      <td>...</td>\n",
       "      <td>...</td>\n",
       "      <td>...</td>\n",
       "      <td>...</td>\n",
       "      <td>...</td>\n",
       "      <td>...</td>\n",
       "      <td>...</td>\n",
       "      <td>...</td>\n",
       "      <td>...</td>\n",
       "      <td>...</td>\n",
       "      <td>...</td>\n",
       "      <td>...</td>\n",
       "      <td>...</td>\n",
       "      <td>...</td>\n",
       "      <td>...</td>\n",
       "    </tr>\n",
       "    <tr>\n",
       "      <th>49995</th>\n",
       "      <td>500.0</td>\n",
       "      <td>2</td>\n",
       "      <td>79.0</td>\n",
       "      <td>1</td>\n",
       "      <td>4.5</td>\n",
       "      <td>0</td>\n",
       "      <td>0</td>\n",
       "      <td>0</td>\n",
       "      <td>0</td>\n",
       "      <td>1.0</td>\n",
       "      <td>...</td>\n",
       "      <td>0</td>\n",
       "      <td>0</td>\n",
       "      <td>0</td>\n",
       "      <td>0</td>\n",
       "      <td>0.185598</td>\n",
       "      <td>34</td>\n",
       "      <td>72</td>\n",
       "      <td>106</td>\n",
       "      <td>453397.0</td>\n",
       "      <td>0.001103</td>\n",
       "    </tr>\n",
       "    <tr>\n",
       "      <th>49996</th>\n",
       "      <td>6341.0</td>\n",
       "      <td>2</td>\n",
       "      <td>542.0</td>\n",
       "      <td>1</td>\n",
       "      <td>3.5</td>\n",
       "      <td>0</td>\n",
       "      <td>0</td>\n",
       "      <td>0</td>\n",
       "      <td>0</td>\n",
       "      <td>1.0</td>\n",
       "      <td>...</td>\n",
       "      <td>0</td>\n",
       "      <td>0</td>\n",
       "      <td>0</td>\n",
       "      <td>0</td>\n",
       "      <td>1.038147</td>\n",
       "      <td>9</td>\n",
       "      <td>67</td>\n",
       "      <td>76</td>\n",
       "      <td>714886.0</td>\n",
       "      <td>0.008870</td>\n",
       "    </tr>\n",
       "    <tr>\n",
       "      <th>49997</th>\n",
       "      <td>1652.0</td>\n",
       "      <td>2</td>\n",
       "      <td>4.0</td>\n",
       "      <td>1</td>\n",
       "      <td>4.5</td>\n",
       "      <td>0</td>\n",
       "      <td>1</td>\n",
       "      <td>0</td>\n",
       "      <td>0</td>\n",
       "      <td>1.0</td>\n",
       "      <td>...</td>\n",
       "      <td>0</td>\n",
       "      <td>0</td>\n",
       "      <td>0</td>\n",
       "      <td>0</td>\n",
       "      <td>1.599226</td>\n",
       "      <td>3127</td>\n",
       "      <td>480</td>\n",
       "      <td>3607</td>\n",
       "      <td>77679.0</td>\n",
       "      <td>0.021267</td>\n",
       "    </tr>\n",
       "    <tr>\n",
       "      <th>49998</th>\n",
       "      <td>641.0</td>\n",
       "      <td>2</td>\n",
       "      <td>70.0</td>\n",
       "      <td>1</td>\n",
       "      <td>4.0</td>\n",
       "      <td>0</td>\n",
       "      <td>0</td>\n",
       "      <td>0</td>\n",
       "      <td>0</td>\n",
       "      <td>1.0</td>\n",
       "      <td>...</td>\n",
       "      <td>0</td>\n",
       "      <td>0</td>\n",
       "      <td>0</td>\n",
       "      <td>0</td>\n",
       "      <td>0.692973</td>\n",
       "      <td>23</td>\n",
       "      <td>230</td>\n",
       "      <td>253</td>\n",
       "      <td>62079.0</td>\n",
       "      <td>0.010326</td>\n",
       "    </tr>\n",
       "    <tr>\n",
       "      <th>49999</th>\n",
       "      <td>4827.0</td>\n",
       "      <td>2</td>\n",
       "      <td>260.0</td>\n",
       "      <td>1</td>\n",
       "      <td>3.0</td>\n",
       "      <td>0</td>\n",
       "      <td>0</td>\n",
       "      <td>0</td>\n",
       "      <td>0</td>\n",
       "      <td>1.0</td>\n",
       "      <td>...</td>\n",
       "      <td>0</td>\n",
       "      <td>0</td>\n",
       "      <td>0</td>\n",
       "      <td>0</td>\n",
       "      <td>1.791759</td>\n",
       "      <td>1306</td>\n",
       "      <td>757</td>\n",
       "      <td>2063</td>\n",
       "      <td>453397.0</td>\n",
       "      <td>0.010646</td>\n",
       "    </tr>\n",
       "  </tbody>\n",
       "</table>\n",
       "<p>50000 rows × 112 columns</p>\n",
       "</div>"
      ],
      "text/plain": [
       "       ranking  price_range  number_of_reviews  sample  rating  \\\n",
       "0      12963.0            2                4.0       0     0.0   \n",
       "1        106.0            2               97.0       0     0.0   \n",
       "2        810.0            2               28.0       0     0.0   \n",
       "3       1669.0            3              202.0       0     0.0   \n",
       "4         37.0            3              162.0       0     0.0   \n",
       "...        ...          ...                ...     ...     ...   \n",
       "49995    500.0            2               79.0       1     4.5   \n",
       "49996   6341.0            2              542.0       1     3.5   \n",
       "49997   1652.0            2                4.0       1     4.5   \n",
       "49998    641.0            2               70.0       1     4.0   \n",
       "49999   4827.0            2              260.0       1     3.0   \n",
       "\n",
       "       cuisine_style_NAN  price_range_NAN  number_of_reviews_NAN  reviews_NAN  \\\n",
       "0                      0                0                      0            1   \n",
       "1                      0                0                      0            0   \n",
       "2                      0                0                      0            0   \n",
       "3                      0                0                      0            0   \n",
       "4                      0                0                      0            0   \n",
       "...                  ...              ...                    ...          ...   \n",
       "49995                  0                0                      0            0   \n",
       "49996                  0                0                      0            0   \n",
       "49997                  0                1                      0            0   \n",
       "49998                  0                0                      0            0   \n",
       "49999                  0                0                      0            0   \n",
       "\n",
       "       chain_restaurant  ...  Soups  Middle Eastern  Pizza  Turkish  \\\n",
       "0                   1.0  ...      0               0      0        0   \n",
       "1                   1.0  ...      0               0      0        0   \n",
       "2                   1.0  ...      0               0      0        0   \n",
       "3                   1.0  ...      0               0      0        0   \n",
       "4                   1.0  ...      0               0      0        0   \n",
       "...                 ...  ...    ...             ...    ...      ...   \n",
       "49995               1.0  ...      0               0      0        0   \n",
       "49996               1.0  ...      0               0      0        0   \n",
       "49997               1.0  ...      0               0      0        0   \n",
       "49998               1.0  ...      0               0      0        0   \n",
       "49999               1.0  ...      0               0      0        0   \n",
       "\n",
       "       ranking_norm  review_days  days_to_last_rev_1  days_to_last_rev_2  \\\n",
       "0          2.122299            4                  50                  54   \n",
       "1          0.223158           37                  83                 120   \n",
       "2          1.087248           22                  60                  82   \n",
       "3          0.232031           14                  82                  96   \n",
       "4          0.097368           15                  18                  33   \n",
       "...             ...          ...                 ...                 ...   \n",
       "49995      0.185598           34                  72                 106   \n",
       "49996      1.038147            9                  67                  76   \n",
       "49997      1.599226         3127                 480                3607   \n",
       "49998      0.692973           23                 230                 253   \n",
       "49999      1.791759         1306                 757                2063   \n",
       "\n",
       "       num_reviews_city  rank_rev_city  \n",
       "0              714886.0       0.018133  \n",
       "1               31360.0       0.003380  \n",
       "2              177095.0       0.004574  \n",
       "3              992407.0       0.001682  \n",
       "4               19614.0       0.001886  \n",
       "...                 ...            ...  \n",
       "49995          453397.0       0.001103  \n",
       "49996          714886.0       0.008870  \n",
       "49997           77679.0       0.021267  \n",
       "49998           62079.0       0.010326  \n",
       "49999          453397.0       0.010646  \n",
       "\n",
       "[50000 rows x 112 columns]"
      ]
     },
     "execution_count": 213,
     "metadata": {},
     "output_type": "execute_result"
    }
   ],
   "source": [
    "data"
   ]
  },
  {
   "cell_type": "code",
   "execution_count": 214,
   "metadata": {},
   "outputs": [
    {
     "data": {
      "text/html": [
       "<div>\n",
       "<style scoped>\n",
       "    .dataframe tbody tr th:only-of-type {\n",
       "        vertical-align: middle;\n",
       "    }\n",
       "\n",
       "    .dataframe tbody tr th {\n",
       "        vertical-align: top;\n",
       "    }\n",
       "\n",
       "    .dataframe thead th {\n",
       "        text-align: right;\n",
       "    }\n",
       "</style>\n",
       "<table border=\"1\" class=\"dataframe\">\n",
       "  <thead>\n",
       "    <tr style=\"text-align: right;\">\n",
       "      <th></th>\n",
       "      <th>ranking</th>\n",
       "      <th>price_range</th>\n",
       "      <th>number_of_reviews</th>\n",
       "      <th>sample</th>\n",
       "      <th>rating</th>\n",
       "      <th>cuisine_style_NAN</th>\n",
       "      <th>price_range_NAN</th>\n",
       "      <th>number_of_reviews_NAN</th>\n",
       "      <th>reviews_NAN</th>\n",
       "      <th>chain_restaurant</th>\n",
       "      <th>...</th>\n",
       "      <th>Soups</th>\n",
       "      <th>Middle Eastern</th>\n",
       "      <th>Pizza</th>\n",
       "      <th>Turkish</th>\n",
       "      <th>ranking_norm</th>\n",
       "      <th>review_days</th>\n",
       "      <th>days_to_last_rev_1</th>\n",
       "      <th>days_to_last_rev_2</th>\n",
       "      <th>num_reviews_city</th>\n",
       "      <th>rank_rev_city</th>\n",
       "    </tr>\n",
       "  </thead>\n",
       "  <tbody>\n",
       "    <tr>\n",
       "      <th>45308</th>\n",
       "      <td>674.0</td>\n",
       "      <td>2</td>\n",
       "      <td>142.0</td>\n",
       "      <td>1</td>\n",
       "      <td>4.0</td>\n",
       "      <td>0</td>\n",
       "      <td>0</td>\n",
       "      <td>0</td>\n",
       "      <td>0</td>\n",
       "      <td>1.0</td>\n",
       "      <td>...</td>\n",
       "      <td>0</td>\n",
       "      <td>0</td>\n",
       "      <td>0</td>\n",
       "      <td>0</td>\n",
       "      <td>0.660137</td>\n",
       "      <td>69</td>\n",
       "      <td>106</td>\n",
       "      <td>175</td>\n",
       "      <td>162012.0</td>\n",
       "      <td>0.004160</td>\n",
       "    </tr>\n",
       "    <tr>\n",
       "      <th>31598</th>\n",
       "      <td>13456.0</td>\n",
       "      <td>2</td>\n",
       "      <td>7.0</td>\n",
       "      <td>1</td>\n",
       "      <td>4.0</td>\n",
       "      <td>1</td>\n",
       "      <td>1</td>\n",
       "      <td>0</td>\n",
       "      <td>0</td>\n",
       "      <td>1.0</td>\n",
       "      <td>...</td>\n",
       "      <td>0</td>\n",
       "      <td>0</td>\n",
       "      <td>0</td>\n",
       "      <td>0</td>\n",
       "      <td>1.870708</td>\n",
       "      <td>87</td>\n",
       "      <td>715</td>\n",
       "      <td>802</td>\n",
       "      <td>992407.0</td>\n",
       "      <td>0.013559</td>\n",
       "    </tr>\n",
       "    <tr>\n",
       "      <th>25477</th>\n",
       "      <td>781.0</td>\n",
       "      <td>2</td>\n",
       "      <td>11.0</td>\n",
       "      <td>1</td>\n",
       "      <td>4.5</td>\n",
       "      <td>0</td>\n",
       "      <td>0</td>\n",
       "      <td>0</td>\n",
       "      <td>1</td>\n",
       "      <td>1.0</td>\n",
       "      <td>...</td>\n",
       "      <td>0</td>\n",
       "      <td>0</td>\n",
       "      <td>0</td>\n",
       "      <td>0</td>\n",
       "      <td>0.693606</td>\n",
       "      <td>4</td>\n",
       "      <td>50</td>\n",
       "      <td>54</td>\n",
       "      <td>98044.0</td>\n",
       "      <td>0.007966</td>\n",
       "    </tr>\n",
       "    <tr>\n",
       "      <th>37072</th>\n",
       "      <td>4432.0</td>\n",
       "      <td>2</td>\n",
       "      <td>34.0</td>\n",
       "      <td>1</td>\n",
       "      <td>4.5</td>\n",
       "      <td>1</td>\n",
       "      <td>1</td>\n",
       "      <td>0</td>\n",
       "      <td>0</td>\n",
       "      <td>1.0</td>\n",
       "      <td>...</td>\n",
       "      <td>0</td>\n",
       "      <td>0</td>\n",
       "      <td>0</td>\n",
       "      <td>0</td>\n",
       "      <td>0.725606</td>\n",
       "      <td>780</td>\n",
       "      <td>50</td>\n",
       "      <td>830</td>\n",
       "      <td>714886.0</td>\n",
       "      <td>0.006200</td>\n",
       "    </tr>\n",
       "    <tr>\n",
       "      <th>11626</th>\n",
       "      <td>866.0</td>\n",
       "      <td>2</td>\n",
       "      <td>8.0</td>\n",
       "      <td>1</td>\n",
       "      <td>5.0</td>\n",
       "      <td>0</td>\n",
       "      <td>0</td>\n",
       "      <td>0</td>\n",
       "      <td>0</td>\n",
       "      <td>1.0</td>\n",
       "      <td>...</td>\n",
       "      <td>0</td>\n",
       "      <td>0</td>\n",
       "      <td>0</td>\n",
       "      <td>0</td>\n",
       "      <td>0.848188</td>\n",
       "      <td>41</td>\n",
       "      <td>101</td>\n",
       "      <td>142</td>\n",
       "      <td>162012.0</td>\n",
       "      <td>0.005345</td>\n",
       "    </tr>\n",
       "  </tbody>\n",
       "</table>\n",
       "<p>5 rows × 112 columns</p>\n",
       "</div>"
      ],
      "text/plain": [
       "       ranking  price_range  number_of_reviews  sample  rating  \\\n",
       "45308    674.0            2              142.0       1     4.0   \n",
       "31598  13456.0            2                7.0       1     4.0   \n",
       "25477    781.0            2               11.0       1     4.5   \n",
       "37072   4432.0            2               34.0       1     4.5   \n",
       "11626    866.0            2                8.0       1     5.0   \n",
       "\n",
       "       cuisine_style_NAN  price_range_NAN  number_of_reviews_NAN  reviews_NAN  \\\n",
       "45308                  0                0                      0            0   \n",
       "31598                  1                1                      0            0   \n",
       "25477                  0                0                      0            1   \n",
       "37072                  1                1                      0            0   \n",
       "11626                  0                0                      0            0   \n",
       "\n",
       "       chain_restaurant  ...  Soups  Middle Eastern  Pizza  Turkish  \\\n",
       "45308               1.0  ...      0               0      0        0   \n",
       "31598               1.0  ...      0               0      0        0   \n",
       "25477               1.0  ...      0               0      0        0   \n",
       "37072               1.0  ...      0               0      0        0   \n",
       "11626               1.0  ...      0               0      0        0   \n",
       "\n",
       "       ranking_norm  review_days  days_to_last_rev_1  days_to_last_rev_2  \\\n",
       "45308      0.660137           69                 106                 175   \n",
       "31598      1.870708           87                 715                 802   \n",
       "25477      0.693606            4                  50                  54   \n",
       "37072      0.725606          780                  50                 830   \n",
       "11626      0.848188           41                 101                 142   \n",
       "\n",
       "       num_reviews_city  rank_rev_city  \n",
       "45308          162012.0       0.004160  \n",
       "31598          992407.0       0.013559  \n",
       "25477           98044.0       0.007966  \n",
       "37072          714886.0       0.006200  \n",
       "11626          162012.0       0.005345  \n",
       "\n",
       "[5 rows x 112 columns]"
      ]
     },
     "execution_count": 214,
     "metadata": {},
     "output_type": "execute_result"
    }
   ],
   "source": [
    "data.sample(5)"
   ]
  },
  {
   "cell_type": "code",
   "execution_count": 215,
   "metadata": {},
   "outputs": [
    {
     "name": "stdout",
     "output_type": "stream",
     "text": [
      "<class 'pandas.core.frame.DataFrame'>\n",
      "RangeIndex: 50000 entries, 0 to 49999\n",
      "Columns: 112 entries, ranking to rank_rev_city\n",
      "dtypes: float64(7), int64(70), uint8(35)\n",
      "memory usage: 31.0 MB\n"
     ]
    }
   ],
   "source": [
    "data.info()"
   ]
  },
  {
   "cell_type": "markdown",
   "metadata": {},
   "source": [
    "# EDA"
   ]
  },
  {
   "cell_type": "markdown",
   "metadata": {},
   "source": [
    "### Посмотрим распределение признака Ranking:"
   ]
  },
  {
   "cell_type": "code",
   "execution_count": 216,
   "metadata": {},
   "outputs": [
    {
     "data": {
      "text/plain": [
       "<matplotlib.axes._subplots.AxesSubplot at 0x7fb84b95f160>"
      ]
     },
     "execution_count": 216,
     "metadata": {},
     "output_type": "execute_result"
    },
    {
     "data": {
      "image/png": "[encoded data removed]",
      "text/plain": [
       "<Figure size 720x504 with 1 Axes>"
      ]
     },
     "metadata": {
      "needs_background": "light"
     },
     "output_type": "display_data"
    }
   ],
   "source": [
    "plt.rcParams['figure.figsize'] = (10,7)\n",
    "df_train['Ranking'].hist(bins=100)"
   ]
  },
  {
   "cell_type": "markdown",
   "metadata": {},
   "source": [
    "У нас много ресторанов, которые не дотягивают и до 2500 места в своем городе, а что там по городам?"
   ]
  },
  {
   "cell_type": "code",
   "execution_count": 217,
   "metadata": {},
   "outputs": [
    {
     "data": {
      "text/plain": [
       "<matplotlib.axes._subplots.AxesSubplot at 0x7fb849ac77c0>"
      ]
     },
     "execution_count": 217,
     "metadata": {},
     "output_type": "execute_result"
    },
    {
     "data": {
      "image/png": "[encoded data removed]",
      "text/plain": [
       "<Figure size 720x504 with 1 Axes>"
      ]
     },
     "metadata": {
      "needs_background": "light"
     },
     "output_type": "display_data"
    }
   ],
   "source": [
    "df_train['City'].value_counts(ascending=True).plot(kind='barh')"
   ]
  },
  {
   "cell_type": "code",
   "execution_count": 218,
   "metadata": {},
   "outputs": [
    {
     "data": {
      "text/plain": [
       "<matplotlib.axes._subplots.AxesSubplot at 0x7fb84b0fb2b0>"
      ]
     },
     "execution_count": 218,
     "metadata": {},
     "output_type": "execute_result"
    },
    {
     "data": {
      "image/png": "[encoded data removed]",
      "text/plain": [
       "<Figure size 720x504 with 1 Axes>"
      ]
     },
     "metadata": {
      "needs_background": "light"
     },
     "output_type": "display_data"
    }
   ],
   "source": [
    "df_train['Ranking'][df_train['City'] =='London'].hist(bins=100)"
   ]
  },
  {
   "cell_type": "markdown",
   "metadata": {},
   "source": [
    "Посмотрим на топ 10 городов:"
   ]
  },
  {
   "cell_type": "code",
   "execution_count": 219,
   "metadata": {},
   "outputs": [
    {
     "data": {
      "image/png": "[encoded data removed]",
      "text/plain": [
       "<Figure size 720x504 with 1 Axes>"
      ]
     },
     "metadata": {
      "needs_background": "light"
     },
     "output_type": "display_data"
    }
   ],
   "source": [
    "for x in (df_train['City'].value_counts())[0:10].index:\n",
    "    df_train['Ranking'][df_train['City'] == x].hist(bins=100)\n",
    "plt.show()"
   ]
  },
  {
   "cell_type": "markdown",
   "metadata": {},
   "source": [
    "Получается, что Ranking имеет нормальное распределение, просто в больших городах больше ресторанов, из-за мы этого имеем смещение."
   ]
  },
  {
   "cell_type": "markdown",
   "metadata": {},
   "source": [
    "### Посмотрим распределение целевой переменной Rating:"
   ]
  },
  {
   "cell_type": "code",
   "execution_count": 220,
   "metadata": {},
   "outputs": [
    {
     "data": {
      "text/plain": [
       "<matplotlib.axes._subplots.AxesSubplot at 0x7fb848f02a60>"
      ]
     },
     "execution_count": 220,
     "metadata": {},
     "output_type": "execute_result"
    },
    {
     "data": {
      "image/png": "[encoded data removed]",
      "text/plain": [
       "<Figure size 720x504 with 1 Axes>"
      ]
     },
     "metadata": {
      "needs_background": "light"
     },
     "output_type": "display_data"
    }
   ],
   "source": [
    "df_train['Rating'].value_counts(ascending=True).plot(kind='barh')"
   ]
  },
  {
   "cell_type": "markdown",
   "metadata": {},
   "source": [
    "### Посмотрим распределение целевой переменной Rating относительно признака Ranking:"
   ]
  },
  {
   "cell_type": "code",
   "execution_count": 221,
   "metadata": {},
   "outputs": [
    {
     "data": {
      "text/plain": [
       "<matplotlib.axes._subplots.AxesSubplot at 0x7fb84a55b8e0>"
      ]
     },
     "execution_count": 221,
     "metadata": {},
     "output_type": "execute_result"
    },
    {
     "data": {
      "image/png": "[encoded data removed]",
      "text/plain": [
       "<Figure size 720x504 with 1 Axes>"
      ]
     },
     "metadata": {
      "needs_background": "light"
     },
     "output_type": "display_data"
    }
   ],
   "source": [
    "df_train['Ranking'][df_train['Rating'] == 5].hist(bins=100)"
   ]
  },
  {
   "cell_type": "code",
   "execution_count": 222,
   "metadata": {},
   "outputs": [
    {
     "data": {
      "text/plain": [
       "<matplotlib.axes._subplots.AxesSubplot at 0x7fb8486ca940>"
      ]
     },
     "execution_count": 222,
     "metadata": {},
     "output_type": "execute_result"
    },
    {
     "data": {
      "image/png": "[encoded data removed]",
      "text/plain": [
       "<Figure size 720x504 with 1 Axes>"
      ]
     },
     "metadata": {
      "needs_background": "light"
     },
     "output_type": "display_data"
    }
   ],
   "source": [
    "df_train['Ranking'][df_train['Rating'] < 4].hist(bins=100)"
   ]
  },
  {
   "cell_type": "markdown",
   "metadata": {},
   "source": [
    "## Correlation\n",
    "На этом графике уже сейчас мы сможетем заметить, как признаки связаны между собой и с целевой переменной:"
   ]
  },
  {
   "cell_type": "code",
   "execution_count": 223,
   "metadata": {},
   "outputs": [
    {
     "data": {
      "text/plain": [
       "<matplotlib.axes._subplots.AxesSubplot at 0x7fb84d444490>"
      ]
     },
     "execution_count": 223,
     "metadata": {},
     "output_type": "execute_result"
    },
    {
     "data": {
      "image/png": "[encoded data removed]",
      "text/plain": [
       "<Figure size 1080x720 with 2 Axes>"
      ]
     },
     "metadata": {
      "needs_background": "light"
     },
     "output_type": "display_data"
    }
   ],
   "source": [
    "plt.rcParams['figure.figsize'] = (15,10)\n",
    "sns.heatmap(data.drop(['sample'], axis=1).corr(),)"
   ]
  },
  {
   "cell_type": "markdown",
   "metadata": {},
   "source": [
    "# Data Preprocessing"
   ]
  },
  {
   "cell_type": "code",
   "execution_count": 235,
   "metadata": {},
   "outputs": [
    {
     "data": {
      "text/html": [
       "<div>\n",
       "<style scoped>\n",
       "    .dataframe tbody tr th:only-of-type {\n",
       "        vertical-align: middle;\n",
       "    }\n",
       "\n",
       "    .dataframe tbody tr th {\n",
       "        vertical-align: top;\n",
       "    }\n",
       "\n",
       "    .dataframe thead th {\n",
       "        text-align: right;\n",
       "    }\n",
       "</style>\n",
       "<table border=\"1\" class=\"dataframe\">\n",
       "  <thead>\n",
       "    <tr style=\"text-align: right;\">\n",
       "      <th></th>\n",
       "      <th>ranking</th>\n",
       "      <th>price_range</th>\n",
       "      <th>number_of_reviews</th>\n",
       "      <th>sample</th>\n",
       "      <th>rating</th>\n",
       "      <th>cuisine_style_NAN</th>\n",
       "      <th>price_range_NAN</th>\n",
       "      <th>number_of_reviews_NAN</th>\n",
       "      <th>reviews_NAN</th>\n",
       "      <th>chain_restaurant</th>\n",
       "      <th>...</th>\n",
       "      <th>Soups</th>\n",
       "      <th>Middle Eastern</th>\n",
       "      <th>Pizza</th>\n",
       "      <th>Turkish</th>\n",
       "      <th>ranking_norm</th>\n",
       "      <th>review_days</th>\n",
       "      <th>days_to_last_rev_1</th>\n",
       "      <th>days_to_last_rev_2</th>\n",
       "      <th>num_reviews_city</th>\n",
       "      <th>rank_rev_city</th>\n",
       "    </tr>\n",
       "  </thead>\n",
       "  <tbody>\n",
       "    <tr>\n",
       "      <th>0</th>\n",
       "      <td>12963.0</td>\n",
       "      <td>2</td>\n",
       "      <td>4.000000</td>\n",
       "      <td>0</td>\n",
       "      <td>0.0</td>\n",
       "      <td>0</td>\n",
       "      <td>0</td>\n",
       "      <td>0</td>\n",
       "      <td>1</td>\n",
       "      <td>1.0</td>\n",
       "      <td>...</td>\n",
       "      <td>0</td>\n",
       "      <td>0</td>\n",
       "      <td>0</td>\n",
       "      <td>0</td>\n",
       "      <td>2.122299</td>\n",
       "      <td>4</td>\n",
       "      <td>50</td>\n",
       "      <td>54</td>\n",
       "      <td>714886.0</td>\n",
       "      <td>0.018133</td>\n",
       "    </tr>\n",
       "    <tr>\n",
       "      <th>1</th>\n",
       "      <td>106.0</td>\n",
       "      <td>2</td>\n",
       "      <td>97.000000</td>\n",
       "      <td>0</td>\n",
       "      <td>0.0</td>\n",
       "      <td>0</td>\n",
       "      <td>0</td>\n",
       "      <td>0</td>\n",
       "      <td>0</td>\n",
       "      <td>1.0</td>\n",
       "      <td>...</td>\n",
       "      <td>0</td>\n",
       "      <td>0</td>\n",
       "      <td>0</td>\n",
       "      <td>0</td>\n",
       "      <td>0.223158</td>\n",
       "      <td>37</td>\n",
       "      <td>83</td>\n",
       "      <td>120</td>\n",
       "      <td>31360.0</td>\n",
       "      <td>0.003380</td>\n",
       "    </tr>\n",
       "    <tr>\n",
       "      <th>2</th>\n",
       "      <td>810.0</td>\n",
       "      <td>2</td>\n",
       "      <td>28.000000</td>\n",
       "      <td>0</td>\n",
       "      <td>0.0</td>\n",
       "      <td>0</td>\n",
       "      <td>0</td>\n",
       "      <td>0</td>\n",
       "      <td>0</td>\n",
       "      <td>1.0</td>\n",
       "      <td>...</td>\n",
       "      <td>0</td>\n",
       "      <td>0</td>\n",
       "      <td>0</td>\n",
       "      <td>0</td>\n",
       "      <td>1.087248</td>\n",
       "      <td>22</td>\n",
       "      <td>60</td>\n",
       "      <td>82</td>\n",
       "      <td>177095.0</td>\n",
       "      <td>0.004574</td>\n",
       "    </tr>\n",
       "    <tr>\n",
       "      <th>3</th>\n",
       "      <td>1669.0</td>\n",
       "      <td>3</td>\n",
       "      <td>202.000000</td>\n",
       "      <td>0</td>\n",
       "      <td>0.0</td>\n",
       "      <td>0</td>\n",
       "      <td>0</td>\n",
       "      <td>0</td>\n",
       "      <td>0</td>\n",
       "      <td>1.0</td>\n",
       "      <td>...</td>\n",
       "      <td>0</td>\n",
       "      <td>0</td>\n",
       "      <td>0</td>\n",
       "      <td>0</td>\n",
       "      <td>0.232031</td>\n",
       "      <td>14</td>\n",
       "      <td>82</td>\n",
       "      <td>96</td>\n",
       "      <td>992407.0</td>\n",
       "      <td>0.001682</td>\n",
       "    </tr>\n",
       "    <tr>\n",
       "      <th>4</th>\n",
       "      <td>37.0</td>\n",
       "      <td>3</td>\n",
       "      <td>162.000000</td>\n",
       "      <td>0</td>\n",
       "      <td>0.0</td>\n",
       "      <td>0</td>\n",
       "      <td>0</td>\n",
       "      <td>0</td>\n",
       "      <td>0</td>\n",
       "      <td>1.0</td>\n",
       "      <td>...</td>\n",
       "      <td>0</td>\n",
       "      <td>0</td>\n",
       "      <td>0</td>\n",
       "      <td>0</td>\n",
       "      <td>0.097368</td>\n",
       "      <td>15</td>\n",
       "      <td>18</td>\n",
       "      <td>33</td>\n",
       "      <td>19614.0</td>\n",
       "      <td>0.001886</td>\n",
       "    </tr>\n",
       "    <tr>\n",
       "      <th>5</th>\n",
       "      <td>5093.0</td>\n",
       "      <td>1</td>\n",
       "      <td>24.000000</td>\n",
       "      <td>0</td>\n",
       "      <td>0.0</td>\n",
       "      <td>0</td>\n",
       "      <td>0</td>\n",
       "      <td>0</td>\n",
       "      <td>0</td>\n",
       "      <td>1.0</td>\n",
       "      <td>...</td>\n",
       "      <td>0</td>\n",
       "      <td>0</td>\n",
       "      <td>0</td>\n",
       "      <td>0</td>\n",
       "      <td>0.833824</td>\n",
       "      <td>5</td>\n",
       "      <td>172</td>\n",
       "      <td>177</td>\n",
       "      <td>714886.0</td>\n",
       "      <td>0.007124</td>\n",
       "    </tr>\n",
       "    <tr>\n",
       "      <th>6</th>\n",
       "      <td>3704.0</td>\n",
       "      <td>1</td>\n",
       "      <td>2.000000</td>\n",
       "      <td>0</td>\n",
       "      <td>0.0</td>\n",
       "      <td>0</td>\n",
       "      <td>0</td>\n",
       "      <td>0</td>\n",
       "      <td>1</td>\n",
       "      <td>1.0</td>\n",
       "      <td>...</td>\n",
       "      <td>0</td>\n",
       "      <td>0</td>\n",
       "      <td>0</td>\n",
       "      <td>0</td>\n",
       "      <td>2.248937</td>\n",
       "      <td>4</td>\n",
       "      <td>50</td>\n",
       "      <td>54</td>\n",
       "      <td>210536.0</td>\n",
       "      <td>0.017593</td>\n",
       "    </tr>\n",
       "    <tr>\n",
       "      <th>7</th>\n",
       "      <td>2330.0</td>\n",
       "      <td>2</td>\n",
       "      <td>158.680214</td>\n",
       "      <td>0</td>\n",
       "      <td>0.0</td>\n",
       "      <td>1</td>\n",
       "      <td>1</td>\n",
       "      <td>1</td>\n",
       "      <td>1</td>\n",
       "      <td>1.0</td>\n",
       "      <td>...</td>\n",
       "      <td>0</td>\n",
       "      <td>0</td>\n",
       "      <td>0</td>\n",
       "      <td>0</td>\n",
       "      <td>2.282076</td>\n",
       "      <td>4</td>\n",
       "      <td>50</td>\n",
       "      <td>54</td>\n",
       "      <td>162012.0</td>\n",
       "      <td>0.014382</td>\n",
       "    </tr>\n",
       "    <tr>\n",
       "      <th>8</th>\n",
       "      <td>771.0</td>\n",
       "      <td>2</td>\n",
       "      <td>2.000000</td>\n",
       "      <td>0</td>\n",
       "      <td>0.0</td>\n",
       "      <td>0</td>\n",
       "      <td>1</td>\n",
       "      <td>0</td>\n",
       "      <td>0</td>\n",
       "      <td>1.0</td>\n",
       "      <td>...</td>\n",
       "      <td>0</td>\n",
       "      <td>0</td>\n",
       "      <td>0</td>\n",
       "      <td>0</td>\n",
       "      <td>1.623158</td>\n",
       "      <td>88</td>\n",
       "      <td>50</td>\n",
       "      <td>138</td>\n",
       "      <td>31360.0</td>\n",
       "      <td>0.024585</td>\n",
       "    </tr>\n",
       "    <tr>\n",
       "      <th>9</th>\n",
       "      <td>605.0</td>\n",
       "      <td>2</td>\n",
       "      <td>13.000000</td>\n",
       "      <td>0</td>\n",
       "      <td>0.0</td>\n",
       "      <td>0</td>\n",
       "      <td>1</td>\n",
       "      <td>0</td>\n",
       "      <td>0</td>\n",
       "      <td>1.0</td>\n",
       "      <td>...</td>\n",
       "      <td>0</td>\n",
       "      <td>0</td>\n",
       "      <td>0</td>\n",
       "      <td>0</td>\n",
       "      <td>0.585673</td>\n",
       "      <td>34</td>\n",
       "      <td>86</td>\n",
       "      <td>120</td>\n",
       "      <td>77679.0</td>\n",
       "      <td>0.007788</td>\n",
       "    </tr>\n",
       "  </tbody>\n",
       "</table>\n",
       "<p>10 rows × 112 columns</p>\n",
       "</div>"
      ],
      "text/plain": [
       "   ranking  price_range  number_of_reviews  sample  rating  cuisine_style_NAN  \\\n",
       "0  12963.0            2           4.000000       0     0.0                  0   \n",
       "1    106.0            2          97.000000       0     0.0                  0   \n",
       "2    810.0            2          28.000000       0     0.0                  0   \n",
       "3   1669.0            3         202.000000       0     0.0                  0   \n",
       "4     37.0            3         162.000000       0     0.0                  0   \n",
       "5   5093.0            1          24.000000       0     0.0                  0   \n",
       "6   3704.0            1           2.000000       0     0.0                  0   \n",
       "7   2330.0            2         158.680214       0     0.0                  1   \n",
       "8    771.0            2           2.000000       0     0.0                  0   \n",
       "9    605.0            2          13.000000       0     0.0                  0   \n",
       "\n",
       "   price_range_NAN  number_of_reviews_NAN  reviews_NAN  chain_restaurant  ...  \\\n",
       "0                0                      0            1               1.0  ...   \n",
       "1                0                      0            0               1.0  ...   \n",
       "2                0                      0            0               1.0  ...   \n",
       "3                0                      0            0               1.0  ...   \n",
       "4                0                      0            0               1.0  ...   \n",
       "5                0                      0            0               1.0  ...   \n",
       "6                0                      0            1               1.0  ...   \n",
       "7                1                      1            1               1.0  ...   \n",
       "8                1                      0            0               1.0  ...   \n",
       "9                1                      0            0               1.0  ...   \n",
       "\n",
       "   Soups  Middle Eastern  Pizza  Turkish  ranking_norm  review_days  \\\n",
       "0      0               0      0        0      2.122299            4   \n",
       "1      0               0      0        0      0.223158           37   \n",
       "2      0               0      0        0      1.087248           22   \n",
       "3      0               0      0        0      0.232031           14   \n",
       "4      0               0      0        0      0.097368           15   \n",
       "5      0               0      0        0      0.833824            5   \n",
       "6      0               0      0        0      2.248937            4   \n",
       "7      0               0      0        0      2.282076            4   \n",
       "8      0               0      0        0      1.623158           88   \n",
       "9      0               0      0        0      0.585673           34   \n",
       "\n",
       "   days_to_last_rev_1  days_to_last_rev_2  num_reviews_city  rank_rev_city  \n",
       "0                  50                  54          714886.0       0.018133  \n",
       "1                  83                 120           31360.0       0.003380  \n",
       "2                  60                  82          177095.0       0.004574  \n",
       "3                  82                  96          992407.0       0.001682  \n",
       "4                  18                  33           19614.0       0.001886  \n",
       "5                 172                 177          714886.0       0.007124  \n",
       "6                  50                  54          210536.0       0.017593  \n",
       "7                  50                  54          162012.0       0.014382  \n",
       "8                  50                 138           31360.0       0.024585  \n",
       "9                  86                 120           77679.0       0.007788  \n",
       "\n",
       "[10 rows x 112 columns]"
      ]
     },
     "execution_count": 235,
     "metadata": {},
     "output_type": "execute_result"
    }
   ],
   "source": [
    "df_preproc = data.copy(deep=True)\n",
    "df_preproc.head(10)"
   ]
  },
  {
   "cell_type": "markdown",
   "metadata": {},
   "source": [
    "Теперь выделим тестовую часть"
   ]
  },
  {
   "cell_type": "code",
   "execution_count": 226,
   "metadata": {},
   "outputs": [],
   "source": [
    "train_data = df_preproc.query('sample == 1').drop(['sample'], axis=1)\n",
    "test_data = df_preproc.query('sample == 0').drop(['sample'], axis=1)\n",
    "\n",
    "y = train_data.rating.values            # наш таргет\n",
    "X = train_data.drop(['rating'], axis=1)"
   ]
  },
  {
   "cell_type": "markdown",
   "metadata": {},
   "source": [
    "**Перед тем как отправлять наши данные на обучение, разделим данные на еще один тест и трейн, для валидации. \n",
    "Это поможет нам проверить, как хорошо наша модель работает, до отправки submissiona на kaggle.**"
   ]
  },
  {
   "cell_type": "markdown",
   "metadata": {},
   "source": [
    "Воспользуемся специальной функцие train_test_split для разбивки тестовых данных выделим 20% данных на валидацию (параметр test_size)"
   ]
  },
  {
   "cell_type": "code",
   "execution_count": 227,
   "metadata": {},
   "outputs": [],
   "source": [
    "X_train, X_test, y_train, y_test = train_test_split(X, y, test_size=0.2, random_state=RANDOM_SEED)"
   ]
  },
  {
   "cell_type": "markdown",
   "metadata": {},
   "source": [
    "Проверяем:"
   ]
  },
  {
   "cell_type": "code",
   "execution_count": 228,
   "metadata": {},
   "outputs": [
    {
     "data": {
      "text/plain": [
       "((10000, 111), (40000, 111), (40000, 110), (32000, 110), (8000, 110))"
      ]
     },
     "execution_count": 228,
     "metadata": {},
     "output_type": "execute_result"
    }
   ],
   "source": [
    "test_data.shape, train_data.shape, X.shape, X_train.shape, X_test.shape"
   ]
  },
  {
   "cell_type": "markdown",
   "metadata": {},
   "source": [
    "# Model \n",
    "Сам ML"
   ]
  },
  {
   "cell_type": "markdown",
   "metadata": {},
   "source": [
    "Импортируем необходимые библиотеки:"
   ]
  },
  {
   "cell_type": "code",
   "execution_count": 229,
   "metadata": {},
   "outputs": [],
   "source": [
    "from sklearn.ensemble import RandomForestRegressor # инструмент для создания и обучения модели\n",
    "from sklearn import metrics # инструменты для оценки точности модели"
   ]
  },
  {
   "cell_type": "markdown",
   "metadata": {},
   "source": [
    "Создаём модель (НАСТРОЙКИ НЕ ТРОГАЕМ):"
   ]
  },
  {
   "cell_type": "code",
   "execution_count": 230,
   "metadata": {},
   "outputs": [],
   "source": [
    "model = RandomForestRegressor(n_estimators=100, verbose=1, n_jobs=-1, random_state=RANDOM_SEED)"
   ]
  },
  {
   "cell_type": "markdown",
   "metadata": {},
   "source": [
    "Обучаем модель на тестовом наборе данных"
   ]
  },
  {
   "cell_type": "code",
   "execution_count": 282,
   "metadata": {},
   "outputs": [
    {
     "name": "stderr",
     "output_type": "stream",
     "text": [
      "[Parallel(n_jobs=-1)]: Using backend ThreadingBackend with 4 concurrent workers.\n",
      "[Parallel(n_jobs=-1)]: Done  42 tasks      | elapsed:   15.1s\n",
      "[Parallel(n_jobs=-1)]: Done 100 out of 100 | elapsed:   32.5s finished\n",
      "[Parallel(n_jobs=4)]: Using backend ThreadingBackend with 4 concurrent workers.\n",
      "[Parallel(n_jobs=4)]: Done  42 tasks      | elapsed:    0.0s\n",
      "[Parallel(n_jobs=4)]: Done 100 out of 100 | elapsed:    0.1s finished\n"
     ]
    }
   ],
   "source": [
    "model.fit(X_train, y_train)\n",
    "\n",
    "# Используем обученную модель для предсказания рейтинга ресторанов в тестовой выборке.\n",
    "# Предсказанные значения записываем в переменную y_pred\n",
    "y_pred_1 = model.predict(X_test)\n",
    "y_pred = np.around(y_pred_1*2, decimals=0) / 2"
   ]
  },
  {
   "cell_type": "markdown",
   "metadata": {},
   "source": [
    "Сравниваем предсказанные значения (y_pred) с реальными (y_test), и смотрим насколько они в среднем отличаются.\n",
    "Метрика называется Mean Absolute Error (MAE) и показывает среднее отклонение предсказанных значений от фактических."
   ]
  },
  {
   "cell_type": "code",
   "execution_count": 283,
   "metadata": {},
   "outputs": [
    {
     "data": {
      "text/plain": [
       "('MAE:', 0.164625)"
      ]
     },
     "execution_count": 283,
     "metadata": {},
     "output_type": "execute_result"
    }
   ],
   "source": [
    "MAE = 'MAE:', metrics.mean_absolute_error(y_test, y_pred)\n",
    "MAE"
   ]
  },
  {
   "cell_type": "markdown",
   "metadata": {},
   "source": [
    "В RandomForestRegressor есть возможность вывести самые важные признаки для модели"
   ]
  },
  {
   "cell_type": "code",
   "execution_count": 287,
   "metadata": {},
   "outputs": [
    {
     "data": {
      "text/plain": [
       "<matplotlib.axes._subplots.AxesSubplot at 0x7fb84c590430>"
      ]
     },
     "execution_count": 287,
     "metadata": {},
     "output_type": "execute_result"
    },
    {
     "data": {
      "image/png": "[encoded data removed]",
      "text/plain": [
       "<Figure size 720x720 with 1 Axes>"
      ]
     },
     "metadata": {
      "needs_background": "light"
     },
     "output_type": "display_data"
    }
   ],
   "source": [
    "plt.rcParams['figure.figsize'] = (10,10)\n",
    "feat_importances = pd.Series(model.feature_importances_, index=X.columns)\n",
    "feat_importances.nlargest(20).plot(kind='barh')"
   ]
  },
  {
   "cell_type": "markdown",
   "metadata": {},
   "source": [
    "# Total"
   ]
  },
  {
   "cell_type": "markdown",
   "metadata": {},
   "source": [
    "Итак, на данном этапе показатель метрики МАЕ нашей модели составляет: "
   ]
  },
  {
   "cell_type": "code",
   "execution_count": 285,
   "metadata": {},
   "outputs": [
    {
     "data": {
      "text/plain": [
       "('MAE:', 0.164625)"
      ]
     },
     "execution_count": 285,
     "metadata": {},
     "output_type": "execute_result"
    }
   ],
   "source": [
    "MAE"
   ]
  }
 ],
 "metadata": {
  "kernelspec": {
   "display_name": "Python 3",
   "language": "python",
   "name": "python3"
  },
  "language_info": {
   "codemirror_mode": {
    "name": "ipython",
    "version": 3
   },
   "file_extension": ".py",
   "mimetype": "text/x-python",
   "name": "python",
   "nbconvert_exporter": "python",
   "pygments_lexer": "ipython3",
   "version": "3.8.3"
  }
 },
 "nbformat": 4,
 "nbformat_minor": 4
}
