{
 "cells": [
  {
   "cell_type": "markdown",
   "metadata": {},
   "source": [
    "![](https://static.tacdn.com/img2/brand_refresh/application_icons/post-image-550x370.png)\n",
    "# Predict TripAdvisor Rating\n",
    "### В этом соревновании мы предскажем рейтинги ресторанов в TripAdvisor"
   ]
  },
  {
   "cell_type": "markdown",
   "metadata": {},
   "source": [
    "## Import"
   ]
  },
  {
   "cell_type": "code",
   "execution_count": 6,
   "metadata": {
    "_cell_guid": "b1076dfc-b9ad-4769-8c92-a6c4dae69d19",
    "_uuid": "8f2839f25d086af736a60e9eeb907d3b93b6e0e5"
   },
   "outputs": [],
   "source": [
    "import pandas as pd\n",
    "import numpy as np\n",
    "\n",
    "import re\n",
    "import matplotlib.pyplot as plt\n",
    "import seaborn as sns \n",
    "%matplotlib inline\n",
    "\n",
    "from sklearn.preprocessing import OneHotEncoder\n",
    "from sklearn.model_selection import train_test_split\n",
    "        \n",
    "import datetime\n",
    "from datetime import datetime, timedelta"
   ]
  },
  {
   "cell_type": "code",
   "execution_count": 2,
   "metadata": {},
   "outputs": [],
   "source": [
    "# Фиксируем RANDOM_SEED, чтобы нашии эксперименты были воспроизводимы:\n",
    "RANDOM_SEED = 42"
   ]
  },
  {
   "cell_type": "code",
   "execution_count": 3,
   "metadata": {},
   "outputs": [],
   "source": [
    "# Фиксируем версию пакетов, чтобы наши эксперименты были воспроизводимы:\n",
    "!pip freeze > requirements.txt"
   ]
  },
  {
   "cell_type": "markdown",
   "metadata": {},
   "source": [
    "## Data"
   ]
  },
  {
   "cell_type": "code",
   "execution_count": 7,
   "metadata": {
    "_cell_guid": "79c7e3d0-c299-4dcb-8224-4455121ee9b0",
    "_uuid": "d629ff2d2480ee46fbb7e2d37f6b5fab8052498a"
   },
   "outputs": [],
   "source": [
    "df_train = pd.read_csv('main_task.csv')\n",
    "df_test = pd.read_csv('kaggle_task.csv')\n",
    "sample_submission = pd.read_csv('sample_submission.csv')"
   ]
  },
  {
   "cell_type": "markdown",
   "metadata": {},
   "source": [
    "Посмотрим на количественные характеристики наших признаков:"
   ]
  },
  {
   "cell_type": "code",
   "execution_count": 8,
   "metadata": {},
   "outputs": [
    {
     "name": "stdout",
     "output_type": "stream",
     "text": [
      "<class 'pandas.core.frame.DataFrame'>\n",
      "RangeIndex: 40000 entries, 0 to 39999\n",
      "Data columns (total 10 columns):\n",
      " #   Column             Non-Null Count  Dtype  \n",
      "---  ------             --------------  -----  \n",
      " 0   Restaurant_id      40000 non-null  object \n",
      " 1   City               40000 non-null  object \n",
      " 2   Cuisine Style      30717 non-null  object \n",
      " 3   Ranking            40000 non-null  float64\n",
      " 4   Rating             40000 non-null  float64\n",
      " 5   Price Range        26114 non-null  object \n",
      " 6   Number of Reviews  37457 non-null  float64\n",
      " 7   Reviews            40000 non-null  object \n",
      " 8   URL_TA             40000 non-null  object \n",
      " 9   ID_TA              40000 non-null  object \n",
      "dtypes: float64(3), object(7)\n",
      "memory usage: 3.1+ MB\n"
     ]
    }
   ],
   "source": [
    "df_train.info()"
   ]
  },
  {
   "cell_type": "code",
   "execution_count": 9,
   "metadata": {},
   "outputs": [
    {
     "data": {
      "text/html": [
       "<div>\n",
       "<style scoped>\n",
       "    .dataframe tbody tr th:only-of-type {\n",
       "        vertical-align: middle;\n",
       "    }\n",
       "\n",
       "    .dataframe tbody tr th {\n",
       "        vertical-align: top;\n",
       "    }\n",
       "\n",
       "    .dataframe thead th {\n",
       "        text-align: right;\n",
       "    }\n",
       "</style>\n",
       "<table border=\"1\" class=\"dataframe\">\n",
       "  <thead>\n",
       "    <tr style=\"text-align: right;\">\n",
       "      <th></th>\n",
       "      <th>Restaurant_id</th>\n",
       "      <th>City</th>\n",
       "      <th>Cuisine Style</th>\n",
       "      <th>Ranking</th>\n",
       "      <th>Rating</th>\n",
       "      <th>Price Range</th>\n",
       "      <th>Number of Reviews</th>\n",
       "      <th>Reviews</th>\n",
       "      <th>URL_TA</th>\n",
       "      <th>ID_TA</th>\n",
       "    </tr>\n",
       "  </thead>\n",
       "  <tbody>\n",
       "    <tr>\n",
       "      <th>0</th>\n",
       "      <td>id_5569</td>\n",
       "      <td>Paris</td>\n",
       "      <td>['European', 'French', 'International']</td>\n",
       "      <td>5570.0</td>\n",
       "      <td>3.5</td>\n",
       "      <td>$$ - $$$</td>\n",
       "      <td>194.0</td>\n",
       "      <td>[['Good food at your doorstep', 'A good hotel ...</td>\n",
       "      <td>/Restaurant_Review-g187147-d1912643-Reviews-R_...</td>\n",
       "      <td>d1912643</td>\n",
       "    </tr>\n",
       "    <tr>\n",
       "      <th>1</th>\n",
       "      <td>id_1535</td>\n",
       "      <td>Stockholm</td>\n",
       "      <td>NaN</td>\n",
       "      <td>1537.0</td>\n",
       "      <td>4.0</td>\n",
       "      <td>NaN</td>\n",
       "      <td>10.0</td>\n",
       "      <td>[['Unique cuisine', 'Delicious Nepalese food']...</td>\n",
       "      <td>/Restaurant_Review-g189852-d7992032-Reviews-Bu...</td>\n",
       "      <td>d7992032</td>\n",
       "    </tr>\n",
       "    <tr>\n",
       "      <th>2</th>\n",
       "      <td>id_352</td>\n",
       "      <td>London</td>\n",
       "      <td>['Japanese', 'Sushi', 'Asian', 'Grill', 'Veget...</td>\n",
       "      <td>353.0</td>\n",
       "      <td>4.5</td>\n",
       "      <td>$$$$</td>\n",
       "      <td>688.0</td>\n",
       "      <td>[['Catch up with friends', 'Not exceptional'],...</td>\n",
       "      <td>/Restaurant_Review-g186338-d8632781-Reviews-RO...</td>\n",
       "      <td>d8632781</td>\n",
       "    </tr>\n",
       "    <tr>\n",
       "      <th>3</th>\n",
       "      <td>id_3456</td>\n",
       "      <td>Berlin</td>\n",
       "      <td>NaN</td>\n",
       "      <td>3458.0</td>\n",
       "      <td>5.0</td>\n",
       "      <td>NaN</td>\n",
       "      <td>3.0</td>\n",
       "      <td>[[], []]</td>\n",
       "      <td>/Restaurant_Review-g187323-d1358776-Reviews-Es...</td>\n",
       "      <td>d1358776</td>\n",
       "    </tr>\n",
       "    <tr>\n",
       "      <th>4</th>\n",
       "      <td>id_615</td>\n",
       "      <td>Munich</td>\n",
       "      <td>['German', 'Central European', 'Vegetarian Fri...</td>\n",
       "      <td>621.0</td>\n",
       "      <td>4.0</td>\n",
       "      <td>$$ - $$$</td>\n",
       "      <td>84.0</td>\n",
       "      <td>[['Best place to try a Bavarian food', 'Nice b...</td>\n",
       "      <td>/Restaurant_Review-g187309-d6864963-Reviews-Au...</td>\n",
       "      <td>d6864963</td>\n",
       "    </tr>\n",
       "  </tbody>\n",
       "</table>\n",
       "</div>"
      ],
      "text/plain": [
       "  Restaurant_id       City                                      Cuisine Style  \\\n",
       "0       id_5569      Paris            ['European', 'French', 'International']   \n",
       "1       id_1535  Stockholm                                                NaN   \n",
       "2        id_352     London  ['Japanese', 'Sushi', 'Asian', 'Grill', 'Veget...   \n",
       "3       id_3456     Berlin                                                NaN   \n",
       "4        id_615     Munich  ['German', 'Central European', 'Vegetarian Fri...   \n",
       "\n",
       "   Ranking  Rating Price Range  Number of Reviews  \\\n",
       "0   5570.0     3.5    $$ - $$$              194.0   \n",
       "1   1537.0     4.0         NaN               10.0   \n",
       "2    353.0     4.5        $$$$              688.0   \n",
       "3   3458.0     5.0         NaN                3.0   \n",
       "4    621.0     4.0    $$ - $$$               84.0   \n",
       "\n",
       "                                             Reviews  \\\n",
       "0  [['Good food at your doorstep', 'A good hotel ...   \n",
       "1  [['Unique cuisine', 'Delicious Nepalese food']...   \n",
       "2  [['Catch up with friends', 'Not exceptional'],...   \n",
       "3                                           [[], []]   \n",
       "4  [['Best place to try a Bavarian food', 'Nice b...   \n",
       "\n",
       "                                              URL_TA     ID_TA  \n",
       "0  /Restaurant_Review-g187147-d1912643-Reviews-R_...  d1912643  \n",
       "1  /Restaurant_Review-g189852-d7992032-Reviews-Bu...  d7992032  \n",
       "2  /Restaurant_Review-g186338-d8632781-Reviews-RO...  d8632781  \n",
       "3  /Restaurant_Review-g187323-d1358776-Reviews-Es...  d1358776  \n",
       "4  /Restaurant_Review-g187309-d6864963-Reviews-Au...  d6864963  "
      ]
     },
     "execution_count": 9,
     "metadata": {},
     "output_type": "execute_result"
    }
   ],
   "source": [
    "df_train.head()"
   ]
  },
  {
   "cell_type": "code",
   "execution_count": 10,
   "metadata": {},
   "outputs": [
    {
     "name": "stdout",
     "output_type": "stream",
     "text": [
      "<class 'pandas.core.frame.DataFrame'>\n",
      "RangeIndex: 10000 entries, 0 to 9999\n",
      "Data columns (total 9 columns):\n",
      " #   Column             Non-Null Count  Dtype  \n",
      "---  ------             --------------  -----  \n",
      " 0   Restaurant_id      10000 non-null  object \n",
      " 1   City               10000 non-null  object \n",
      " 2   Cuisine Style      7693 non-null   object \n",
      " 3   Ranking            10000 non-null  float64\n",
      " 4   Price Range        6525 non-null   object \n",
      " 5   Number of Reviews  9343 non-null   float64\n",
      " 6   Reviews            9998 non-null   object \n",
      " 7   URL_TA             10000 non-null  object \n",
      " 8   ID_TA              10000 non-null  object \n",
      "dtypes: float64(2), object(7)\n",
      "memory usage: 703.2+ KB\n"
     ]
    }
   ],
   "source": [
    "df_test.info()"
   ]
  },
  {
   "cell_type": "code",
   "execution_count": 11,
   "metadata": {},
   "outputs": [
    {
     "data": {
      "text/html": [
       "<div>\n",
       "<style scoped>\n",
       "    .dataframe tbody tr th:only-of-type {\n",
       "        vertical-align: middle;\n",
       "    }\n",
       "\n",
       "    .dataframe tbody tr th {\n",
       "        vertical-align: top;\n",
       "    }\n",
       "\n",
       "    .dataframe thead th {\n",
       "        text-align: right;\n",
       "    }\n",
       "</style>\n",
       "<table border=\"1\" class=\"dataframe\">\n",
       "  <thead>\n",
       "    <tr style=\"text-align: right;\">\n",
       "      <th></th>\n",
       "      <th>Restaurant_id</th>\n",
       "      <th>City</th>\n",
       "      <th>Cuisine Style</th>\n",
       "      <th>Ranking</th>\n",
       "      <th>Price Range</th>\n",
       "      <th>Number of Reviews</th>\n",
       "      <th>Reviews</th>\n",
       "      <th>URL_TA</th>\n",
       "      <th>ID_TA</th>\n",
       "    </tr>\n",
       "  </thead>\n",
       "  <tbody>\n",
       "    <tr>\n",
       "      <th>0</th>\n",
       "      <td>id_0</td>\n",
       "      <td>Paris</td>\n",
       "      <td>['Bar', 'Pub']</td>\n",
       "      <td>12963.0</td>\n",
       "      <td>$$ - $$$</td>\n",
       "      <td>4.0</td>\n",
       "      <td>[[], []]</td>\n",
       "      <td>/Restaurant_Review-g187147-d10746918-Reviews-L...</td>\n",
       "      <td>d10746918</td>\n",
       "    </tr>\n",
       "    <tr>\n",
       "      <th>1</th>\n",
       "      <td>id_1</td>\n",
       "      <td>Helsinki</td>\n",
       "      <td>['European', 'Scandinavian', 'Gluten Free Opti...</td>\n",
       "      <td>106.0</td>\n",
       "      <td>$$ - $$$</td>\n",
       "      <td>97.0</td>\n",
       "      <td>[['Very good reviews!', 'Fine dining in Hakani...</td>\n",
       "      <td>/Restaurant_Review-g189934-d6674944-Reviews-Ra...</td>\n",
       "      <td>d6674944</td>\n",
       "    </tr>\n",
       "    <tr>\n",
       "      <th>2</th>\n",
       "      <td>id_2</td>\n",
       "      <td>Edinburgh</td>\n",
       "      <td>['Vegetarian Friendly']</td>\n",
       "      <td>810.0</td>\n",
       "      <td>$$ - $$$</td>\n",
       "      <td>28.0</td>\n",
       "      <td>[['Better than the Links', 'Ivy Black'], ['12/...</td>\n",
       "      <td>/Restaurant_Review-g186525-d13129638-Reviews-B...</td>\n",
       "      <td>d13129638</td>\n",
       "    </tr>\n",
       "    <tr>\n",
       "      <th>3</th>\n",
       "      <td>id_3</td>\n",
       "      <td>London</td>\n",
       "      <td>['Italian', 'Mediterranean', 'European', 'Vege...</td>\n",
       "      <td>1669.0</td>\n",
       "      <td>$$$$</td>\n",
       "      <td>202.0</td>\n",
       "      <td>[['Most exquisite', 'Delicious and authentic']...</td>\n",
       "      <td>/Restaurant_Review-g186338-d680417-Reviews-Qui...</td>\n",
       "      <td>d680417</td>\n",
       "    </tr>\n",
       "    <tr>\n",
       "      <th>4</th>\n",
       "      <td>id_4</td>\n",
       "      <td>Bratislava</td>\n",
       "      <td>['Italian', 'Mediterranean', 'European', 'Seaf...</td>\n",
       "      <td>37.0</td>\n",
       "      <td>$$$$</td>\n",
       "      <td>162.0</td>\n",
       "      <td>[['Always the best in bratislava', 'Very good ...</td>\n",
       "      <td>/Restaurant_Review-g274924-d1112354-Reviews-Ma...</td>\n",
       "      <td>d1112354</td>\n",
       "    </tr>\n",
       "  </tbody>\n",
       "</table>\n",
       "</div>"
      ],
      "text/plain": [
       "  Restaurant_id        City  \\\n",
       "0          id_0       Paris   \n",
       "1          id_1    Helsinki   \n",
       "2          id_2   Edinburgh   \n",
       "3          id_3      London   \n",
       "4          id_4  Bratislava   \n",
       "\n",
       "                                       Cuisine Style  Ranking Price Range  \\\n",
       "0                                     ['Bar', 'Pub']  12963.0    $$ - $$$   \n",
       "1  ['European', 'Scandinavian', 'Gluten Free Opti...    106.0    $$ - $$$   \n",
       "2                            ['Vegetarian Friendly']    810.0    $$ - $$$   \n",
       "3  ['Italian', 'Mediterranean', 'European', 'Vege...   1669.0        $$$$   \n",
       "4  ['Italian', 'Mediterranean', 'European', 'Seaf...     37.0        $$$$   \n",
       "\n",
       "   Number of Reviews                                            Reviews  \\\n",
       "0                4.0                                           [[], []]   \n",
       "1               97.0  [['Very good reviews!', 'Fine dining in Hakani...   \n",
       "2               28.0  [['Better than the Links', 'Ivy Black'], ['12/...   \n",
       "3              202.0  [['Most exquisite', 'Delicious and authentic']...   \n",
       "4              162.0  [['Always the best in bratislava', 'Very good ...   \n",
       "\n",
       "                                              URL_TA      ID_TA  \n",
       "0  /Restaurant_Review-g187147-d10746918-Reviews-L...  d10746918  \n",
       "1  /Restaurant_Review-g189934-d6674944-Reviews-Ra...   d6674944  \n",
       "2  /Restaurant_Review-g186525-d13129638-Reviews-B...  d13129638  \n",
       "3  /Restaurant_Review-g186338-d680417-Reviews-Qui...    d680417  \n",
       "4  /Restaurant_Review-g274924-d1112354-Reviews-Ma...   d1112354  "
      ]
     },
     "execution_count": 11,
     "metadata": {},
     "output_type": "execute_result"
    }
   ],
   "source": [
    "df_test.head()"
   ]
  },
  {
   "cell_type": "markdown",
   "metadata": {},
   "source": [
    "ВАЖНО! Для корректной обработки признаков объединяем train и test в один датасет:"
   ]
  },
  {
   "cell_type": "code",
   "execution_count": 12,
   "metadata": {},
   "outputs": [],
   "source": [
    "df_train['sample'] = 1 # помечаем, где у нас train;\n",
    "df_test['sample'] = 0 # помечаем, где у нас test;\n",
    "df_test['Rating'] = 0 # в test у нас нет значения Rating, мы его должны предсказать, поэтому пока просто заполняем нулями.\n",
    "\n",
    "data = df_test.append(df_train, sort=False).reset_index(drop=True)"
   ]
  },
  {
   "cell_type": "markdown",
   "metadata": {},
   "source": [
    "Посмотрим на данные:"
   ]
  },
  {
   "cell_type": "code",
   "execution_count": 13,
   "metadata": {},
   "outputs": [
    {
     "data": {
      "text/html": [
       "<div>\n",
       "<style scoped>\n",
       "    .dataframe tbody tr th:only-of-type {\n",
       "        vertical-align: middle;\n",
       "    }\n",
       "\n",
       "    .dataframe tbody tr th {\n",
       "        vertical-align: top;\n",
       "    }\n",
       "\n",
       "    .dataframe thead th {\n",
       "        text-align: right;\n",
       "    }\n",
       "</style>\n",
       "<table border=\"1\" class=\"dataframe\">\n",
       "  <thead>\n",
       "    <tr style=\"text-align: right;\">\n",
       "      <th></th>\n",
       "      <th>Restaurant_id</th>\n",
       "      <th>City</th>\n",
       "      <th>Cuisine Style</th>\n",
       "      <th>Ranking</th>\n",
       "      <th>Price Range</th>\n",
       "      <th>Number of Reviews</th>\n",
       "      <th>Reviews</th>\n",
       "      <th>URL_TA</th>\n",
       "      <th>ID_TA</th>\n",
       "      <th>sample</th>\n",
       "      <th>Rating</th>\n",
       "    </tr>\n",
       "  </thead>\n",
       "  <tbody>\n",
       "    <tr>\n",
       "      <th>6528</th>\n",
       "      <td>id_6528</td>\n",
       "      <td>Paris</td>\n",
       "      <td>['Thai', 'Vegetarian Friendly']</td>\n",
       "      <td>3579.0</td>\n",
       "      <td>$$ - $$$</td>\n",
       "      <td>52.0</td>\n",
       "      <td>[['Good Thai', 'Really Real Thai test'], ['06/...</td>\n",
       "      <td>/Restaurant_Review-g187147-d7285462-Reviews-Pa...</td>\n",
       "      <td>d7285462</td>\n",
       "      <td>0</td>\n",
       "      <td>0.0</td>\n",
       "    </tr>\n",
       "    <tr>\n",
       "      <th>25594</th>\n",
       "      <td>id_12732</td>\n",
       "      <td>Paris</td>\n",
       "      <td>['French']</td>\n",
       "      <td>12734.0</td>\n",
       "      <td>$$ - $$$</td>\n",
       "      <td>10.0</td>\n",
       "      <td>[['Tradicional french bistro', 'Friendly staff...</td>\n",
       "      <td>/Restaurant_Review-g187147-d5792723-Reviews-Le...</td>\n",
       "      <td>d5792723</td>\n",
       "      <td>1</td>\n",
       "      <td>3.5</td>\n",
       "    </tr>\n",
       "    <tr>\n",
       "      <th>25245</th>\n",
       "      <td>id_1140</td>\n",
       "      <td>Helsinki</td>\n",
       "      <td>['Asian']</td>\n",
       "      <td>1141.0</td>\n",
       "      <td>NaN</td>\n",
       "      <td>NaN</td>\n",
       "      <td>[['The worst food I have had in years'], ['04/...</td>\n",
       "      <td>/Restaurant_Review-g189934-d10834831-Reviews-F...</td>\n",
       "      <td>d10834831</td>\n",
       "      <td>1</td>\n",
       "      <td>1.0</td>\n",
       "    </tr>\n",
       "    <tr>\n",
       "      <th>20489</th>\n",
       "      <td>id_5767</td>\n",
       "      <td>Milan</td>\n",
       "      <td>NaN</td>\n",
       "      <td>5770.0</td>\n",
       "      <td>NaN</td>\n",
       "      <td>7.0</td>\n",
       "      <td>[['Great Lunch'], ['11/04/2016']]</td>\n",
       "      <td>/Restaurant_Review-g187849-d10153898-Reviews-M...</td>\n",
       "      <td>d10153898</td>\n",
       "      <td>1</td>\n",
       "      <td>3.0</td>\n",
       "    </tr>\n",
       "    <tr>\n",
       "      <th>11121</th>\n",
       "      <td>id_71</td>\n",
       "      <td>Brussels</td>\n",
       "      <td>['French', 'Belgian', 'European', 'Vegetarian ...</td>\n",
       "      <td>72.0</td>\n",
       "      <td>$$ - $$$</td>\n",
       "      <td>458.0</td>\n",
       "      <td>[['very Good Brasserie', 'Good food and servic...</td>\n",
       "      <td>/Restaurant_Review-g188644-d4092003-Reviews-Ar...</td>\n",
       "      <td>d4092003</td>\n",
       "      <td>1</td>\n",
       "      <td>4.0</td>\n",
       "    </tr>\n",
       "  </tbody>\n",
       "</table>\n",
       "</div>"
      ],
      "text/plain": [
       "      Restaurant_id      City  \\\n",
       "6528        id_6528     Paris   \n",
       "25594      id_12732     Paris   \n",
       "25245       id_1140  Helsinki   \n",
       "20489       id_5767     Milan   \n",
       "11121         id_71  Brussels   \n",
       "\n",
       "                                           Cuisine Style  Ranking Price Range  \\\n",
       "6528                     ['Thai', 'Vegetarian Friendly']   3579.0    $$ - $$$   \n",
       "25594                                         ['French']  12734.0    $$ - $$$   \n",
       "25245                                          ['Asian']   1141.0         NaN   \n",
       "20489                                                NaN   5770.0         NaN   \n",
       "11121  ['French', 'Belgian', 'European', 'Vegetarian ...     72.0    $$ - $$$   \n",
       "\n",
       "       Number of Reviews                                            Reviews  \\\n",
       "6528                52.0  [['Good Thai', 'Really Real Thai test'], ['06/...   \n",
       "25594               10.0  [['Tradicional french bistro', 'Friendly staff...   \n",
       "25245                NaN  [['The worst food I have had in years'], ['04/...   \n",
       "20489                7.0                  [['Great Lunch'], ['11/04/2016']]   \n",
       "11121              458.0  [['very Good Brasserie', 'Good food and servic...   \n",
       "\n",
       "                                                  URL_TA      ID_TA  sample  \\\n",
       "6528   /Restaurant_Review-g187147-d7285462-Reviews-Pa...   d7285462       0   \n",
       "25594  /Restaurant_Review-g187147-d5792723-Reviews-Le...   d5792723       1   \n",
       "25245  /Restaurant_Review-g189934-d10834831-Reviews-F...  d10834831       1   \n",
       "20489  /Restaurant_Review-g187849-d10153898-Reviews-M...  d10153898       1   \n",
       "11121  /Restaurant_Review-g188644-d4092003-Reviews-Ar...   d4092003       1   \n",
       "\n",
       "       Rating  \n",
       "6528      0.0  \n",
       "25594     3.5  \n",
       "25245     1.0  \n",
       "20489     3.0  \n",
       "11121     4.0  "
      ]
     },
     "execution_count": 13,
     "metadata": {},
     "output_type": "execute_result"
    }
   ],
   "source": [
    "data.sample(5)"
   ]
  },
  {
   "cell_type": "code",
   "execution_count": 14,
   "metadata": {},
   "outputs": [
    {
     "data": {
      "text/plain": [
       "(50000, 11)"
      ]
     },
     "execution_count": 14,
     "metadata": {},
     "output_type": "execute_result"
    }
   ],
   "source": [
    "data.shape"
   ]
  },
  {
   "cell_type": "code",
   "execution_count": 15,
   "metadata": {},
   "outputs": [
    {
     "name": "stdout",
     "output_type": "stream",
     "text": [
      "<class 'pandas.core.frame.DataFrame'>\n",
      "RangeIndex: 50000 entries, 0 to 49999\n",
      "Data columns (total 11 columns):\n",
      " #   Column             Non-Null Count  Dtype  \n",
      "---  ------             --------------  -----  \n",
      " 0   Restaurant_id      50000 non-null  object \n",
      " 1   City               50000 non-null  object \n",
      " 2   Cuisine Style      38410 non-null  object \n",
      " 3   Ranking            50000 non-null  float64\n",
      " 4   Price Range        32639 non-null  object \n",
      " 5   Number of Reviews  46800 non-null  float64\n",
      " 6   Reviews            49998 non-null  object \n",
      " 7   URL_TA             50000 non-null  object \n",
      " 8   ID_TA              50000 non-null  object \n",
      " 9   sample             50000 non-null  int64  \n",
      " 10  Rating             50000 non-null  float64\n",
      "dtypes: float64(3), int64(1), object(7)\n",
      "memory usage: 4.2+ MB\n"
     ]
    }
   ],
   "source": [
    "data.info()"
   ]
  },
  {
   "cell_type": "markdown",
   "metadata": {},
   "source": [
    "#### Признаки датасета:"
   ]
  },
  {
   "cell_type": "markdown",
   "metadata": {},
   "source": [
    "- Restaurant_id — идентификационный номер ресторана;\n",
    "- City — город, в котором находится ресторан;\n",
    "- Cuisine Style — кухня или кухни, к которым можно отнести блюда, предлагаемые в ресторане;\n",
    "- Ranking — место, которое занимает данный ресторан среди всех ресторанов своего города;\n",
    "- Rating — рейтинг ресторана по данным TripAdvisor (именно это значение должна будет предсказывать модель);\n",
    "- Price Range — диапазон цен в ресторане;\n",
    "- Number of Reviews — количество отзывов о ресторане;\n",
    "- Reviews — данные о двух отзывах, которые отображаются на сайте ресторана;\n",
    "- URL_TA — URL страницы ресторана на TripAdvisor;\n",
    "- ID_TA — идентификатор ресторана в базе данных TripAdvisor.\n"
   ]
  },
  {
   "cell_type": "markdown",
   "metadata": {},
   "source": [
    "Приведем названия признаков к общему виду, для более удобной работы:"
   ]
  },
  {
   "cell_type": "code",
   "execution_count": 16,
   "metadata": {},
   "outputs": [],
   "source": [
    "data.columns = ['_'.join(col.split()).lower() for col in data.columns]"
   ]
  },
  {
   "cell_type": "markdown",
   "metadata": {},
   "source": [
    "Посмотрим на уникальность данных:"
   ]
  },
  {
   "cell_type": "code",
   "execution_count": 17,
   "metadata": {},
   "outputs": [
    {
     "data": {
      "text/plain": [
       "restaurant_id        13094\n",
       "city                    31\n",
       "cuisine_style        10731\n",
       "ranking              12975\n",
       "price_range              3\n",
       "number_of_reviews     1573\n",
       "reviews              41857\n",
       "url_ta               49963\n",
       "id_ta                49963\n",
       "sample                   2\n",
       "rating                  10\n",
       "dtype: int64"
      ]
     },
     "execution_count": 17,
     "metadata": {},
     "output_type": "execute_result"
    }
   ],
   "source": [
    "data.nunique()"
   ]
  },
  {
   "cell_type": "markdown",
   "metadata": {},
   "source": [
    "Как видно, такие признаки как restaurant_id, utl_ta, id_ta, которые якобы должны быть уникальными, имеют дубли.\n",
    "Возможные причины:\n",
    "\n",
    "- ошибки в данных, например, если датасет собирался из разных источников;\n",
    "- ресторан является сетевым и под одним id находится несколько филиалов в разных локациях."
   ]
  },
  {
   "cell_type": "markdown",
   "metadata": {},
   "source": [
    "Как видим, большинство признаков у нас требует очистки и предварительной обработки"
   ]
  },
  {
   "cell_type": "code",
   "execution_count": 19,
   "metadata": {
    "scrolled": true
   },
   "outputs": [
    {
     "data": {
      "text/plain": [
       "\"[['Very good reviews!', 'Fine dining in Hakaniemi'], ['12/05/2017', '10/29/2017']]\""
      ]
     },
     "execution_count": 19,
     "metadata": {},
     "output_type": "execute_result"
    }
   ],
   "source": [
    "data.reviews[1]"
   ]
  },
  {
   "cell_type": "markdown",
   "metadata": {},
   "source": [
    "# Data Preparation\n",
    "Обычно данные содержат в себе кучу мусора, который необходимо почистить, для того чтобы привести их в приемлемый формат. Чистка данных — это необходимый этап решения любой реальной задачи.\n",
    "![](https://www.aramar.co.uk/getmedia/115f9d70-637f-4b9a-9385-560fb542d8c9/data-analytics.png.aspx?ext=.png&width=500)"
   ]
  },
  {
   "cell_type": "code",
   "execution_count": 20,
   "metadata": {},
   "outputs": [
    {
     "name": "stdout",
     "output_type": "stream",
     "text": [
      "<class 'pandas.core.frame.DataFrame'>\n",
      "RangeIndex: 50000 entries, 0 to 49999\n",
      "Data columns (total 11 columns):\n",
      " #   Column             Non-Null Count  Dtype  \n",
      "---  ------             --------------  -----  \n",
      " 0   restaurant_id      50000 non-null  object \n",
      " 1   city               50000 non-null  object \n",
      " 2   cuisine_style      38410 non-null  object \n",
      " 3   ranking            50000 non-null  float64\n",
      " 4   price_range        32639 non-null  object \n",
      " 5   number_of_reviews  46800 non-null  float64\n",
      " 6   reviews            49998 non-null  object \n",
      " 7   url_ta             50000 non-null  object \n",
      " 8   id_ta              50000 non-null  object \n",
      " 9   sample             50000 non-null  int64  \n",
      " 10  rating             50000 non-null  float64\n",
      "dtypes: float64(3), int64(1), object(7)\n",
      "memory usage: 4.2+ MB\n"
     ]
    }
   ],
   "source": [
    "data.info()"
   ]
  },
  {
   "cell_type": "markdown",
   "metadata": {},
   "source": [
    "## 1. NAN Values Processing\n",
    "У наличия пропусков могут быть разные причины, но пропуски нужно либо заполнить, либо исключить из набора данных. \n",
    "С пропусками нужно быть внимательными, так как **даже отсутствие информации может быть важным признаком!**   \n",
    "По этому перед обработкой NAN будем выносить информацию о наличии пропусков, как отдельный признак."
   ]
  },
  {
   "cell_type": "markdown",
   "metadata": {},
   "source": [
    "### 1.1. cuisine_style "
   ]
  },
  {
   "cell_type": "markdown",
   "metadata": {},
   "source": [
    "Создадим булевый признак, где 0 - пропуск, 1 - истинное значение:"
   ]
  },
  {
   "cell_type": "code",
   "execution_count": 21,
   "metadata": {},
   "outputs": [],
   "source": [
    "data['cuisine_style_NAN'] = pd.isna(data['cuisine_style']).astype('uint8')"
   ]
  },
  {
   "cell_type": "markdown",
   "metadata": {},
   "source": [
    "Пропуски в cuisine_style заменим на Other:"
   ]
  },
  {
   "cell_type": "code",
   "execution_count": 22,
   "metadata": {},
   "outputs": [],
   "source": [
    "data.cuisine_style = data.cuisine_style.fillna(\"['Other']\")"
   ]
  },
  {
   "cell_type": "markdown",
   "metadata": {},
   "source": [
    "Видим, что направление Other является самым встречаемым в датасете:"
   ]
  },
  {
   "cell_type": "code",
   "execution_count": 24,
   "metadata": {},
   "outputs": [
    {
     "data": {
      "text/plain": [
       "['Other']                                                                             11590\n",
       "['Italian']                                                                            1332\n",
       "['French']                                                                             1019\n",
       "['Spanish']                                                                             860\n",
       "['French', 'European']                                                                  503\n",
       "                                                                                      ...  \n",
       "['Asian', 'Vegan Options']                                                                1\n",
       "['Georgian', 'Fusion', 'Vegetarian Friendly']                                             1\n",
       "['Cafe', 'Irish', 'Vegetarian Friendly', 'Gluten Free Options']                           1\n",
       "['American', 'Bar', 'European', 'Cafe', 'Pub', 'Vegetarian Friendly']                     1\n",
       "['European', 'Central European', 'German', 'Vegetarian Friendly', 'Vegan Options']        1\n",
       "Name: cuisine_style, Length: 10732, dtype: int64"
      ]
     },
     "execution_count": 24,
     "metadata": {},
     "output_type": "execute_result"
    }
   ],
   "source": [
    "data.cuisine_style.value_counts()"
   ]
  },
  {
   "cell_type": "code",
   "execution_count": 25,
   "metadata": {},
   "outputs": [
    {
     "name": "stdout",
     "output_type": "stream",
     "text": [
      "<class 'pandas.core.frame.DataFrame'>\n",
      "RangeIndex: 50000 entries, 0 to 49999\n",
      "Data columns (total 12 columns):\n",
      " #   Column             Non-Null Count  Dtype  \n",
      "---  ------             --------------  -----  \n",
      " 0   restaurant_id      50000 non-null  object \n",
      " 1   city               50000 non-null  object \n",
      " 2   cuisine_style      50000 non-null  object \n",
      " 3   ranking            50000 non-null  float64\n",
      " 4   price_range        32639 non-null  object \n",
      " 5   number_of_reviews  46800 non-null  float64\n",
      " 6   reviews            49998 non-null  object \n",
      " 7   url_ta             50000 non-null  object \n",
      " 8   id_ta              50000 non-null  object \n",
      " 9   sample             50000 non-null  int64  \n",
      " 10  rating             50000 non-null  float64\n",
      " 11  cuisine_style_NAN  50000 non-null  uint8  \n",
      "dtypes: float64(3), int64(1), object(7), uint8(1)\n",
      "memory usage: 4.2+ MB\n"
     ]
    }
   ],
   "source": [
    "data.info()"
   ]
  },
  {
   "cell_type": "markdown",
   "metadata": {},
   "source": [
    "### 1.2. price_range"
   ]
  },
  {
   "cell_type": "markdown",
   "metadata": {},
   "source": [
    "Посмотрим на частотность распределения значений признака price_range:"
   ]
  },
  {
   "cell_type": "code",
   "execution_count": 26,
   "metadata": {},
   "outputs": [
    {
     "data": {
      "text/plain": [
       "$$ - $$$    23041\n",
       "$            7816\n",
       "$$$$         1782\n",
       "Name: price_range, dtype: int64"
      ]
     },
     "execution_count": 26,
     "metadata": {},
     "output_type": "execute_result"
    }
   ],
   "source": [
    "data.price_range.value_counts(ascending=False)"
   ]
  },
  {
   "cell_type": "markdown",
   "metadata": {},
   "source": [
    "Для начала создадим булевый признак, где 0 - пропуск, 1 - истинное значение:"
   ]
  },
  {
   "cell_type": "code",
   "execution_count": 27,
   "metadata": {},
   "outputs": [],
   "source": [
    "data['price_range_NAN'] = pd.isna(data['price_range']).astype('uint8')"
   ]
  },
  {
   "cell_type": "markdown",
   "metadata": {},
   "source": [
    "Видим, что значение среднего уровня цен более, чем в 3 раза выше остальных.\n",
    "Заполним пропуски средним значением. Далее оценим, как это скажется на качестве модели."
   ]
  },
  {
   "cell_type": "code",
   "execution_count": 28,
   "metadata": {},
   "outputs": [],
   "source": [
    "data.price_range = data.price_range.fillna(value='$$ - $$$')"
   ]
  },
  {
   "cell_type": "code",
   "execution_count": 29,
   "metadata": {},
   "outputs": [
    {
     "name": "stdout",
     "output_type": "stream",
     "text": [
      "<class 'pandas.core.frame.DataFrame'>\n",
      "RangeIndex: 50000 entries, 0 to 49999\n",
      "Data columns (total 13 columns):\n",
      " #   Column             Non-Null Count  Dtype  \n",
      "---  ------             --------------  -----  \n",
      " 0   restaurant_id      50000 non-null  object \n",
      " 1   city               50000 non-null  object \n",
      " 2   cuisine_style      50000 non-null  object \n",
      " 3   ranking            50000 non-null  float64\n",
      " 4   price_range        50000 non-null  object \n",
      " 5   number_of_reviews  46800 non-null  float64\n",
      " 6   reviews            49998 non-null  object \n",
      " 7   url_ta             50000 non-null  object \n",
      " 8   id_ta              50000 non-null  object \n",
      " 9   sample             50000 non-null  int64  \n",
      " 10  rating             50000 non-null  float64\n",
      " 11  cuisine_style_NAN  50000 non-null  uint8  \n",
      " 12  price_range_NAN    50000 non-null  uint8  \n",
      "dtypes: float64(3), int64(1), object(7), uint8(2)\n",
      "memory usage: 4.3+ MB\n"
     ]
    }
   ],
   "source": [
    "data.info()"
   ]
  },
  {
   "cell_type": "markdown",
   "metadata": {},
   "source": [
    "### 1.3. number_of_reviews"
   ]
  },
  {
   "cell_type": "markdown",
   "metadata": {},
   "source": [
    "Cоздадим булевый признак, где 0 - пропуск, 1 - истинное значение:"
   ]
  },
  {
   "cell_type": "code",
   "execution_count": 30,
   "metadata": {},
   "outputs": [],
   "source": [
    "data['number_of_reviews_NAN'] = pd.isna(data['number_of_reviews']).astype('uint8')"
   ]
  },
  {
   "cell_type": "markdown",
   "metadata": {},
   "source": [
    "Заполним пропуски средним значением по городу.\n",
    "Для этого посчитаем среднее количество отзывов по городам:"
   ]
  },
  {
   "cell_type": "code",
   "execution_count": 31,
   "metadata": {},
   "outputs": [],
   "source": [
    "mean_num_rev = data.groupby('city').number_of_reviews.mean()\n",
    "\n",
    "data.number_of_reviews = data.apply(lambda row: mean_num_rev[row['city']] \n",
    "                                    if pd.isnull(row['number_of_reviews']) \\\n",
    "                                    else row['number_of_reviews'], axis=1)"
   ]
  },
  {
   "cell_type": "code",
   "execution_count": 27,
   "metadata": {},
   "outputs": [
    {
     "name": "stdout",
     "output_type": "stream",
     "text": [
      "<class 'pandas.core.frame.DataFrame'>\n",
      "RangeIndex: 50000 entries, 0 to 49999\n",
      "Data columns (total 14 columns):\n",
      "restaurant_id            50000 non-null object\n",
      "city                     50000 non-null object\n",
      "cuisine_style            50000 non-null object\n",
      "ranking                  50000 non-null float64\n",
      "price_range              50000 non-null object\n",
      "number_of_reviews        50000 non-null float64\n",
      "reviews                  49998 non-null object\n",
      "url_ta                   50000 non-null object\n",
      "id_ta                    50000 non-null object\n",
      "sample                   50000 non-null int64\n",
      "rating                   50000 non-null float64\n",
      "cuisine_style_NAN        50000 non-null uint8\n",
      "price_range_NAN          50000 non-null uint8\n",
      "number_of_reviews_NAN    50000 non-null uint8\n",
      "dtypes: float64(3), int64(1), object(7), uint8(3)\n",
      "memory usage: 4.3+ MB\n"
     ]
    }
   ],
   "source": [
    "data.info()"
   ]
  },
  {
   "cell_type": "markdown",
   "metadata": {},
   "source": [
    "### 1.4. reviews"
   ]
  },
  {
   "cell_type": "markdown",
   "metadata": {},
   "source": [
    "Посмотрим на частотность признака:"
   ]
  },
  {
   "cell_type": "code",
   "execution_count": 32,
   "metadata": {
    "scrolled": true
   },
   "outputs": [
    {
     "data": {
      "text/plain": [
       "[[], []]                                                                                                                   8112\n",
       "[['Excellent food food', 'Fantastic sushi served tapas style'], ['09/07/2016', '02/21/2016']]                                 2\n",
       "[['Improve your service', 'Great value chain restaurant'], ['12/14/2017', '07/30/2017']]                                      2\n",
       "[['ok for beer, not for dinner'], ['12/20/2017']]                                                                             2\n",
       "[['Nice restaurant in Madrid', 'Highly reccomended'], ['11/10/2017', '05/21/2017']]                                           2\n",
       "                                                                                                                           ... \n",
       "[['Delicious and cheap'], ['12/19/2016']]                                                                                     1\n",
       "[['Cool and cheap place', 'A small station with all facilities'], ['10/25/2017', '08/16/2017']]                               1\n",
       "[['Airy, friendly and healthy', 'Convenient for Gare de Bercy'], ['10/19/2017', '10/23/2017']]                                1\n",
       "[['Thoroughly Enjoyed', 'Best Italian on Castle Hill'], ['12/30/2017', '12/18/2017']]                                         1\n",
       "[['Great food and exceptional service', \"We'll never ever come back there even if y...\"], ['12/27/2017', '09/26/2017']]       1\n",
       "Name: reviews, Length: 41857, dtype: int64"
      ]
     },
     "execution_count": 32,
     "metadata": {},
     "output_type": "execute_result"
    }
   ],
   "source": [
    "data.reviews.value_counts()"
   ]
  },
  {
   "cell_type": "markdown",
   "metadata": {},
   "source": [
    "Видим, что 8112 строк в признаке reviews имеют пустые значения [[], []]. Заменим их на np.nan:"
   ]
  },
  {
   "cell_type": "code",
   "execution_count": 33,
   "metadata": {},
   "outputs": [],
   "source": [
    "data.reviews = data.reviews.apply(lambda string: np.nan if string == '[[], []]' else string)"
   ]
  },
  {
   "cell_type": "markdown",
   "metadata": {},
   "source": [
    "Cоздадим булевый признак, где 0 - пропуск, 1 - истинное значение:"
   ]
  },
  {
   "cell_type": "code",
   "execution_count": 35,
   "metadata": {},
   "outputs": [],
   "source": [
    "data['reviews_NAN'] = pd.isna(data['reviews']).astype('uint8')"
   ]
  },
  {
   "cell_type": "code",
   "execution_count": 36,
   "metadata": {},
   "outputs": [
    {
     "name": "stdout",
     "output_type": "stream",
     "text": [
      "<class 'pandas.core.frame.DataFrame'>\n",
      "RangeIndex: 50000 entries, 0 to 49999\n",
      "Data columns (total 15 columns):\n",
      " #   Column                 Non-Null Count  Dtype  \n",
      "---  ------                 --------------  -----  \n",
      " 0   restaurant_id          50000 non-null  object \n",
      " 1   city                   50000 non-null  object \n",
      " 2   cuisine_style          50000 non-null  object \n",
      " 3   ranking                50000 non-null  float64\n",
      " 4   price_range            50000 non-null  object \n",
      " 5   number_of_reviews      50000 non-null  float64\n",
      " 6   reviews                41886 non-null  object \n",
      " 7   url_ta                 50000 non-null  object \n",
      " 8   id_ta                  50000 non-null  object \n",
      " 9   sample                 50000 non-null  int64  \n",
      " 10  rating                 50000 non-null  float64\n",
      " 11  cuisine_style_NAN      50000 non-null  uint8  \n",
      " 12  price_range_NAN        50000 non-null  uint8  \n",
      " 13  number_of_reviews_NAN  50000 non-null  uint8  \n",
      " 14  reviews_NAN            50000 non-null  uint8  \n",
      "dtypes: float64(3), int64(1), object(7), uint8(4)\n",
      "memory usage: 4.4+ MB\n"
     ]
    }
   ],
   "source": [
    "data.info()"
   ]
  },
  {
   "cell_type": "markdown",
   "metadata": {},
   "source": [
    "## 2. Feature Engineering\n",
    "Генерация признаков – пожалуй, самый творческий этап подготовки данных для машинного обучения.\n",
    "\n",
    "![](https://user92966.clients-cdnnow.ru/upload/setka-editor/338/338b842ace08dc71b1d85f1436556ba6.png?15760576722437793)"
   ]
  },
  {
   "cell_type": "code",
   "execution_count": 37,
   "metadata": {},
   "outputs": [
    {
     "data": {
      "text/html": [
       "<div>\n",
       "<style scoped>\n",
       "    .dataframe tbody tr th:only-of-type {\n",
       "        vertical-align: middle;\n",
       "    }\n",
       "\n",
       "    .dataframe tbody tr th {\n",
       "        vertical-align: top;\n",
       "    }\n",
       "\n",
       "    .dataframe thead th {\n",
       "        text-align: right;\n",
       "    }\n",
       "</style>\n",
       "<table border=\"1\" class=\"dataframe\">\n",
       "  <thead>\n",
       "    <tr style=\"text-align: right;\">\n",
       "      <th></th>\n",
       "      <th>restaurant_id</th>\n",
       "      <th>city</th>\n",
       "      <th>cuisine_style</th>\n",
       "      <th>ranking</th>\n",
       "      <th>price_range</th>\n",
       "      <th>number_of_reviews</th>\n",
       "      <th>reviews</th>\n",
       "      <th>url_ta</th>\n",
       "      <th>id_ta</th>\n",
       "      <th>sample</th>\n",
       "      <th>rating</th>\n",
       "      <th>cuisine_style_NAN</th>\n",
       "      <th>price_range_NAN</th>\n",
       "      <th>number_of_reviews_NAN</th>\n",
       "      <th>reviews_NAN</th>\n",
       "    </tr>\n",
       "  </thead>\n",
       "  <tbody>\n",
       "    <tr>\n",
       "      <th>47755</th>\n",
       "      <td>id_2010</td>\n",
       "      <td>Lyon</td>\n",
       "      <td>['Bar', 'Pub', 'French']</td>\n",
       "      <td>2011.0</td>\n",
       "      <td>$$ - $$$</td>\n",
       "      <td>38.0</td>\n",
       "      <td>[['Nice cool cute place'], ['03/12/2016']]</td>\n",
       "      <td>/Restaurant_Review-g207360-d4942337-Reviews-Br...</td>\n",
       "      <td>d4942337</td>\n",
       "      <td>1</td>\n",
       "      <td>3.0</td>\n",
       "      <td>0</td>\n",
       "      <td>0</td>\n",
       "      <td>0</td>\n",
       "      <td>0</td>\n",
       "    </tr>\n",
       "    <tr>\n",
       "      <th>21469</th>\n",
       "      <td>id_1291</td>\n",
       "      <td>Athens</td>\n",
       "      <td>['Italian', 'Greek']</td>\n",
       "      <td>1293.0</td>\n",
       "      <td>$</td>\n",
       "      <td>4.0</td>\n",
       "      <td>[['Good quality', 'Good food but too cold'], [...</td>\n",
       "      <td>/Restaurant_Review-g189400-d12696327-Reviews-C...</td>\n",
       "      <td>d12696327</td>\n",
       "      <td>1</td>\n",
       "      <td>4.5</td>\n",
       "      <td>0</td>\n",
       "      <td>0</td>\n",
       "      <td>0</td>\n",
       "      <td>0</td>\n",
       "    </tr>\n",
       "    <tr>\n",
       "      <th>23390</th>\n",
       "      <td>id_1248</td>\n",
       "      <td>Copenhagen</td>\n",
       "      <td>['Other']</td>\n",
       "      <td>1250.0</td>\n",
       "      <td>$$ - $$$</td>\n",
       "      <td>16.0</td>\n",
       "      <td>[['Local and Classy', 'Great lunch, nice wine,...</td>\n",
       "      <td>/Restaurant_Review-g806262-d8515491-Reviews-Pe...</td>\n",
       "      <td>d8515491</td>\n",
       "      <td>1</td>\n",
       "      <td>4.0</td>\n",
       "      <td>1</td>\n",
       "      <td>1</td>\n",
       "      <td>0</td>\n",
       "      <td>0</td>\n",
       "    </tr>\n",
       "    <tr>\n",
       "      <th>37619</th>\n",
       "      <td>id_1589</td>\n",
       "      <td>Prague</td>\n",
       "      <td>['Other']</td>\n",
       "      <td>1592.0</td>\n",
       "      <td>$$ - $$$</td>\n",
       "      <td>6.0</td>\n",
       "      <td>NaN</td>\n",
       "      <td>/Restaurant_Review-g274707-d12233274-Reviews-R...</td>\n",
       "      <td>d12233274</td>\n",
       "      <td>1</td>\n",
       "      <td>4.5</td>\n",
       "      <td>1</td>\n",
       "      <td>1</td>\n",
       "      <td>0</td>\n",
       "      <td>1</td>\n",
       "    </tr>\n",
       "    <tr>\n",
       "      <th>7432</th>\n",
       "      <td>id_7432</td>\n",
       "      <td>Barcelona</td>\n",
       "      <td>['Italian']</td>\n",
       "      <td>3322.0</td>\n",
       "      <td>$$ - $$$</td>\n",
       "      <td>37.0</td>\n",
       "      <td>[[\"Great beer drinker's cafe\", 'Unpretentious ...</td>\n",
       "      <td>/Restaurant_Review-g187497-d6680995-Reviews-Il...</td>\n",
       "      <td>d6680995</td>\n",
       "      <td>0</td>\n",
       "      <td>0.0</td>\n",
       "      <td>0</td>\n",
       "      <td>0</td>\n",
       "      <td>0</td>\n",
       "      <td>0</td>\n",
       "    </tr>\n",
       "  </tbody>\n",
       "</table>\n",
       "</div>"
      ],
      "text/plain": [
       "      restaurant_id        city             cuisine_style  ranking  \\\n",
       "47755       id_2010        Lyon  ['Bar', 'Pub', 'French']   2011.0   \n",
       "21469       id_1291      Athens      ['Italian', 'Greek']   1293.0   \n",
       "23390       id_1248  Copenhagen                 ['Other']   1250.0   \n",
       "37619       id_1589      Prague                 ['Other']   1592.0   \n",
       "7432        id_7432   Barcelona               ['Italian']   3322.0   \n",
       "\n",
       "      price_range  number_of_reviews  \\\n",
       "47755    $$ - $$$               38.0   \n",
       "21469           $                4.0   \n",
       "23390    $$ - $$$               16.0   \n",
       "37619    $$ - $$$                6.0   \n",
       "7432     $$ - $$$               37.0   \n",
       "\n",
       "                                                 reviews  \\\n",
       "47755         [['Nice cool cute place'], ['03/12/2016']]   \n",
       "21469  [['Good quality', 'Good food but too cold'], [...   \n",
       "23390  [['Local and Classy', 'Great lunch, nice wine,...   \n",
       "37619                                                NaN   \n",
       "7432   [[\"Great beer drinker's cafe\", 'Unpretentious ...   \n",
       "\n",
       "                                                  url_ta      id_ta  sample  \\\n",
       "47755  /Restaurant_Review-g207360-d4942337-Reviews-Br...   d4942337       1   \n",
       "21469  /Restaurant_Review-g189400-d12696327-Reviews-C...  d12696327       1   \n",
       "23390  /Restaurant_Review-g806262-d8515491-Reviews-Pe...   d8515491       1   \n",
       "37619  /Restaurant_Review-g274707-d12233274-Reviews-R...  d12233274       1   \n",
       "7432   /Restaurant_Review-g187497-d6680995-Reviews-Il...   d6680995       0   \n",
       "\n",
       "       rating  cuisine_style_NAN  price_range_NAN  number_of_reviews_NAN  \\\n",
       "47755     3.0                  0                0                      0   \n",
       "21469     4.5                  0                0                      0   \n",
       "23390     4.0                  1                1                      0   \n",
       "37619     4.5                  1                1                      0   \n",
       "7432      0.0                  0                0                      0   \n",
       "\n",
       "       reviews_NAN  \n",
       "47755            0  \n",
       "21469            0  \n",
       "23390            0  \n",
       "37619            1  \n",
       "7432             0  "
      ]
     },
     "execution_count": 37,
     "metadata": {},
     "output_type": "execute_result"
    }
   ],
   "source": [
    "data.sample(5)"
   ]
  },
  {
   "cell_type": "markdown",
   "metadata": {},
   "source": [
    "### 2.1. restaurant_id, chain_restaurant"
   ]
  },
  {
   "cell_type": "markdown",
   "metadata": {},
   "source": [
    "Посмотрим на уникальность значений этого признака (помним, что общее число 50000):"
   ]
  },
  {
   "cell_type": "code",
   "execution_count": 38,
   "metadata": {},
   "outputs": [
    {
     "data": {
      "text/plain": [
       "13094"
      ]
     },
     "execution_count": 38,
     "metadata": {},
     "output_type": "execute_result"
    }
   ],
   "source": [
    "data.restaurant_id.nunique()"
   ]
  },
  {
   "cell_type": "markdown",
   "metadata": {},
   "source": [
    "Видим, что некоторые id повторяются. Делаем вывод, что в датасете также присутствуют данные сетевых ресторанов:"
   ]
  },
  {
   "cell_type": "code",
   "execution_count": 34,
   "metadata": {},
   "outputs": [
    {
     "data": {
      "text/plain": [
       "id_436      19\n",
       "id_871      19\n",
       "id_633      19\n",
       "id_227      19\n",
       "id_344      18\n",
       "            ..\n",
       "id_10025     1\n",
       "id_12935     1\n",
       "id_13466     1\n",
       "id_9253      1\n",
       "id_8472      1\n",
       "Name: restaurant_id, Length: 13094, dtype: int64"
      ]
     },
     "execution_count": 34,
     "metadata": {},
     "output_type": "execute_result"
    }
   ],
   "source": [
    "data.restaurant_id.value_counts()"
   ]
  },
  {
   "cell_type": "markdown",
   "metadata": {},
   "source": [
    "Создадим список сетевых ресторанов:"
   ]
  },
  {
   "cell_type": "code",
   "execution_count": 40,
   "metadata": {},
   "outputs": [],
   "source": [
    "chain_lst = list(data.restaurant_id.value_counts()[data.restaurant_id.value_counts() > 1].index)"
   ]
  },
  {
   "cell_type": "markdown",
   "metadata": {},
   "source": [
    "Теперь создадим новый признак для наших ресторанов, который будет обозначать принадлежность к сети: 1 - да, 0 - нет:"
   ]
  },
  {
   "cell_type": "code",
   "execution_count": 41,
   "metadata": {},
   "outputs": [],
   "source": [
    "data['chain_restaurant'] = data[data.restaurant_id.isin(chain_lst)].restaurant_id.apply(lambda x: 1)\n",
    "data['chain_restaurant'].fillna(0, inplace=True)"
   ]
  },
  {
   "cell_type": "markdown",
   "metadata": {},
   "source": [
    "Видим, что подавляющее большинство ресторанов являются частью сетевого бизнеса:"
   ]
  },
  {
   "cell_type": "code",
   "execution_count": 37,
   "metadata": {},
   "outputs": [
    {
     "data": {
      "text/plain": [
       "1.0    46193\n",
       "0.0     3807\n",
       "Name: chain_restaurant, dtype: int64"
      ]
     },
     "execution_count": 37,
     "metadata": {},
     "output_type": "execute_result"
    }
   ],
   "source": [
    "data.chain_restaurant.value_counts()"
   ]
  },
  {
   "cell_type": "markdown",
   "metadata": {},
   "source": [
    "### 2.2. city, city_population, capital, rest_count, dummy variables of city\n",
    "> Признак city - кладезь ценной информации, так как в общем доступе мы можем найти данные по статусу городов, их географическим особенностям, населении и другим параметрам. Теперь рассмотрим данные поближе и подумаем, что нам понадобится."
   ]
  },
  {
   "cell_type": "markdown",
   "metadata": {},
   "source": [
    "В этом признаке содержится 31 уникаьлное значение - сравнительно немного:"
   ]
  },
  {
   "cell_type": "code",
   "execution_count": 44,
   "metadata": {},
   "outputs": [
    {
     "data": {
      "text/plain": [
       "31"
      ]
     },
     "execution_count": 44,
     "metadata": {},
     "output_type": "execute_result"
    }
   ],
   "source": [
    "data.city.nunique()"
   ]
  },
  {
   "cell_type": "markdown",
   "metadata": {},
   "source": [
    "Видим, что в списке представлены крупные европейские города, многие из которых являются ещё и столицами:"
   ]
  },
  {
   "cell_type": "code",
   "execution_count": 45,
   "metadata": {},
   "outputs": [
    {
     "data": {
      "text/plain": [
       "London        7193\n",
       "Paris         6108\n",
       "Madrid        3813\n",
       "Barcelona     3395\n",
       "Berlin        2705\n",
       "Milan         2694\n",
       "Rome          2589\n",
       "Prague        1816\n",
       "Lisbon        1647\n",
       "Vienna        1443\n",
       "Amsterdam     1372\n",
       "Brussels      1314\n",
       "Hamburg       1186\n",
       "Munich        1145\n",
       "Lyon          1126\n",
       "Stockholm     1033\n",
       "Budapest      1021\n",
       "Warsaw         925\n",
       "Dublin         836\n",
       "Copenhagen     819\n",
       "Athens         776\n",
       "Edinburgh      745\n",
       "Zurich         685\n",
       "Oporto         642\n",
       "Geneva         590\n",
       "Krakow         554\n",
       "Oslo           488\n",
       "Helsinki       475\n",
       "Bratislava     380\n",
       "Luxembourg     263\n",
       "Ljubljana      222\n",
       "Name: city, dtype: int64"
      ]
     },
     "execution_count": 45,
     "metadata": {},
     "output_type": "execute_result"
    }
   ],
   "source": [
    "data.city.value_counts()"
   ]
  },
  {
   "cell_type": "markdown",
   "metadata": {},
   "source": [
    "Поменяем название португальского Порто на интернациональное - Porto:"
   ]
  },
  {
   "cell_type": "code",
   "execution_count": 47,
   "metadata": {},
   "outputs": [],
   "source": [
    "data.replace({'city': {'Oporto':'Porto'}}, inplace=True)"
   ]
  },
  {
   "cell_type": "markdown",
   "metadata": {},
   "source": [
    "Благодаря гистограмме наглядно видно, что в тройку самых развитых городов с точки зрения ресторанного бизнеса входят Лондон, Париж и Мадрид:"
   ]
  },
  {
   "cell_type": "code",
   "execution_count": 48,
   "metadata": {
    "scrolled": true
   },
   "outputs": [
    {
     "data": {
      "text/plain": [
       "<matplotlib.axes._subplots.AxesSubplot at 0x7f81497b4880>"
      ]
     },
     "execution_count": 48,
     "metadata": {},
     "output_type": "execute_result"
    },
    {
     "data": {
      "image/png": "[encoded data removed]",
      "text/plain": [
       "<Figure size 1080x360 with 1 Axes>"
      ]
     },
     "metadata": {
      "needs_background": "light"
     },
     "output_type": "display_data"
    }
   ],
   "source": [
    "plt.figure(figsize=(15,5))\n",
    "data.city.value_counts(ascending=False).plot(kind='bar', color='orange')"
   ]
  },
  {
   "cell_type": "markdown",
   "metadata": {},
   "source": [
    "Добавим в наш датасет информацию о населении в каждом рассматриваемом городе. Данные берём за 2018 год (так как остальные данные именно 2018 года) на портале: https://worldpopulationreview.com"
   ]
  },
  {
   "cell_type": "code",
   "execution_count": 51,
   "metadata": {},
   "outputs": [],
   "source": [
    "city_population_dict = {\n",
    "            'London': 9046485,\n",
    "            'Paris': 10900952,\n",
    "            'Madrid': 6497124,\n",
    "            'Barcelona': 5494125,\n",
    "            'Berlin': 3552123, \n",
    "            'Milan': 3132060,\n",
    "            'Rome': 4209710,\n",
    "            'Prague': 1291552,\n",
    "            'Lisbon': 2927316,\n",
    "            'Vienna': 1900547,\n",
    "            'Amsterdam': 1131690,\n",
    "            'Brussels': 2049510,\n",
    "            'Hamburg': 1792904,\n",
    "            'Munich': 1503708,\n",
    "            'Lyon': 1690105,\n",
    "            'Stockholm': 1582968,\n",
    "            'Budapest': 1759497,\n",
    "            'Warsaw': 1767798,\n",
    "            'Dublin': 1201426,\n",
    "            'Copenhagen': 1320826,\n",
    "            'Athens': 3155600,\n",
    "            'Edinburgh': 524639,\n",
    "            'Zurich': 1370779,\n",
    "            'Porto': 1306934,\n",
    "            'Geneva': 599376,\n",
    "            'Krakow': 767178,\n",
    "            'Oslo': 1012225,\n",
    "            'Helsinki': 1279096,\n",
    "            'Bratislava': 429920,\n",
    "            'Luxembourg': 115227,\n",
    "            'Ljubljana': 288307\n",
    " }"
   ]
  },
  {
   "cell_type": "markdown",
   "metadata": {},
   "source": [
    "Обращаем внимание на вполне логичную пропорциональность - чем гуще населён город, тем больше ресторанов (+/-). \n",
    "Создаём новый признак:"
   ]
  },
  {
   "cell_type": "code",
   "execution_count": 52,
   "metadata": {},
   "outputs": [],
   "source": [
    "data['city_population'] = data['city'].map(city_population_dict)"
   ]
  },
  {
   "cell_type": "markdown",
   "metadata": {},
   "source": [
    "Также создадим новый признак, который будет указывать, являетлся ли город столицей (1 - да, 0 - нет):"
   ]
  },
  {
   "cell_type": "code",
   "execution_count": 53,
   "metadata": {},
   "outputs": [],
   "source": [
    "capitals_lst = ['London', 'Paris', 'Madrid', 'Berlin', 'Rome', 'Prague', 'Lisbon', 'Vienna', 'Amsterdam', \n",
    "                'Brussels', 'Stockholm','Budapest', 'Warsaw', 'Dublin', 'Copenhagen', 'Athens', \n",
    "                'Edinburgh', 'Oslo', 'Helsinki', 'Bratislava', 'Luxemburg', 'Ljubljana']\n",
    "\n",
    "data['capital'] = data['city'].apply(lambda x: 1 if x in capitals_lst else 0)"
   ]
  },
  {
   "cell_type": "markdown",
   "metadata": {},
   "source": [
    "Теперь создадим новый признак rest_count, который будет содержать инфо о количестве ресторанов в том или ином городе:"
   ]
  },
  {
   "cell_type": "code",
   "execution_count": 54,
   "metadata": {},
   "outputs": [],
   "source": [
    "rest_count_dict = dict(data['city'].value_counts())\n",
    "data['rest_count'] = data['city'].map(rest_count_dict)"
   ]
  },
  {
   "cell_type": "markdown",
   "metadata": {},
   "source": [
    "Создадим на всякий случай дубль признака city перед созданием dummy переменных:"
   ]
  },
  {
   "cell_type": "code",
   "execution_count": 55,
   "metadata": {},
   "outputs": [],
   "source": [
    "data['city1'] = data.city"
   ]
  },
  {
   "cell_type": "markdown",
   "metadata": {},
   "source": [
    "Признак city категориальный, поэтому преобразуем его в числовой формат с помощью метода One-Hot Encoding средствами Python:"
   ]
  },
  {
   "cell_type": "code",
   "execution_count": 56,
   "metadata": {},
   "outputs": [],
   "source": [
    "data = pd.get_dummies(data,columns=['city'], dummy_na=True)"
   ]
  },
  {
   "cell_type": "markdown",
   "metadata": {},
   "source": [
    "Удаляем столбец city_nan, так как он имеет только нулевые значения:"
   ]
  },
  {
   "cell_type": "code",
   "execution_count": 57,
   "metadata": {},
   "outputs": [],
   "source": [
    "data.drop(['city_nan'], axis='columns', inplace=True)"
   ]
  },
  {
   "cell_type": "code",
   "execution_count": 58,
   "metadata": {},
   "outputs": [
    {
     "name": "stdout",
     "output_type": "stream",
     "text": [
      "<class 'pandas.core.frame.DataFrame'>\n",
      "RangeIndex: 50000 entries, 0 to 49999\n",
      "Data columns (total 50 columns):\n",
      " #   Column                 Non-Null Count  Dtype  \n",
      "---  ------                 --------------  -----  \n",
      " 0   restaurant_id          50000 non-null  object \n",
      " 1   cuisine_style          50000 non-null  object \n",
      " 2   ranking                50000 non-null  float64\n",
      " 3   price_range            50000 non-null  object \n",
      " 4   number_of_reviews      50000 non-null  float64\n",
      " 5   reviews                41886 non-null  object \n",
      " 6   url_ta                 50000 non-null  object \n",
      " 7   id_ta                  50000 non-null  object \n",
      " 8   sample                 50000 non-null  int64  \n",
      " 9   rating                 50000 non-null  float64\n",
      " 10  cuisine_style_NAN      50000 non-null  uint8  \n",
      " 11  price_range_NAN        50000 non-null  uint8  \n",
      " 12  number_of_reviews_NAN  50000 non-null  uint8  \n",
      " 13  reviews_NAN            50000 non-null  uint8  \n",
      " 14  chain_restaurant       50000 non-null  float64\n",
      " 15  city_population        50000 non-null  int64  \n",
      " 16  capital                50000 non-null  int64  \n",
      " 17  rest_count             50000 non-null  int64  \n",
      " 18  city1                  50000 non-null  object \n",
      " 19  city_Amsterdam         50000 non-null  uint8  \n",
      " 20  city_Athens            50000 non-null  uint8  \n",
      " 21  city_Barcelona         50000 non-null  uint8  \n",
      " 22  city_Berlin            50000 non-null  uint8  \n",
      " 23  city_Bratislava        50000 non-null  uint8  \n",
      " 24  city_Brussels          50000 non-null  uint8  \n",
      " 25  city_Budapest          50000 non-null  uint8  \n",
      " 26  city_Copenhagen        50000 non-null  uint8  \n",
      " 27  city_Dublin            50000 non-null  uint8  \n",
      " 28  city_Edinburgh         50000 non-null  uint8  \n",
      " 29  city_Geneva            50000 non-null  uint8  \n",
      " 30  city_Hamburg           50000 non-null  uint8  \n",
      " 31  city_Helsinki          50000 non-null  uint8  \n",
      " 32  city_Krakow            50000 non-null  uint8  \n",
      " 33  city_Lisbon            50000 non-null  uint8  \n",
      " 34  city_Ljubljana         50000 non-null  uint8  \n",
      " 35  city_London            50000 non-null  uint8  \n",
      " 36  city_Luxembourg        50000 non-null  uint8  \n",
      " 37  city_Lyon              50000 non-null  uint8  \n",
      " 38  city_Madrid            50000 non-null  uint8  \n",
      " 39  city_Milan             50000 non-null  uint8  \n",
      " 40  city_Munich            50000 non-null  uint8  \n",
      " 41  city_Oslo              50000 non-null  uint8  \n",
      " 42  city_Paris             50000 non-null  uint8  \n",
      " 43  city_Porto             50000 non-null  uint8  \n",
      " 44  city_Prague            50000 non-null  uint8  \n",
      " 45  city_Rome              50000 non-null  uint8  \n",
      " 46  city_Stockholm         50000 non-null  uint8  \n",
      " 47  city_Vienna            50000 non-null  uint8  \n",
      " 48  city_Warsaw            50000 non-null  uint8  \n",
      " 49  city_Zurich            50000 non-null  uint8  \n",
      "dtypes: float64(4), int64(4), object(7), uint8(35)\n",
      "memory usage: 7.4+ MB\n"
     ]
    }
   ],
   "source": [
    "data.info()"
   ]
  },
  {
   "cell_type": "markdown",
   "metadata": {},
   "source": [
    "### 2.2. cuisine_style, cuisine_count, unique_cuisine, dummy variables of cuisine_style"
   ]
  },
  {
   "cell_type": "markdown",
   "metadata": {},
   "source": [
    "Посмотрим поближе на содержание переменной cuisine_style:"
   ]
  },
  {
   "cell_type": "code",
   "execution_count": 60,
   "metadata": {},
   "outputs": [
    {
     "data": {
      "text/plain": [
       "\"['European', 'Scandinavian', 'Gluten Free Options', 'Vegetarian Friendly', 'Vegan Options']\""
      ]
     },
     "execution_count": 60,
     "metadata": {},
     "output_type": "execute_result"
    }
   ],
   "source": [
    "data.cuisine_style[1]"
   ]
  },
  {
   "cell_type": "markdown",
   "metadata": {},
   "source": [
    "Данные имеют строковый тип:"
   ]
  },
  {
   "cell_type": "code",
   "execution_count": 61,
   "metadata": {},
   "outputs": [
    {
     "data": {
      "text/plain": [
       "str"
      ]
     },
     "execution_count": 61,
     "metadata": {},
     "output_type": "execute_result"
    }
   ],
   "source": [
    "type(data.cuisine_style[1])"
   ]
  },
  {
   "cell_type": "markdown",
   "metadata": {},
   "source": [
    "Переведем тип str в list:"
   ]
  },
  {
   "cell_type": "code",
   "execution_count": 63,
   "metadata": {},
   "outputs": [],
   "source": [
    "data.cuisine_style = data.cuisine_style.apply(lambda x: x.split(\",\") if type(x) == str else x)"
   ]
  },
  {
   "cell_type": "markdown",
   "metadata": {},
   "source": [
    "Уберём лишние символы:"
   ]
  },
  {
   "cell_type": "code",
   "execution_count": 64,
   "metadata": {},
   "outputs": [
    {
     "name": "stdout",
     "output_type": "stream",
     "text": [
      "['Italian', 'Mediterranean', 'European', 'Seafood', 'Vegetarian Friendly', 'Gluten Free Options']\n"
     ]
    }
   ],
   "source": [
    "for lst in data.cuisine_style:\n",
    "    if type(lst) == list:\n",
    "        for i in range(len(lst)):\n",
    "            lst[i] = lst[i].replace(\"[\", \"\").strip()\n",
    "            lst[i] = lst[i].replace(\"'\", \"\").strip()\n",
    "            lst[i] = lst[i].replace(\"]\", \"\").strip()            \n",
    "print(data.cuisine_style[4])"
   ]
  },
  {
   "cell_type": "markdown",
   "metadata": {},
   "source": [
    "Создадим признак cuisine_count - количество кухонь, предлагаемых в ресторане:"
   ]
  },
  {
   "cell_type": "code",
   "execution_count": 65,
   "metadata": {},
   "outputs": [],
   "source": [
    "data['cuisine_count'] = data.cuisine_style.apply(lambda x: len(x) if type(x) == list else x)"
   ]
  },
  {
   "cell_type": "markdown",
   "metadata": {},
   "source": [
    "Посмотрим на распределение нового признака:"
   ]
  },
  {
   "cell_type": "code",
   "execution_count": 66,
   "metadata": {},
   "outputs": [
    {
     "data": {
      "text/plain": [
       "<matplotlib.axes._subplots.AxesSubplot at 0x7f81450be4c0>"
      ]
     },
     "execution_count": 66,
     "metadata": {},
     "output_type": "execute_result"
    },
    {
     "data": {
      "image/png": "[encoded data removed]",
      "text/plain": [
       "<Figure size 432x288 with 1 Axes>"
      ]
     },
     "metadata": {
      "needs_background": "light"
     },
     "output_type": "display_data"
    }
   ],
   "source": [
    "data.cuisine_count.hist(bins=20, color='green')"
   ]
  },
  {
   "cell_type": "markdown",
   "metadata": {},
   "source": [
    "Создадим список кухонь по всем ресторанам:"
   ]
  },
  {
   "cell_type": "code",
   "execution_count": 67,
   "metadata": {},
   "outputs": [],
   "source": [
    "cuisine_lst = []\n",
    "\n",
    "for lst in data.cuisine_style:\n",
    "    if type(lst) == list:\n",
    "        for el in lst:\n",
    "            cuisine_lst.append(el)"
   ]
  },
  {
   "cell_type": "markdown",
   "metadata": {},
   "source": [
    "Видим, что кухни направлений Vegetarian Friendly и European лидируют, а Salvadoran и Xinjiang замыкают список:"
   ]
  },
  {
   "cell_type": "code",
   "execution_count": 70,
   "metadata": {},
   "outputs": [
    {
     "data": {
      "text/plain": [
       "Vegetarian Friendly    14021\n",
       "European               12561\n",
       "Other                  11590\n",
       "Mediterranean           7820\n",
       "Italian                 7433\n",
       "                       ...  \n",
       "Fujian                     2\n",
       "Latvian                    1\n",
       "Burmese                    1\n",
       "Salvadoran                 1\n",
       "Xinjiang                   1\n",
       "Length: 126, dtype: int64"
      ]
     },
     "execution_count": 70,
     "metadata": {},
     "output_type": "execute_result"
    }
   ],
   "source": [
    "pd.Series(cuisine_lst).value_counts()"
   ]
  },
  {
   "cell_type": "markdown",
   "metadata": {},
   "source": [
    "Для дальнейшего обучения модели оставим только 60 самых популярных кухонь:"
   ]
  },
  {
   "cell_type": "code",
   "execution_count": 71,
   "metadata": {},
   "outputs": [
    {
     "name": "stdout",
     "output_type": "stream",
     "text": [
      "Популярные кухни: {'Scandinavian', 'Sushi', 'Dutch', 'Thai', 'Middle Eastern', 'Gastropub', 'Cafe', 'Healthy', 'French', 'Vietnamese', 'Swedish', 'Halal', 'Grill', 'Delicatessen', 'Indian', 'Italian', 'Mexican', 'Irish', 'Danish', 'Portuguese', 'Lebanese', 'Soups', 'Asian', 'Fast Food', 'European', 'Japanese', 'Pub', 'Gluten Free Options', 'Spanish', 'British', 'Czech', 'American', 'Central European', 'Seafood', 'Diner', 'Turkish', 'Greek', 'Pizza', 'International', 'Other', 'Polish', 'Latin', 'Brew Pub', 'Eastern European', 'Wine Bar', 'Chinese', 'Vegetarian Friendly', 'Barbecue', 'Fusion', 'Street Food', 'German', 'Bar', 'Contemporary', 'Vegan Options', 'Steakhouse', 'Austrian', 'Mediterranean', 'Belgian', 'South American', 'Hungarian'}\n"
     ]
    }
   ],
   "source": [
    "top_cuis = set(pd.Series(cuisine_lst).value_counts().head(60).index.to_list())\n",
    "print('Популярные кухни:', top_cuis)"
   ]
  },
  {
   "cell_type": "markdown",
   "metadata": {},
   "source": [
    "Кухни, встречающиеся меньше 50 раз, будем считать редкими. Их всего 42:"
   ]
  },
  {
   "cell_type": "code",
   "execution_count": 72,
   "metadata": {},
   "outputs": [
    {
     "name": "stdout",
     "output_type": "stream",
     "text": [
      "Редкие кухни: ['Malaysian', 'Jamaican', 'Australian', 'Croatian', 'Cuban', 'Colombian', 'Taiwanese', 'Sri Lankan', 'Tibetan', 'Afghani', 'Cajun & Creole', 'Egyptian', 'Southwestern', 'Tunisian', 'Hawaiian', 'Cambodian', 'Singaporean', 'Ukrainian', 'Mongolian', 'Georgian', 'Filipino', 'Armenian', 'Chilean', 'Romanian', 'Minority Chinese', 'Central Asian', 'Albanian', 'Ecuadorean', 'Canadian', 'New Zealand', 'Uzbek', 'Native American', 'Caucasian', 'Welsh', 'Azerbaijani', 'Yunnan', 'Polynesian', 'Fujian', 'Latvian', 'Burmese', 'Salvadoran', 'Xinjiang']\n"
     ]
    }
   ],
   "source": [
    "unigue_cuis_lst = data.explode('cuisine_style')['cuisine_style'].value_counts()[\n",
    "    data.explode('cuisine_style')['cuisine_style'].value_counts() < 50].index.tolist()\n",
    "print('Редкие кухни:', unigue_cuis_lst)"
   ]
  },
  {
   "cell_type": "markdown",
   "metadata": {},
   "source": [
    "Напишем функцию для подсчёта редких кухонь в ресторанах:"
   ]
  },
  {
   "cell_type": "code",
   "execution_count": 74,
   "metadata": {},
   "outputs": [],
   "source": [
    "def unigue_cuis_count(cell):\n",
    "    x = 0\n",
    "    for i in unigue_cuis_lst:\n",
    "        if i in cell:\n",
    "            x += 1\n",
    "    return x"
   ]
  },
  {
   "cell_type": "markdown",
   "metadata": {},
   "source": [
    "Создадим признак, в который поместим количество редких кухонь в том или ином ресторане:"
   ]
  },
  {
   "cell_type": "code",
   "execution_count": 75,
   "metadata": {},
   "outputs": [
    {
     "data": {
      "text/plain": [
       "0    49347\n",
       "1      619\n",
       "2       31\n",
       "3        3\n",
       "Name: unique_cuisine, dtype: int64"
      ]
     },
     "execution_count": 75,
     "metadata": {},
     "output_type": "execute_result"
    }
   ],
   "source": [
    "data['unique_cuisine'] = data['cuisine_style'].apply(unigue_cuis_count)\n",
    "data['unique_cuisine'].value_counts()"
   ]
  },
  {
   "cell_type": "markdown",
   "metadata": {},
   "source": [
    "Признак cuisine_style категориальный, поэтому преобразуем его в числовой формат с помощью метода One-Hot Encoding (как писали выше, используем только 60 самых популярных кухонь):"
   ]
  },
  {
   "cell_type": "code",
   "execution_count": 76,
   "metadata": {},
   "outputs": [],
   "source": [
    "def find_item(cell):\n",
    "    if item in cell:\n",
    "        return 1\n",
    "    return 0\n",
    "    \n",
    "for item in top_cuis:\n",
    "    data[item] = data['cuisine_style'].apply(find_item)"
   ]
  },
  {
   "cell_type": "markdown",
   "metadata": {},
   "source": [
    "### 2.3. ranking, ranking_norm"
   ]
  },
  {
   "cell_type": "markdown",
   "metadata": {},
   "source": [
    "ranking показывает место, которое занимает ресторан среди всех остальных в своём городе. Это важный признак, один из немногих, оказывающих непосредственное влияние на целевую переменную."
   ]
  },
  {
   "cell_type": "code",
   "execution_count": 77,
   "metadata": {},
   "outputs": [
    {
     "data": {
      "text/html": [
       "<div>\n",
       "<style scoped>\n",
       "    .dataframe tbody tr th:only-of-type {\n",
       "        vertical-align: middle;\n",
       "    }\n",
       "\n",
       "    .dataframe tbody tr th {\n",
       "        vertical-align: top;\n",
       "    }\n",
       "\n",
       "    .dataframe thead th {\n",
       "        text-align: right;\n",
       "    }\n",
       "</style>\n",
       "<table border=\"1\" class=\"dataframe\">\n",
       "  <thead>\n",
       "    <tr style=\"text-align: right;\">\n",
       "      <th></th>\n",
       "      <th>Ranking</th>\n",
       "      <th>Rating</th>\n",
       "    </tr>\n",
       "  </thead>\n",
       "  <tbody>\n",
       "    <tr>\n",
       "      <th>Ranking</th>\n",
       "      <td>1.000000</td>\n",
       "      <td>-0.368371</td>\n",
       "    </tr>\n",
       "    <tr>\n",
       "      <th>Rating</th>\n",
       "      <td>-0.368371</td>\n",
       "      <td>1.000000</td>\n",
       "    </tr>\n",
       "  </tbody>\n",
       "</table>\n",
       "</div>"
      ],
      "text/plain": [
       "          Ranking    Rating\n",
       "Ranking  1.000000 -0.368371\n",
       "Rating  -0.368371  1.000000"
      ]
     },
     "execution_count": 77,
     "metadata": {},
     "output_type": "execute_result"
    }
   ],
   "source": [
    "df_train.loc[:, [\"Ranking\", \"Rating\"]].corr()"
   ]
  },
  {
   "cell_type": "code",
   "execution_count": 78,
   "metadata": {},
   "outputs": [
    {
     "data": {
      "image/png": "[encoded data removed]",
      "text/plain": [
       "<Figure size 864x360 with 1 Axes>"
      ]
     },
     "metadata": {
      "needs_background": "light"
     },
     "output_type": "display_data"
    }
   ],
   "source": [
    "plt.rcParams['figure.figsize'] = (12,5)\n",
    "data['ranking'].hist(bins=100);"
   ]
  },
  {
   "cell_type": "markdown",
   "metadata": {},
   "source": [
    "Посмотрим на ранг ресторанов по 10 самым крупным городам:  "
   ]
  },
  {
   "cell_type": "code",
   "execution_count": 79,
   "metadata": {},
   "outputs": [
    {
     "data": {
      "image/png": "[encoded data removed]",
      "text/plain": [
       "<Figure size 864x360 with 1 Axes>"
      ]
     },
     "metadata": {
      "needs_background": "light"
     },
     "output_type": "display_data"
    }
   ],
   "source": [
    "for x in (data['city1'].value_counts())[0:10].index:\n",
    "    data['ranking'][data['city1'] == x].hist(bins=35)"
   ]
  },
  {
   "cell_type": "markdown",
   "metadata": {},
   "source": [
    "Признак ranking имеет нормальное распределение, просто в больших городах больше ресторанов, из-за этого мы имеем смещение."
   ]
  },
  {
   "cell_type": "markdown",
   "metadata": {},
   "source": [
    "Создадим признак ranking_norm, который будет обозначать относительный ранг ресторана по городу:"
   ]
  },
  {
   "cell_type": "code",
   "execution_count": 81,
   "metadata": {},
   "outputs": [],
   "source": [
    "data['ranking_norm'] = data['ranking'] / data['rest_count']"
   ]
  },
  {
   "cell_type": "code",
   "execution_count": 83,
   "metadata": {},
   "outputs": [
    {
     "data": {
      "image/png": "[encoded data removed]",
      "text/plain": [
       "<Figure size 864x360 with 1 Axes>"
      ]
     },
     "metadata": {
      "needs_background": "light"
     },
     "output_type": "display_data"
    }
   ],
   "source": [
    "for x in (data['city1'].value_counts())[0:10].index:\n",
    "    data['ranking_norm'][data['city1'] == x].hist(bins=35)"
   ]
  },
  {
   "cell_type": "markdown",
   "metadata": {},
   "source": [
    "Проверим кореляцию нового признака с другими (больше 0.3):"
   ]
  },
  {
   "cell_type": "code",
   "execution_count": 84,
   "metadata": {},
   "outputs": [
    {
     "data": {
      "text/plain": [
       "ranking                0.557146\n",
       "rating                -0.543724\n",
       "chain_restaurant      -0.300930\n",
       "city_population       -0.017965\n",
       "rest_count            -0.017035\n",
       "city_London           -0.010144\n",
       "city_Paris            -0.011878\n",
       "cuisine_count         -0.540847\n",
       "Vegetarian Friendly   -0.548918\n",
       "ranking_norm           1.000000\n",
       "Name: ranking_norm, dtype: float64"
      ]
     },
     "execution_count": 84,
     "metadata": {},
     "output_type": "execute_result"
    }
   ],
   "source": [
    "corr_matrix_new = data[data[\"sample\"] == 1].corr()\n",
    "corr_matrix_new[abs(corr_matrix_new.ranking) > 0.3].ranking_norm"
   ]
  },
  {
   "cell_type": "markdown",
   "metadata": {},
   "source": [
    "Видим, что новая переменная ranking_norm хорошо скоррелирована с такими параметрами, как number_of_reviews, rating, chain_restaraunt, cuisine_count. Это позволяет сделать нам несколько ценных исайтов: \n",
    "- чем больше отзывов о ресторане, тем выше его ранг,\n",
    "- у сетевых ресторанов довольно высокий ранг (возможно, за счёт популярности),\n",
    "- количество кухонь больше в ресторанах с более высоким рангом, \n",
    "- чем выше рейтинг ресторана, тем выше его ранг (что вполне логично).\n"
   ]
  },
  {
   "cell_type": "markdown",
   "metadata": {},
   "source": [
    "### 2.4. price_range"
   ]
  },
  {
   "cell_type": "code",
   "execution_count": 85,
   "metadata": {},
   "outputs": [
    {
     "data": {
      "text/plain": [
       "$$ - $$$    40402\n",
       "$            7816\n",
       "$$$$         1782\n",
       "Name: price_range, dtype: int64"
      ]
     },
     "execution_count": 85,
     "metadata": {},
     "output_type": "execute_result"
    }
   ],
   "source": [
    "data.price_range.value_counts()"
   ]
  },
  {
   "cell_type": "markdown",
   "metadata": {},
   "source": [
    "Преобразуем значения, обозначающий диапазон цен, с формата $ на числовой по принципу Label Encoding:"
   ]
  },
  {
   "cell_type": "code",
   "execution_count": 86,
   "metadata": {},
   "outputs": [],
   "source": [
    "data.replace({'price_range': {'$':1, '$$ - $$$':2, '$$$$':3}}, inplace=True)"
   ]
  },
  {
   "cell_type": "markdown",
   "metadata": {},
   "source": [
    "Теперь обозначения следующие: 1 - низкие, 2 - средние, 3 - высокие цены в ресторанах:"
   ]
  },
  {
   "cell_type": "code",
   "execution_count": 87,
   "metadata": {
    "scrolled": true
   },
   "outputs": [
    {
     "data": {
      "text/plain": [
       "2    40402\n",
       "1     7816\n",
       "3     1782\n",
       "Name: price_range, dtype: int64"
      ]
     },
     "execution_count": 87,
     "metadata": {},
     "output_type": "execute_result"
    }
   ],
   "source": [
    "data.price_range.value_counts()"
   ]
  },
  {
   "cell_type": "markdown",
   "metadata": {},
   "source": [
    "Делаем ценный инсайт - самые дорогие рестораны (3) реже получают низкие оценки:"
   ]
  },
  {
   "cell_type": "code",
   "execution_count": 90,
   "metadata": {},
   "outputs": [
    {
     "data": {
      "text/plain": [
       "<matplotlib.axes._subplots.AxesSubplot at 0x7f8130d28a00>"
      ]
     },
     "execution_count": 90,
     "metadata": {},
     "output_type": "execute_result"
    },
    {
     "data": {
      "image/png": "[encoded data removed]",
      "text/plain": [
       "<Figure size 864x360 with 1 Axes>"
      ]
     },
     "metadata": {
      "needs_background": "light"
     },
     "output_type": "display_data"
    }
   ],
   "source": [
    "sns.boxplot(x='price_range', y='rating', data=data)"
   ]
  },
  {
   "cell_type": "markdown",
   "metadata": {},
   "source": [
    "### 2.5. reviews, date_1, date_2, review_days, days_to_last_rev_1, days_to_last_rev_2"
   ]
  },
  {
   "cell_type": "markdown",
   "metadata": {},
   "source": [
    "Каждый отзыв состоит из двух последних отзывов и двух дат их написания, соответственно:"
   ]
  },
  {
   "cell_type": "code",
   "execution_count": 91,
   "metadata": {},
   "outputs": [
    {
     "data": {
      "text/plain": [
       "\"[['Very good reviews!', 'Fine dining in Hakaniemi'], ['12/05/2017', '10/29/2017']]\""
      ]
     },
     "execution_count": 91,
     "metadata": {},
     "output_type": "execute_result"
    }
   ],
   "source": [
    "data.reviews[1]"
   ]
  },
  {
   "cell_type": "markdown",
   "metadata": {},
   "source": [
    "При этом тип данных - строчный:"
   ]
  },
  {
   "cell_type": "code",
   "execution_count": 92,
   "metadata": {},
   "outputs": [
    {
     "data": {
      "text/plain": [
       "str"
      ]
     },
     "execution_count": 92,
     "metadata": {},
     "output_type": "execute_result"
    }
   ],
   "source": [
    "type(data.reviews[1])"
   ]
  },
  {
   "cell_type": "markdown",
   "metadata": {},
   "source": [
    "Переведем тип str в list:"
   ]
  },
  {
   "cell_type": "code",
   "execution_count": 93,
   "metadata": {},
   "outputs": [],
   "source": [
    "data.reviews = data.reviews.apply(lambda x: x.split(\",\") if type(x) == str else x)"
   ]
  },
  {
   "cell_type": "markdown",
   "metadata": {},
   "source": [
    "Уберём лишние символы:"
   ]
  },
  {
   "cell_type": "code",
   "execution_count": 94,
   "metadata": {},
   "outputs": [
    {
     "name": "stdout",
     "output_type": "stream",
     "text": [
      "['Better than the Links', 'Ivy Black', '12/28/2017', '12/06/2017']\n"
     ]
    }
   ],
   "source": [
    "for lst in data.reviews:\n",
    "    if type(lst) == list:\n",
    "        for i in range(len(lst)):\n",
    "            lst[i] = lst[i].replace(\"[\", \"\").strip()\n",
    "            lst[i] = lst[i].replace(\"'\", \"\").strip()\n",
    "            lst[i] = lst[i].replace(\"]\", \"\").strip()            \n",
    "print(data.reviews[2])"
   ]
  },
  {
   "cell_type": "markdown",
   "metadata": {},
   "source": [
    "Создадим новые признаки: date_1 / date_2:"
   ]
  },
  {
   "cell_type": "code",
   "execution_count": 95,
   "metadata": {},
   "outputs": [],
   "source": [
    "data['date_1'] = data['reviews'].dropna().apply(lambda x: x[-2])\n",
    "data['date_2'] = data['reviews'].dropna().apply(lambda x: x[-1])"
   ]
  },
  {
   "cell_type": "markdown",
   "metadata": {},
   "source": [
    "И обновим reviews, удалив из него даты:"
   ]
  },
  {
   "cell_type": "code",
   "execution_count": 97,
   "metadata": {},
   "outputs": [],
   "source": [
    "data['reviews'] = data['reviews'].dropna().apply(lambda x: x[:2])"
   ]
  },
  {
   "cell_type": "markdown",
   "metadata": {},
   "source": [
    "Переводим наши признаки с датами в формат datetime:"
   ]
  },
  {
   "cell_type": "code",
   "execution_count": 98,
   "metadata": {},
   "outputs": [],
   "source": [
    "data['date_1'] = pd.to_datetime(data['date_1'], errors='coerce')\n",
    "data['date_2'] = pd.to_datetime(data['date_2'], errors='coerce')"
   ]
  },
  {
   "cell_type": "markdown",
   "metadata": {},
   "source": [
    "Заменим пропуски в date_1 и date_2 на самые часто встречающиеся даты соответственно:"
   ]
  },
  {
   "cell_type": "code",
   "execution_count": 99,
   "metadata": {},
   "outputs": [],
   "source": [
    "data['date_1'].fillna(data.date_1.value_counts().index[0], inplace=True)\n",
    "data['date_2'].fillna(data.date_2.value_counts().index[0], inplace=True)"
   ]
  },
  {
   "cell_type": "markdown",
   "metadata": {},
   "source": [
    "Cоздадим признак review_days, который будет содержать разницу между последними двумя отзывами в днях:"
   ]
  },
  {
   "cell_type": "code",
   "execution_count": 100,
   "metadata": {},
   "outputs": [],
   "source": [
    "data['review_days'] = abs(data['date_2'] - data['date_1']).dt.days"
   ]
  },
  {
   "cell_type": "code",
   "execution_count": 102,
   "metadata": {},
   "outputs": [
    {
     "data": {
      "text/plain": [
       "<matplotlib.axes._subplots.AxesSubplot at 0x7f81314574f0>"
      ]
     },
     "execution_count": 102,
     "metadata": {},
     "output_type": "execute_result"
    },
    {
     "data": {
      "image/png": "[encoded data removed]",
      "text/plain": [
       "<Figure size 720x288 with 1 Axes>"
      ]
     },
     "metadata": {
      "needs_background": "light"
     },
     "output_type": "display_data"
    }
   ],
   "source": [
    "plt.figure(figsize=(10,4))\n",
    "data['review_days'].hist(bins=125)"
   ]
  },
  {
   "cell_type": "markdown",
   "metadata": {},
   "source": [
    "Создадим признаки, обозначающие разницу между максимальной датой и остальными датами для date_1 и date_2. Это поможет проанализировать, какие интервалы частотности написания отзывов сформировались:"
   ]
  },
  {
   "cell_type": "code",
   "execution_count": 103,
   "metadata": {},
   "outputs": [],
   "source": [
    "data['days_to_last_rev_1'] = (data.date_1.max() - data.date_1).dt.days\n",
    "data['days_to_last_rev_2'] = (data.date_2.max() - data.date_2).dt.days"
   ]
  },
  {
   "cell_type": "markdown",
   "metadata": {},
   "source": [
    "### 2.6. number_of_reviews, num_reviews_city, rank_rev_city"
   ]
  },
  {
   "cell_type": "markdown",
   "metadata": {},
   "source": [
    "Посмотрим на распределение признака number_of_reviews относительно городов. Чем больше ресторанов, тем больше отзывов:"
   ]
  },
  {
   "cell_type": "code",
   "execution_count": 104,
   "metadata": {},
   "outputs": [
    {
     "data": {
      "text/plain": [
       "<matplotlib.axes._subplots.AxesSubplot at 0x7f81306df8e0>"
      ]
     },
     "execution_count": 104,
     "metadata": {},
     "output_type": "execute_result"
    },
    {
     "data": {
      "image/png": "[encoded data removed]",
      "text/plain": [
       "<Figure size 1080x360 with 1 Axes>"
      ]
     },
     "metadata": {
      "needs_background": "light"
     },
     "output_type": "display_data"
    }
   ],
   "source": [
    "plt.figure(figsize=(15,5))\n",
    "data.groupby('city1')['number_of_reviews'].sum().sort_values(ascending=False).plot(kind='bar')"
   ]
  },
  {
   "cell_type": "markdown",
   "metadata": {},
   "source": [
    "Создадим переменную num_reviews_city, в которую добавим общее количество отзывов, ранжируя их по городам:"
   ]
  },
  {
   "cell_type": "code",
   "execution_count": 105,
   "metadata": {},
   "outputs": [],
   "source": [
    "rewiews_city_dict = dict(data.groupby('city1')['number_of_reviews'].sum())\n",
    "data['num_reviews_city'] = round(data.city1.map(rewiews_city_dict), 0)"
   ]
  },
  {
   "cell_type": "markdown",
   "metadata": {},
   "source": [
    "Создадим признак rank_rev_city - отношение ранга ресторана к количеству отзывов в городе:"
   ]
  },
  {
   "cell_type": "code",
   "execution_count": 107,
   "metadata": {},
   "outputs": [],
   "source": [
    "data['rank_rev_city'] = data['ranking'] / data['num_reviews_city']"
   ]
  },
  {
   "cell_type": "markdown",
   "metadata": {},
   "source": [
    "## Subtotal\n",
    "Признаки url_ta и id_ta удалим, так как на данном этапе не хватает знаний для их обработки. \n",
    "\n",
    "По итогу, в дополнение к первоначальным признакам мы добавили:\n",
    "- **chain_restaurant** -  признак принадлежности ресторана к сети,\n",
    "- **city_population** -  население города,\n",
    "- **capital** - является ли город столицей, \n",
    "- **rest_count** -  количество ресторанов в городе,\n",
    "- **dummy переменные** признака **city**, всего 31,\n",
    "- **cuisine_count** - количество кухонь, предлагаемых в ресторане, \n",
    "- **unigue_cuis_lst** - количество редких кухонь, \n",
    "- **dummy переменные** признака **cuisine_style**, всего 60,\n",
    "- **ranking_norm** - относительный ранг ресторана по городу,\n",
    "- **date 1 / date 2** - признаки, обозначающие первую и вторую дату двух отзывов, соответственно,\n",
    "- **review_days** - разница между двумя отзывами,\n",
    "- **days_to_last_rev_1 / days_to_last_rev_2** - разницы между максимальной датой и остальными датами для date 1 / date 2,\n",
    "- **num_reviews_city** - общее количество отзывов, ранжированное по городам, \n",
    "- **rank_rev_city** - отношение ранга ресторана к количеству отзывов в городе."
   ]
  },
  {
   "cell_type": "code",
   "execution_count": 108,
   "metadata": {},
   "outputs": [],
   "source": [
    "data.drop(['url_ta'], axis='columns', inplace=True)\n",
    "data.drop(['id_ta'], axis='columns', inplace=True)"
   ]
  },
  {
   "cell_type": "markdown",
   "metadata": {},
   "source": [
    "Также удалим категориальные признаки, обработанные ранее - restaurant_id, cuisine_style, city1, reviews. Они нам больше не понадобятся:"
   ]
  },
  {
   "cell_type": "code",
   "execution_count": 109,
   "metadata": {},
   "outputs": [],
   "source": [
    "data.drop(['restaurant_id'], axis='columns', inplace=True)\n",
    "data.drop(['cuisine_style'], axis='columns', inplace=True)\n",
    "data.drop(['city1'], axis='columns', inplace=True)\n",
    "data.drop(['reviews'], axis='columns', inplace=True)\n",
    "data.drop(['date_1'], axis='columns', inplace=True)\n",
    "data.drop(['date_2'], axis='columns', inplace=True)"
   ]
  },
  {
   "cell_type": "code",
   "execution_count": 110,
   "metadata": {},
   "outputs": [
    {
     "data": {
      "text/html": [
       "<div>\n",
       "<style scoped>\n",
       "    .dataframe tbody tr th:only-of-type {\n",
       "        vertical-align: middle;\n",
       "    }\n",
       "\n",
       "    .dataframe tbody tr th {\n",
       "        vertical-align: top;\n",
       "    }\n",
       "\n",
       "    .dataframe thead th {\n",
       "        text-align: right;\n",
       "    }\n",
       "</style>\n",
       "<table border=\"1\" class=\"dataframe\">\n",
       "  <thead>\n",
       "    <tr style=\"text-align: right;\">\n",
       "      <th></th>\n",
       "      <th>ranking</th>\n",
       "      <th>price_range</th>\n",
       "      <th>number_of_reviews</th>\n",
       "      <th>sample</th>\n",
       "      <th>rating</th>\n",
       "      <th>cuisine_style_NAN</th>\n",
       "      <th>price_range_NAN</th>\n",
       "      <th>number_of_reviews_NAN</th>\n",
       "      <th>reviews_NAN</th>\n",
       "      <th>chain_restaurant</th>\n",
       "      <th>...</th>\n",
       "      <th>Mediterranean</th>\n",
       "      <th>Belgian</th>\n",
       "      <th>South American</th>\n",
       "      <th>Hungarian</th>\n",
       "      <th>ranking_norm</th>\n",
       "      <th>review_days</th>\n",
       "      <th>days_to_last_rev_1</th>\n",
       "      <th>days_to_last_rev_2</th>\n",
       "      <th>num_reviews_city</th>\n",
       "      <th>rank_rev_city</th>\n",
       "    </tr>\n",
       "  </thead>\n",
       "  <tbody>\n",
       "    <tr>\n",
       "      <th>0</th>\n",
       "      <td>12963.0</td>\n",
       "      <td>2</td>\n",
       "      <td>4.0</td>\n",
       "      <td>0</td>\n",
       "      <td>0.0</td>\n",
       "      <td>0</td>\n",
       "      <td>0</td>\n",
       "      <td>0</td>\n",
       "      <td>1</td>\n",
       "      <td>1.0</td>\n",
       "      <td>...</td>\n",
       "      <td>0</td>\n",
       "      <td>0</td>\n",
       "      <td>0</td>\n",
       "      <td>0</td>\n",
       "      <td>2.122299</td>\n",
       "      <td>4</td>\n",
       "      <td>50</td>\n",
       "      <td>54</td>\n",
       "      <td>714886.0</td>\n",
       "      <td>0.018133</td>\n",
       "    </tr>\n",
       "    <tr>\n",
       "      <th>1</th>\n",
       "      <td>106.0</td>\n",
       "      <td>2</td>\n",
       "      <td>97.0</td>\n",
       "      <td>0</td>\n",
       "      <td>0.0</td>\n",
       "      <td>0</td>\n",
       "      <td>0</td>\n",
       "      <td>0</td>\n",
       "      <td>0</td>\n",
       "      <td>1.0</td>\n",
       "      <td>...</td>\n",
       "      <td>0</td>\n",
       "      <td>0</td>\n",
       "      <td>0</td>\n",
       "      <td>0</td>\n",
       "      <td>0.223158</td>\n",
       "      <td>37</td>\n",
       "      <td>83</td>\n",
       "      <td>120</td>\n",
       "      <td>31360.0</td>\n",
       "      <td>0.003380</td>\n",
       "    </tr>\n",
       "    <tr>\n",
       "      <th>2</th>\n",
       "      <td>810.0</td>\n",
       "      <td>2</td>\n",
       "      <td>28.0</td>\n",
       "      <td>0</td>\n",
       "      <td>0.0</td>\n",
       "      <td>0</td>\n",
       "      <td>0</td>\n",
       "      <td>0</td>\n",
       "      <td>0</td>\n",
       "      <td>1.0</td>\n",
       "      <td>...</td>\n",
       "      <td>0</td>\n",
       "      <td>0</td>\n",
       "      <td>0</td>\n",
       "      <td>0</td>\n",
       "      <td>1.087248</td>\n",
       "      <td>22</td>\n",
       "      <td>60</td>\n",
       "      <td>82</td>\n",
       "      <td>177095.0</td>\n",
       "      <td>0.004574</td>\n",
       "    </tr>\n",
       "    <tr>\n",
       "      <th>3</th>\n",
       "      <td>1669.0</td>\n",
       "      <td>3</td>\n",
       "      <td>202.0</td>\n",
       "      <td>0</td>\n",
       "      <td>0.0</td>\n",
       "      <td>0</td>\n",
       "      <td>0</td>\n",
       "      <td>0</td>\n",
       "      <td>0</td>\n",
       "      <td>1.0</td>\n",
       "      <td>...</td>\n",
       "      <td>1</td>\n",
       "      <td>0</td>\n",
       "      <td>0</td>\n",
       "      <td>0</td>\n",
       "      <td>0.232031</td>\n",
       "      <td>14</td>\n",
       "      <td>82</td>\n",
       "      <td>96</td>\n",
       "      <td>992407.0</td>\n",
       "      <td>0.001682</td>\n",
       "    </tr>\n",
       "    <tr>\n",
       "      <th>4</th>\n",
       "      <td>37.0</td>\n",
       "      <td>3</td>\n",
       "      <td>162.0</td>\n",
       "      <td>0</td>\n",
       "      <td>0.0</td>\n",
       "      <td>0</td>\n",
       "      <td>0</td>\n",
       "      <td>0</td>\n",
       "      <td>0</td>\n",
       "      <td>1.0</td>\n",
       "      <td>...</td>\n",
       "      <td>1</td>\n",
       "      <td>0</td>\n",
       "      <td>0</td>\n",
       "      <td>0</td>\n",
       "      <td>0.097368</td>\n",
       "      <td>15</td>\n",
       "      <td>18</td>\n",
       "      <td>33</td>\n",
       "      <td>19614.0</td>\n",
       "      <td>0.001886</td>\n",
       "    </tr>\n",
       "    <tr>\n",
       "      <th>...</th>\n",
       "      <td>...</td>\n",
       "      <td>...</td>\n",
       "      <td>...</td>\n",
       "      <td>...</td>\n",
       "      <td>...</td>\n",
       "      <td>...</td>\n",
       "      <td>...</td>\n",
       "      <td>...</td>\n",
       "      <td>...</td>\n",
       "      <td>...</td>\n",
       "      <td>...</td>\n",
       "      <td>...</td>\n",
       "      <td>...</td>\n",
       "      <td>...</td>\n",
       "      <td>...</td>\n",
       "      <td>...</td>\n",
       "      <td>...</td>\n",
       "      <td>...</td>\n",
       "      <td>...</td>\n",
       "      <td>...</td>\n",
       "      <td>...</td>\n",
       "    </tr>\n",
       "    <tr>\n",
       "      <th>49995</th>\n",
       "      <td>500.0</td>\n",
       "      <td>2</td>\n",
       "      <td>79.0</td>\n",
       "      <td>1</td>\n",
       "      <td>4.5</td>\n",
       "      <td>0</td>\n",
       "      <td>0</td>\n",
       "      <td>0</td>\n",
       "      <td>0</td>\n",
       "      <td>1.0</td>\n",
       "      <td>...</td>\n",
       "      <td>0</td>\n",
       "      <td>0</td>\n",
       "      <td>0</td>\n",
       "      <td>0</td>\n",
       "      <td>0.185598</td>\n",
       "      <td>34</td>\n",
       "      <td>72</td>\n",
       "      <td>106</td>\n",
       "      <td>453397.0</td>\n",
       "      <td>0.001103</td>\n",
       "    </tr>\n",
       "    <tr>\n",
       "      <th>49996</th>\n",
       "      <td>6341.0</td>\n",
       "      <td>2</td>\n",
       "      <td>542.0</td>\n",
       "      <td>1</td>\n",
       "      <td>3.5</td>\n",
       "      <td>0</td>\n",
       "      <td>0</td>\n",
       "      <td>0</td>\n",
       "      <td>0</td>\n",
       "      <td>1.0</td>\n",
       "      <td>...</td>\n",
       "      <td>0</td>\n",
       "      <td>0</td>\n",
       "      <td>0</td>\n",
       "      <td>0</td>\n",
       "      <td>1.038147</td>\n",
       "      <td>9</td>\n",
       "      <td>67</td>\n",
       "      <td>76</td>\n",
       "      <td>714886.0</td>\n",
       "      <td>0.008870</td>\n",
       "    </tr>\n",
       "    <tr>\n",
       "      <th>49997</th>\n",
       "      <td>1652.0</td>\n",
       "      <td>2</td>\n",
       "      <td>4.0</td>\n",
       "      <td>1</td>\n",
       "      <td>4.5</td>\n",
       "      <td>0</td>\n",
       "      <td>1</td>\n",
       "      <td>0</td>\n",
       "      <td>0</td>\n",
       "      <td>1.0</td>\n",
       "      <td>...</td>\n",
       "      <td>0</td>\n",
       "      <td>0</td>\n",
       "      <td>0</td>\n",
       "      <td>0</td>\n",
       "      <td>1.599226</td>\n",
       "      <td>3127</td>\n",
       "      <td>480</td>\n",
       "      <td>3607</td>\n",
       "      <td>77679.0</td>\n",
       "      <td>0.021267</td>\n",
       "    </tr>\n",
       "    <tr>\n",
       "      <th>49998</th>\n",
       "      <td>641.0</td>\n",
       "      <td>2</td>\n",
       "      <td>70.0</td>\n",
       "      <td>1</td>\n",
       "      <td>4.0</td>\n",
       "      <td>0</td>\n",
       "      <td>0</td>\n",
       "      <td>0</td>\n",
       "      <td>0</td>\n",
       "      <td>1.0</td>\n",
       "      <td>...</td>\n",
       "      <td>0</td>\n",
       "      <td>0</td>\n",
       "      <td>0</td>\n",
       "      <td>0</td>\n",
       "      <td>0.692973</td>\n",
       "      <td>23</td>\n",
       "      <td>230</td>\n",
       "      <td>253</td>\n",
       "      <td>62079.0</td>\n",
       "      <td>0.010326</td>\n",
       "    </tr>\n",
       "    <tr>\n",
       "      <th>49999</th>\n",
       "      <td>4827.0</td>\n",
       "      <td>2</td>\n",
       "      <td>260.0</td>\n",
       "      <td>1</td>\n",
       "      <td>3.0</td>\n",
       "      <td>0</td>\n",
       "      <td>0</td>\n",
       "      <td>0</td>\n",
       "      <td>0</td>\n",
       "      <td>1.0</td>\n",
       "      <td>...</td>\n",
       "      <td>0</td>\n",
       "      <td>0</td>\n",
       "      <td>0</td>\n",
       "      <td>0</td>\n",
       "      <td>1.791759</td>\n",
       "      <td>1306</td>\n",
       "      <td>757</td>\n",
       "      <td>2063</td>\n",
       "      <td>453397.0</td>\n",
       "      <td>0.010646</td>\n",
       "    </tr>\n",
       "  </tbody>\n",
       "</table>\n",
       "<p>50000 rows × 112 columns</p>\n",
       "</div>"
      ],
      "text/plain": [
       "       ranking  price_range  number_of_reviews  sample  rating  \\\n",
       "0      12963.0            2                4.0       0     0.0   \n",
       "1        106.0            2               97.0       0     0.0   \n",
       "2        810.0            2               28.0       0     0.0   \n",
       "3       1669.0            3              202.0       0     0.0   \n",
       "4         37.0            3              162.0       0     0.0   \n",
       "...        ...          ...                ...     ...     ...   \n",
       "49995    500.0            2               79.0       1     4.5   \n",
       "49996   6341.0            2              542.0       1     3.5   \n",
       "49997   1652.0            2                4.0       1     4.5   \n",
       "49998    641.0            2               70.0       1     4.0   \n",
       "49999   4827.0            2              260.0       1     3.0   \n",
       "\n",
       "       cuisine_style_NAN  price_range_NAN  number_of_reviews_NAN  reviews_NAN  \\\n",
       "0                      0                0                      0            1   \n",
       "1                      0                0                      0            0   \n",
       "2                      0                0                      0            0   \n",
       "3                      0                0                      0            0   \n",
       "4                      0                0                      0            0   \n",
       "...                  ...              ...                    ...          ...   \n",
       "49995                  0                0                      0            0   \n",
       "49996                  0                0                      0            0   \n",
       "49997                  0                1                      0            0   \n",
       "49998                  0                0                      0            0   \n",
       "49999                  0                0                      0            0   \n",
       "\n",
       "       chain_restaurant  ...  Mediterranean  Belgian  South American  \\\n",
       "0                   1.0  ...              0        0               0   \n",
       "1                   1.0  ...              0        0               0   \n",
       "2                   1.0  ...              0        0               0   \n",
       "3                   1.0  ...              1        0               0   \n",
       "4                   1.0  ...              1        0               0   \n",
       "...                 ...  ...            ...      ...             ...   \n",
       "49995               1.0  ...              0        0               0   \n",
       "49996               1.0  ...              0        0               0   \n",
       "49997               1.0  ...              0        0               0   \n",
       "49998               1.0  ...              0        0               0   \n",
       "49999               1.0  ...              0        0               0   \n",
       "\n",
       "       Hungarian  ranking_norm  review_days  days_to_last_rev_1  \\\n",
       "0              0      2.122299            4                  50   \n",
       "1              0      0.223158           37                  83   \n",
       "2              0      1.087248           22                  60   \n",
       "3              0      0.232031           14                  82   \n",
       "4              0      0.097368           15                  18   \n",
       "...          ...           ...          ...                 ...   \n",
       "49995          0      0.185598           34                  72   \n",
       "49996          0      1.038147            9                  67   \n",
       "49997          0      1.599226         3127                 480   \n",
       "49998          0      0.692973           23                 230   \n",
       "49999          0      1.791759         1306                 757   \n",
       "\n",
       "       days_to_last_rev_2  num_reviews_city  rank_rev_city  \n",
       "0                      54          714886.0       0.018133  \n",
       "1                     120           31360.0       0.003380  \n",
       "2                      82          177095.0       0.004574  \n",
       "3                      96          992407.0       0.001682  \n",
       "4                      33           19614.0       0.001886  \n",
       "...                   ...               ...            ...  \n",
       "49995                 106          453397.0       0.001103  \n",
       "49996                  76          714886.0       0.008870  \n",
       "49997                3607           77679.0       0.021267  \n",
       "49998                 253           62079.0       0.010326  \n",
       "49999                2063          453397.0       0.010646  \n",
       "\n",
       "[50000 rows x 112 columns]"
      ]
     },
     "execution_count": 110,
     "metadata": {},
     "output_type": "execute_result"
    }
   ],
   "source": [
    "data"
   ]
  },
  {
   "cell_type": "code",
   "execution_count": 111,
   "metadata": {},
   "outputs": [
    {
     "data": {
      "text/html": [
       "<div>\n",
       "<style scoped>\n",
       "    .dataframe tbody tr th:only-of-type {\n",
       "        vertical-align: middle;\n",
       "    }\n",
       "\n",
       "    .dataframe tbody tr th {\n",
       "        vertical-align: top;\n",
       "    }\n",
       "\n",
       "    .dataframe thead th {\n",
       "        text-align: right;\n",
       "    }\n",
       "</style>\n",
       "<table border=\"1\" class=\"dataframe\">\n",
       "  <thead>\n",
       "    <tr style=\"text-align: right;\">\n",
       "      <th></th>\n",
       "      <th>ranking</th>\n",
       "      <th>price_range</th>\n",
       "      <th>number_of_reviews</th>\n",
       "      <th>sample</th>\n",
       "      <th>rating</th>\n",
       "      <th>cuisine_style_NAN</th>\n",
       "      <th>price_range_NAN</th>\n",
       "      <th>number_of_reviews_NAN</th>\n",
       "      <th>reviews_NAN</th>\n",
       "      <th>chain_restaurant</th>\n",
       "      <th>...</th>\n",
       "      <th>Mediterranean</th>\n",
       "      <th>Belgian</th>\n",
       "      <th>South American</th>\n",
       "      <th>Hungarian</th>\n",
       "      <th>ranking_norm</th>\n",
       "      <th>review_days</th>\n",
       "      <th>days_to_last_rev_1</th>\n",
       "      <th>days_to_last_rev_2</th>\n",
       "      <th>num_reviews_city</th>\n",
       "      <th>rank_rev_city</th>\n",
       "    </tr>\n",
       "  </thead>\n",
       "  <tbody>\n",
       "    <tr>\n",
       "      <th>19161</th>\n",
       "      <td>5167.0</td>\n",
       "      <td>2</td>\n",
       "      <td>407.000000</td>\n",
       "      <td>1</td>\n",
       "      <td>3.5</td>\n",
       "      <td>0</td>\n",
       "      <td>0</td>\n",
       "      <td>0</td>\n",
       "      <td>0</td>\n",
       "      <td>1.0</td>\n",
       "      <td>...</td>\n",
       "      <td>0</td>\n",
       "      <td>0</td>\n",
       "      <td>0</td>\n",
       "      <td>0</td>\n",
       "      <td>0.718337</td>\n",
       "      <td>29</td>\n",
       "      <td>60</td>\n",
       "      <td>89</td>\n",
       "      <td>992407.0</td>\n",
       "      <td>0.005207</td>\n",
       "    </tr>\n",
       "    <tr>\n",
       "      <th>30033</th>\n",
       "      <td>747.0</td>\n",
       "      <td>2</td>\n",
       "      <td>57.000000</td>\n",
       "      <td>1</td>\n",
       "      <td>4.5</td>\n",
       "      <td>0</td>\n",
       "      <td>0</td>\n",
       "      <td>0</td>\n",
       "      <td>0</td>\n",
       "      <td>1.0</td>\n",
       "      <td>...</td>\n",
       "      <td>1</td>\n",
       "      <td>0</td>\n",
       "      <td>0</td>\n",
       "      <td>0</td>\n",
       "      <td>0.411344</td>\n",
       "      <td>140</td>\n",
       "      <td>72</td>\n",
       "      <td>212</td>\n",
       "      <td>225870.0</td>\n",
       "      <td>0.003307</td>\n",
       "    </tr>\n",
       "    <tr>\n",
       "      <th>19596</th>\n",
       "      <td>2230.0</td>\n",
       "      <td>2</td>\n",
       "      <td>92.647154</td>\n",
       "      <td>1</td>\n",
       "      <td>4.0</td>\n",
       "      <td>1</td>\n",
       "      <td>1</td>\n",
       "      <td>1</td>\n",
       "      <td>0</td>\n",
       "      <td>1.0</td>\n",
       "      <td>...</td>\n",
       "      <td>0</td>\n",
       "      <td>0</td>\n",
       "      <td>0</td>\n",
       "      <td>0</td>\n",
       "      <td>1.697108</td>\n",
       "      <td>811</td>\n",
       "      <td>50</td>\n",
       "      <td>861</td>\n",
       "      <td>121738.0</td>\n",
       "      <td>0.018318</td>\n",
       "    </tr>\n",
       "    <tr>\n",
       "      <th>41018</th>\n",
       "      <td>1226.0</td>\n",
       "      <td>2</td>\n",
       "      <td>42.000000</td>\n",
       "      <td>1</td>\n",
       "      <td>4.0</td>\n",
       "      <td>1</td>\n",
       "      <td>1</td>\n",
       "      <td>0</td>\n",
       "      <td>0</td>\n",
       "      <td>1.0</td>\n",
       "      <td>...</td>\n",
       "      <td>0</td>\n",
       "      <td>0</td>\n",
       "      <td>0</td>\n",
       "      <td>0</td>\n",
       "      <td>1.088810</td>\n",
       "      <td>695</td>\n",
       "      <td>505</td>\n",
       "      <td>1200</td>\n",
       "      <td>98044.0</td>\n",
       "      <td>0.012505</td>\n",
       "    </tr>\n",
       "    <tr>\n",
       "      <th>35463</th>\n",
       "      <td>8670.0</td>\n",
       "      <td>2</td>\n",
       "      <td>336.000000</td>\n",
       "      <td>1</td>\n",
       "      <td>3.5</td>\n",
       "      <td>0</td>\n",
       "      <td>0</td>\n",
       "      <td>0</td>\n",
       "      <td>0</td>\n",
       "      <td>1.0</td>\n",
       "      <td>...</td>\n",
       "      <td>0</td>\n",
       "      <td>0</td>\n",
       "      <td>0</td>\n",
       "      <td>0</td>\n",
       "      <td>1.205339</td>\n",
       "      <td>25</td>\n",
       "      <td>52</td>\n",
       "      <td>77</td>\n",
       "      <td>992407.0</td>\n",
       "      <td>0.008736</td>\n",
       "    </tr>\n",
       "  </tbody>\n",
       "</table>\n",
       "<p>5 rows × 112 columns</p>\n",
       "</div>"
      ],
      "text/plain": [
       "       ranking  price_range  number_of_reviews  sample  rating  \\\n",
       "19161   5167.0            2         407.000000       1     3.5   \n",
       "30033    747.0            2          57.000000       1     4.5   \n",
       "19596   2230.0            2          92.647154       1     4.0   \n",
       "41018   1226.0            2          42.000000       1     4.0   \n",
       "35463   8670.0            2         336.000000       1     3.5   \n",
       "\n",
       "       cuisine_style_NAN  price_range_NAN  number_of_reviews_NAN  reviews_NAN  \\\n",
       "19161                  0                0                      0            0   \n",
       "30033                  0                0                      0            0   \n",
       "19596                  1                1                      1            0   \n",
       "41018                  1                1                      0            0   \n",
       "35463                  0                0                      0            0   \n",
       "\n",
       "       chain_restaurant  ...  Mediterranean  Belgian  South American  \\\n",
       "19161               1.0  ...              0        0               0   \n",
       "30033               1.0  ...              1        0               0   \n",
       "19596               1.0  ...              0        0               0   \n",
       "41018               1.0  ...              0        0               0   \n",
       "35463               1.0  ...              0        0               0   \n",
       "\n",
       "       Hungarian  ranking_norm  review_days  days_to_last_rev_1  \\\n",
       "19161          0      0.718337           29                  60   \n",
       "30033          0      0.411344          140                  72   \n",
       "19596          0      1.697108          811                  50   \n",
       "41018          0      1.088810          695                 505   \n",
       "35463          0      1.205339           25                  52   \n",
       "\n",
       "       days_to_last_rev_2  num_reviews_city  rank_rev_city  \n",
       "19161                  89          992407.0       0.005207  \n",
       "30033                 212          225870.0       0.003307  \n",
       "19596                 861          121738.0       0.018318  \n",
       "41018                1200           98044.0       0.012505  \n",
       "35463                  77          992407.0       0.008736  \n",
       "\n",
       "[5 rows x 112 columns]"
      ]
     },
     "execution_count": 111,
     "metadata": {},
     "output_type": "execute_result"
    }
   ],
   "source": [
    "data.sample(5)"
   ]
  },
  {
   "cell_type": "code",
   "execution_count": 112,
   "metadata": {},
   "outputs": [
    {
     "name": "stdout",
     "output_type": "stream",
     "text": [
      "<class 'pandas.core.frame.DataFrame'>\n",
      "RangeIndex: 50000 entries, 0 to 49999\n",
      "Columns: 112 entries, ranking to rank_rev_city\n",
      "dtypes: float64(7), int64(70), uint8(35)\n",
      "memory usage: 31.0 MB\n"
     ]
    }
   ],
   "source": [
    "data.info()"
   ]
  },
  {
   "cell_type": "markdown",
   "metadata": {},
   "source": [
    "# EDA"
   ]
  },
  {
   "cell_type": "markdown",
   "metadata": {},
   "source": [
    "### Посмотрим распределение признака Ranking:"
   ]
  },
  {
   "cell_type": "code",
   "execution_count": 113,
   "metadata": {},
   "outputs": [
    {
     "data": {
      "text/plain": [
       "<matplotlib.axes._subplots.AxesSubplot at 0x7f81482333a0>"
      ]
     },
     "execution_count": 113,
     "metadata": {},
     "output_type": "execute_result"
    },
    {
     "data": {
      "image/png": "[encoded data removed]",
      "text/plain": [
       "<Figure size 720x504 with 1 Axes>"
      ]
     },
     "metadata": {
      "needs_background": "light"
     },
     "output_type": "display_data"
    }
   ],
   "source": [
    "plt.rcParams['figure.figsize'] = (10,7)\n",
    "df_train['Ranking'].hist(bins=100)"
   ]
  },
  {
   "cell_type": "markdown",
   "metadata": {},
   "source": [
    "У нас много ресторанов, которые не дотягивают и до 2500 места в своем городе, а что там по городам?"
   ]
  },
  {
   "cell_type": "code",
   "execution_count": 114,
   "metadata": {},
   "outputs": [
    {
     "data": {
      "text/plain": [
       "<matplotlib.axes._subplots.AxesSubplot at 0x7f814a232c10>"
      ]
     },
     "execution_count": 114,
     "metadata": {},
     "output_type": "execute_result"
    },
    {
     "data": {
      "image/png": "[encoded data removed]",
      "text/plain": [
       "<Figure size 720x504 with 1 Axes>"
      ]
     },
     "metadata": {
      "needs_background": "light"
     },
     "output_type": "display_data"
    }
   ],
   "source": [
    "df_train['City'].value_counts(ascending=True).plot(kind='barh')"
   ]
  },
  {
   "cell_type": "code",
   "execution_count": 115,
   "metadata": {},
   "outputs": [
    {
     "data": {
      "text/plain": [
       "<matplotlib.axes._subplots.AxesSubplot at 0x7f8149d7a9d0>"
      ]
     },
     "execution_count": 115,
     "metadata": {},
     "output_type": "execute_result"
    },
    {
     "data": {
      "image/png": "[encoded data removed]",
      "text/plain": [
       "<Figure size 720x504 with 1 Axes>"
      ]
     },
     "metadata": {
      "needs_background": "light"
     },
     "output_type": "display_data"
    }
   ],
   "source": [
    "df_train['Ranking'][df_train['City'] =='London'].hist(bins=100)"
   ]
  },
  {
   "cell_type": "markdown",
   "metadata": {},
   "source": [
    "Посмотрим на топ 10 городов:"
   ]
  },
  {
   "cell_type": "code",
   "execution_count": 116,
   "metadata": {},
   "outputs": [
    {
     "data": {
      "image/png": "[encoded data removed]",
      "text/plain": [
       "<Figure size 720x504 with 1 Axes>"
      ]
     },
     "metadata": {
      "needs_background": "light"
     },
     "output_type": "display_data"
    }
   ],
   "source": [
    "for x in (df_train['City'].value_counts())[0:10].index:\n",
    "    df_train['Ranking'][df_train['City'] == x].hist(bins=100)\n",
    "plt.show()"
   ]
  },
  {
   "cell_type": "markdown",
   "metadata": {},
   "source": [
    "Получается, что Ranking имеет нормальное распределение, просто в больших городах больше ресторанов, из-за мы этого имеем смещение."
   ]
  },
  {
   "cell_type": "markdown",
   "metadata": {},
   "source": [
    "### Посмотрим распределение целевой переменной Rating:"
   ]
  },
  {
   "cell_type": "code",
   "execution_count": 117,
   "metadata": {},
   "outputs": [
    {
     "data": {
      "text/plain": [
       "<matplotlib.axes._subplots.AxesSubplot at 0x7f81475bc640>"
      ]
     },
     "execution_count": 117,
     "metadata": {},
     "output_type": "execute_result"
    },
    {
     "data": {
      "image/png": "[encoded data removed]",
      "text/plain": [
       "<Figure size 720x504 with 1 Axes>"
      ]
     },
     "metadata": {
      "needs_background": "light"
     },
     "output_type": "display_data"
    }
   ],
   "source": [
    "df_train['Rating'].value_counts(ascending=True).plot(kind='barh')"
   ]
  },
  {
   "cell_type": "markdown",
   "metadata": {},
   "source": [
    "### Посмотрим распределение целевой переменной Rating относительно признака Ranking:"
   ]
  },
  {
   "cell_type": "code",
   "execution_count": 118,
   "metadata": {},
   "outputs": [
    {
     "data": {
      "text/plain": [
       "<matplotlib.axes._subplots.AxesSubplot at 0x7f813178c910>"
      ]
     },
     "execution_count": 118,
     "metadata": {},
     "output_type": "execute_result"
    },
    {
     "data": {
      "image/png": "[encoded data removed]",
      "text/plain": [
       "<Figure size 720x504 with 1 Axes>"
      ]
     },
     "metadata": {
      "needs_background": "light"
     },
     "output_type": "display_data"
    }
   ],
   "source": [
    "df_train['Ranking'][df_train['Rating'] == 5].hist(bins=100)"
   ]
  },
  {
   "cell_type": "code",
   "execution_count": 119,
   "metadata": {},
   "outputs": [
    {
     "data": {
      "text/plain": [
       "<matplotlib.axes._subplots.AxesSubplot at 0x7f8130ca3af0>"
      ]
     },
     "execution_count": 119,
     "metadata": {},
     "output_type": "execute_result"
    },
    {
     "data": {
      "image/png": "[encoded data removed]",
      "text/plain": [
       "<Figure size 720x504 with 1 Axes>"
      ]
     },
     "metadata": {
      "needs_background": "light"
     },
     "output_type": "display_data"
    }
   ],
   "source": [
    "df_train['Ranking'][df_train['Rating'] < 4].hist(bins=100)"
   ]
  },
  {
   "cell_type": "markdown",
   "metadata": {},
   "source": [
    "## Correlation\n",
    "На этом графике уже сейчас мы сможетем заметить, как признаки связаны между собой и с целевой переменной:"
   ]
  },
  {
   "cell_type": "code",
   "execution_count": 120,
   "metadata": {},
   "outputs": [
    {
     "data": {
      "text/plain": [
       "<matplotlib.axes._subplots.AxesSubplot at 0x7f8149d8b280>"
      ]
     },
     "execution_count": 120,
     "metadata": {},
     "output_type": "execute_result"
    },
    {
     "data": {
      "image/png": "[encoded data removed]",
      "text/plain": [
       "<Figure size 1080x720 with 2 Axes>"
      ]
     },
     "metadata": {
      "needs_background": "light"
     },
     "output_type": "display_data"
    }
   ],
   "source": [
    "plt.rcParams['figure.figsize'] = (15,10)\n",
    "sns.heatmap(data.drop(['sample'], axis=1).corr(),)"
   ]
  },
  {
   "cell_type": "markdown",
   "metadata": {},
   "source": [
    "# Data Preprocessing"
   ]
  },
  {
   "cell_type": "code",
   "execution_count": 121,
   "metadata": {},
   "outputs": [],
   "source": [
    "def preproc_data(df_input):\n",
    "    '''includes several functions to pre-process the predictor data.'''\n",
    "    \n",
    "    df_output = df_input.copy()\n",
    "    \n",
    "    # ################### 1. Предобработка ############################################################## \n",
    "    # убираем не нужные для модели признаки\n",
    "    df_output.drop(['Restaurant_id','ID_TA',], axis = 1, inplace=True)\n",
    "    \n",
    "    \n",
    "    # ################### 2. NAN ############################################################## \n",
    "    # Далее заполняем пропуски, вы можете попробовать заполнением средним или средним по городу и тд...\n",
    "    df_output['Number of Reviews'].fillna(0, inplace=True)\n",
    "    # тут ваш код по обработке NAN\n",
    "    # ....\n",
    "    \n",
    "    \n",
    "    # ################### 3. Encoding ############################################################## \n",
    "    # для One-Hot Encoding в pandas есть готовая функция - get_dummies. Особенно радует параметр dummy_na\n",
    "    df_output = pd.get_dummies(df_output, columns=[ 'City',], dummy_na=True)\n",
    "    # тут ваш код не Encoding фитчей\n",
    "    # ....\n",
    "    \n",
    "    \n",
    "    # ################### 4. Feature Engineering ####################################################\n",
    "    # тут ваш код не генерацию новых фитчей\n",
    "    # ....\n",
    "    \n",
    "    \n",
    "    # ################### 5. Clean #################################################### \n",
    "    # убираем признаки которые еще не успели обработать, \n",
    "    # модель на признаках с dtypes \"object\" обучаться не будет, просто выберим их и удалим\n",
    "    object_columns = [s for s in df_output.columns if df_output[s].dtypes == 'object']\n",
    "    df_output.drop(object_columns, axis = 1, inplace=True)\n",
    "    \n",
    "    return df_output"
   ]
  },
  {
   "cell_type": "code",
   "execution_count": 122,
   "metadata": {},
   "outputs": [
    {
     "data": {
      "text/html": [
       "<div>\n",
       "<style scoped>\n",
       "    .dataframe tbody tr th:only-of-type {\n",
       "        vertical-align: middle;\n",
       "    }\n",
       "\n",
       "    .dataframe tbody tr th {\n",
       "        vertical-align: top;\n",
       "    }\n",
       "\n",
       "    .dataframe thead th {\n",
       "        text-align: right;\n",
       "    }\n",
       "</style>\n",
       "<table border=\"1\" class=\"dataframe\">\n",
       "  <thead>\n",
       "    <tr style=\"text-align: right;\">\n",
       "      <th></th>\n",
       "      <th>ranking</th>\n",
       "      <th>price_range</th>\n",
       "      <th>number_of_reviews</th>\n",
       "      <th>sample</th>\n",
       "      <th>rating</th>\n",
       "      <th>cuisine_style_NAN</th>\n",
       "      <th>price_range_NAN</th>\n",
       "      <th>number_of_reviews_NAN</th>\n",
       "      <th>reviews_NAN</th>\n",
       "      <th>chain_restaurant</th>\n",
       "      <th>...</th>\n",
       "      <th>Mediterranean</th>\n",
       "      <th>Belgian</th>\n",
       "      <th>South American</th>\n",
       "      <th>Hungarian</th>\n",
       "      <th>ranking_norm</th>\n",
       "      <th>review_days</th>\n",
       "      <th>days_to_last_rev_1</th>\n",
       "      <th>days_to_last_rev_2</th>\n",
       "      <th>num_reviews_city</th>\n",
       "      <th>rank_rev_city</th>\n",
       "    </tr>\n",
       "  </thead>\n",
       "  <tbody>\n",
       "    <tr>\n",
       "      <th>19760</th>\n",
       "      <td>921.0</td>\n",
       "      <td>2</td>\n",
       "      <td>37.000000</td>\n",
       "      <td>1</td>\n",
       "      <td>4.0</td>\n",
       "      <td>0</td>\n",
       "      <td>0</td>\n",
       "      <td>0</td>\n",
       "      <td>0</td>\n",
       "      <td>1.0</td>\n",
       "      <td>...</td>\n",
       "      <td>0</td>\n",
       "      <td>0</td>\n",
       "      <td>0</td>\n",
       "      <td>0</td>\n",
       "      <td>0.891578</td>\n",
       "      <td>94</td>\n",
       "      <td>257</td>\n",
       "      <td>351</td>\n",
       "      <td>77679.0</td>\n",
       "      <td>0.011856</td>\n",
       "    </tr>\n",
       "    <tr>\n",
       "      <th>35738</th>\n",
       "      <td>12.0</td>\n",
       "      <td>2</td>\n",
       "      <td>378.000000</td>\n",
       "      <td>1</td>\n",
       "      <td>4.5</td>\n",
       "      <td>0</td>\n",
       "      <td>0</td>\n",
       "      <td>0</td>\n",
       "      <td>0</td>\n",
       "      <td>1.0</td>\n",
       "      <td>...</td>\n",
       "      <td>0</td>\n",
       "      <td>0</td>\n",
       "      <td>0</td>\n",
       "      <td>0</td>\n",
       "      <td>0.021661</td>\n",
       "      <td>4</td>\n",
       "      <td>47</td>\n",
       "      <td>51</td>\n",
       "      <td>72336.0</td>\n",
       "      <td>0.000166</td>\n",
       "    </tr>\n",
       "    <tr>\n",
       "      <th>46894</th>\n",
       "      <td>1893.0</td>\n",
       "      <td>2</td>\n",
       "      <td>80.535094</td>\n",
       "      <td>1</td>\n",
       "      <td>5.0</td>\n",
       "      <td>1</td>\n",
       "      <td>1</td>\n",
       "      <td>1</td>\n",
       "      <td>0</td>\n",
       "      <td>1.0</td>\n",
       "      <td>...</td>\n",
       "      <td>0</td>\n",
       "      <td>0</td>\n",
       "      <td>0</td>\n",
       "      <td>0</td>\n",
       "      <td>1.311850</td>\n",
       "      <td>416</td>\n",
       "      <td>50</td>\n",
       "      <td>466</td>\n",
       "      <td>116212.0</td>\n",
       "      <td>0.016289</td>\n",
       "    </tr>\n",
       "    <tr>\n",
       "      <th>13349</th>\n",
       "      <td>2260.0</td>\n",
       "      <td>3</td>\n",
       "      <td>128.000000</td>\n",
       "      <td>1</td>\n",
       "      <td>4.0</td>\n",
       "      <td>0</td>\n",
       "      <td>0</td>\n",
       "      <td>0</td>\n",
       "      <td>0</td>\n",
       "      <td>1.0</td>\n",
       "      <td>...</td>\n",
       "      <td>1</td>\n",
       "      <td>0</td>\n",
       "      <td>0</td>\n",
       "      <td>0</td>\n",
       "      <td>0.592709</td>\n",
       "      <td>1235</td>\n",
       "      <td>588</td>\n",
       "      <td>1823</td>\n",
       "      <td>380964.0</td>\n",
       "      <td>0.005932</td>\n",
       "    </tr>\n",
       "    <tr>\n",
       "      <th>23009</th>\n",
       "      <td>1004.0</td>\n",
       "      <td>2</td>\n",
       "      <td>44.000000</td>\n",
       "      <td>1</td>\n",
       "      <td>4.0</td>\n",
       "      <td>0</td>\n",
       "      <td>0</td>\n",
       "      <td>0</td>\n",
       "      <td>0</td>\n",
       "      <td>1.0</td>\n",
       "      <td>...</td>\n",
       "      <td>1</td>\n",
       "      <td>0</td>\n",
       "      <td>0</td>\n",
       "      <td>0</td>\n",
       "      <td>0.764079</td>\n",
       "      <td>4</td>\n",
       "      <td>173</td>\n",
       "      <td>177</td>\n",
       "      <td>121738.0</td>\n",
       "      <td>0.008247</td>\n",
       "    </tr>\n",
       "    <tr>\n",
       "      <th>14041</th>\n",
       "      <td>37.0</td>\n",
       "      <td>2</td>\n",
       "      <td>162.000000</td>\n",
       "      <td>1</td>\n",
       "      <td>4.5</td>\n",
       "      <td>0</td>\n",
       "      <td>0</td>\n",
       "      <td>0</td>\n",
       "      <td>0</td>\n",
       "      <td>1.0</td>\n",
       "      <td>...</td>\n",
       "      <td>0</td>\n",
       "      <td>0</td>\n",
       "      <td>0</td>\n",
       "      <td>0</td>\n",
       "      <td>0.031197</td>\n",
       "      <td>3</td>\n",
       "      <td>97</td>\n",
       "      <td>100</td>\n",
       "      <td>53747.0</td>\n",
       "      <td>0.000688</td>\n",
       "    </tr>\n",
       "    <tr>\n",
       "      <th>26067</th>\n",
       "      <td>4607.0</td>\n",
       "      <td>2</td>\n",
       "      <td>2.000000</td>\n",
       "      <td>1</td>\n",
       "      <td>4.0</td>\n",
       "      <td>1</td>\n",
       "      <td>1</td>\n",
       "      <td>0</td>\n",
       "      <td>1</td>\n",
       "      <td>1.0</td>\n",
       "      <td>...</td>\n",
       "      <td>0</td>\n",
       "      <td>0</td>\n",
       "      <td>0</td>\n",
       "      <td>0</td>\n",
       "      <td>1.710097</td>\n",
       "      <td>4</td>\n",
       "      <td>50</td>\n",
       "      <td>54</td>\n",
       "      <td>453397.0</td>\n",
       "      <td>0.010161</td>\n",
       "    </tr>\n",
       "    <tr>\n",
       "      <th>5914</th>\n",
       "      <td>392.0</td>\n",
       "      <td>1</td>\n",
       "      <td>184.000000</td>\n",
       "      <td>0</td>\n",
       "      <td>0.0</td>\n",
       "      <td>0</td>\n",
       "      <td>0</td>\n",
       "      <td>0</td>\n",
       "      <td>0</td>\n",
       "      <td>1.0</td>\n",
       "      <td>...</td>\n",
       "      <td>1</td>\n",
       "      <td>0</td>\n",
       "      <td>0</td>\n",
       "      <td>0</td>\n",
       "      <td>0.144917</td>\n",
       "      <td>11</td>\n",
       "      <td>61</td>\n",
       "      <td>72</td>\n",
       "      <td>172504.0</td>\n",
       "      <td>0.002272</td>\n",
       "    </tr>\n",
       "    <tr>\n",
       "      <th>39598</th>\n",
       "      <td>1471.0</td>\n",
       "      <td>2</td>\n",
       "      <td>51.000000</td>\n",
       "      <td>1</td>\n",
       "      <td>4.0</td>\n",
       "      <td>0</td>\n",
       "      <td>0</td>\n",
       "      <td>0</td>\n",
       "      <td>0</td>\n",
       "      <td>1.0</td>\n",
       "      <td>...</td>\n",
       "      <td>0</td>\n",
       "      <td>0</td>\n",
       "      <td>0</td>\n",
       "      <td>0</td>\n",
       "      <td>0.893139</td>\n",
       "      <td>506</td>\n",
       "      <td>367</td>\n",
       "      <td>873</td>\n",
       "      <td>210536.0</td>\n",
       "      <td>0.006987</td>\n",
       "    </tr>\n",
       "    <tr>\n",
       "      <th>4374</th>\n",
       "      <td>918.0</td>\n",
       "      <td>2</td>\n",
       "      <td>5.000000</td>\n",
       "      <td>0</td>\n",
       "      <td>0.0</td>\n",
       "      <td>1</td>\n",
       "      <td>1</td>\n",
       "      <td>0</td>\n",
       "      <td>0</td>\n",
       "      <td>1.0</td>\n",
       "      <td>...</td>\n",
       "      <td>0</td>\n",
       "      <td>0</td>\n",
       "      <td>0</td>\n",
       "      <td>0</td>\n",
       "      <td>0.774030</td>\n",
       "      <td>30</td>\n",
       "      <td>159</td>\n",
       "      <td>189</td>\n",
       "      <td>53747.0</td>\n",
       "      <td>0.017080</td>\n",
       "    </tr>\n",
       "  </tbody>\n",
       "</table>\n",
       "<p>10 rows × 112 columns</p>\n",
       "</div>"
      ],
      "text/plain": [
       "       ranking  price_range  number_of_reviews  sample  rating  \\\n",
       "19760    921.0            2          37.000000       1     4.0   \n",
       "35738     12.0            2         378.000000       1     4.5   \n",
       "46894   1893.0            2          80.535094       1     5.0   \n",
       "13349   2260.0            3         128.000000       1     4.0   \n",
       "23009   1004.0            2          44.000000       1     4.0   \n",
       "14041     37.0            2         162.000000       1     4.5   \n",
       "26067   4607.0            2           2.000000       1     4.0   \n",
       "5914     392.0            1         184.000000       0     0.0   \n",
       "39598   1471.0            2          51.000000       1     4.0   \n",
       "4374     918.0            2           5.000000       0     0.0   \n",
       "\n",
       "       cuisine_style_NAN  price_range_NAN  number_of_reviews_NAN  reviews_NAN  \\\n",
       "19760                  0                0                      0            0   \n",
       "35738                  0                0                      0            0   \n",
       "46894                  1                1                      1            0   \n",
       "13349                  0                0                      0            0   \n",
       "23009                  0                0                      0            0   \n",
       "14041                  0                0                      0            0   \n",
       "26067                  1                1                      0            1   \n",
       "5914                   0                0                      0            0   \n",
       "39598                  0                0                      0            0   \n",
       "4374                   1                1                      0            0   \n",
       "\n",
       "       chain_restaurant  ...  Mediterranean  Belgian  South American  \\\n",
       "19760               1.0  ...              0        0               0   \n",
       "35738               1.0  ...              0        0               0   \n",
       "46894               1.0  ...              0        0               0   \n",
       "13349               1.0  ...              1        0               0   \n",
       "23009               1.0  ...              1        0               0   \n",
       "14041               1.0  ...              0        0               0   \n",
       "26067               1.0  ...              0        0               0   \n",
       "5914                1.0  ...              1        0               0   \n",
       "39598               1.0  ...              0        0               0   \n",
       "4374                1.0  ...              0        0               0   \n",
       "\n",
       "       Hungarian  ranking_norm  review_days  days_to_last_rev_1  \\\n",
       "19760          0      0.891578           94                 257   \n",
       "35738          0      0.021661            4                  47   \n",
       "46894          0      1.311850          416                  50   \n",
       "13349          0      0.592709         1235                 588   \n",
       "23009          0      0.764079            4                 173   \n",
       "14041          0      0.031197            3                  97   \n",
       "26067          0      1.710097            4                  50   \n",
       "5914           0      0.144917           11                  61   \n",
       "39598          0      0.893139          506                 367   \n",
       "4374           0      0.774030           30                 159   \n",
       "\n",
       "       days_to_last_rev_2  num_reviews_city  rank_rev_city  \n",
       "19760                 351           77679.0       0.011856  \n",
       "35738                  51           72336.0       0.000166  \n",
       "46894                 466          116212.0       0.016289  \n",
       "13349                1823          380964.0       0.005932  \n",
       "23009                 177          121738.0       0.008247  \n",
       "14041                 100           53747.0       0.000688  \n",
       "26067                  54          453397.0       0.010161  \n",
       "5914                   72          172504.0       0.002272  \n",
       "39598                 873          210536.0       0.006987  \n",
       "4374                  189           53747.0       0.017080  \n",
       "\n",
       "[10 rows x 112 columns]"
      ]
     },
     "execution_count": 122,
     "metadata": {},
     "output_type": "execute_result"
    }
   ],
   "source": [
    "df_preproc = data.copy(deep=True)\n",
    "df_preproc.sample(10)"
   ]
  },
  {
   "cell_type": "markdown",
   "metadata": {},
   "source": [
    "Теперь выделим тестовую часть"
   ]
  },
  {
   "cell_type": "code",
   "execution_count": 123,
   "metadata": {},
   "outputs": [],
   "source": [
    "train_data = df_preproc.query('sample == 1').drop(['sample'], axis=1)\n",
    "test_data = df_preproc.query('sample == 0').drop(['sample'], axis=1)\n",
    "\n",
    "y = train_data.rating.values            # наш таргет\n",
    "X = train_data.drop(['rating'], axis=1)"
   ]
  },
  {
   "cell_type": "markdown",
   "metadata": {},
   "source": [
    "**Перед тем как отправлять наши данные на обучение, разделим данные на еще один тест и трейн, для валидации. \n",
    "Это поможет нам проверить, как хорошо наша модель работает, до отправки submissiona на kaggle.**"
   ]
  },
  {
   "cell_type": "markdown",
   "metadata": {},
   "source": [
    "Воспользуемся специальной функцие train_test_split для разбивки тестовых данных выделим 20% данных на валидацию (параметр test_size)"
   ]
  },
  {
   "cell_type": "code",
   "execution_count": 124,
   "metadata": {},
   "outputs": [],
   "source": [
    "X_train, X_test, y_train, y_test = train_test_split(X, y, test_size=0.2, random_state=RANDOM_SEED)"
   ]
  },
  {
   "cell_type": "markdown",
   "metadata": {},
   "source": [
    "Проверяем:"
   ]
  },
  {
   "cell_type": "code",
   "execution_count": 125,
   "metadata": {},
   "outputs": [
    {
     "data": {
      "text/plain": [
       "((10000, 111), (40000, 111), (40000, 110), (32000, 110), (8000, 110))"
      ]
     },
     "execution_count": 125,
     "metadata": {},
     "output_type": "execute_result"
    }
   ],
   "source": [
    "test_data.shape, train_data.shape, X.shape, X_train.shape, X_test.shape"
   ]
  },
  {
   "cell_type": "markdown",
   "metadata": {},
   "source": [
    "# Model \n",
    "Сам ML"
   ]
  },
  {
   "cell_type": "markdown",
   "metadata": {},
   "source": [
    "Импортируем необходимые библиотеки:"
   ]
  },
  {
   "cell_type": "code",
   "execution_count": 126,
   "metadata": {},
   "outputs": [],
   "source": [
    "from sklearn.ensemble import RandomForestRegressor # инструмент для создания и обучения модели\n",
    "from sklearn import metrics # инструменты для оценки точности модели"
   ]
  },
  {
   "cell_type": "markdown",
   "metadata": {},
   "source": [
    "Создаём модель (НАСТРОЙКИ НЕ ТРОГАЕМ):"
   ]
  },
  {
   "cell_type": "code",
   "execution_count": 127,
   "metadata": {},
   "outputs": [],
   "source": [
    "model = RandomForestRegressor(n_estimators=100, verbose=1, n_jobs=-1, random_state=RANDOM_SEED)"
   ]
  },
  {
   "cell_type": "markdown",
   "metadata": {},
   "source": [
    "Обучаем модель на тестовом наборе данных"
   ]
  },
  {
   "cell_type": "code",
   "execution_count": 128,
   "metadata": {},
   "outputs": [
    {
     "name": "stderr",
     "output_type": "stream",
     "text": [
      "[Parallel(n_jobs=-1)]: Using backend ThreadingBackend with 4 concurrent workers.\n",
      "[Parallel(n_jobs=-1)]: Done  42 tasks      | elapsed:   17.2s\n",
      "[Parallel(n_jobs=-1)]: Done 100 out of 100 | elapsed:   37.8s finished\n",
      "[Parallel(n_jobs=4)]: Using backend ThreadingBackend with 4 concurrent workers.\n",
      "[Parallel(n_jobs=4)]: Done  42 tasks      | elapsed:    0.1s\n",
      "[Parallel(n_jobs=4)]: Done 100 out of 100 | elapsed:    0.1s finished\n"
     ]
    }
   ],
   "source": [
    "model.fit(X_train, y_train)\n",
    "\n",
    "# Используем обученную модель для предсказания рейтинга ресторанов в тестовой выборке.\n",
    "# Предсказанные значения записываем в переменную y_pred\n",
    "y_pred = model.predict(X_test)"
   ]
  },
  {
   "cell_type": "markdown",
   "metadata": {},
   "source": [
    "Сравниваем предсказанные значения (y_pred) с реальными (y_test), и смотрим насколько они в среднем отличаются.\n",
    "Метрика называется Mean Absolute Error (MAE) и показывает среднее отклонение предсказанных значений от фактических."
   ]
  },
  {
   "cell_type": "code",
   "execution_count": 129,
   "metadata": {},
   "outputs": [
    {
     "name": "stdout",
     "output_type": "stream",
     "text": [
      "MAE: 0.19846999999999998\n"
     ]
    }
   ],
   "source": [
    "print('MAE:', metrics.mean_absolute_error(y_test, y_pred))"
   ]
  },
  {
   "cell_type": "markdown",
   "metadata": {},
   "source": [
    "В RandomForestRegressor есть возможность вывести самые важные признаки для модели"
   ]
  },
  {
   "cell_type": "code",
   "execution_count": 131,
   "metadata": {},
   "outputs": [
    {
     "data": {
      "text/plain": [
       "<matplotlib.axes._subplots.AxesSubplot at 0x7f8149c636a0>"
      ]
     },
     "execution_count": 131,
     "metadata": {},
     "output_type": "execute_result"
    },
    {
     "data": {
      "image/png": "[encoded data removed]",
      "text/plain": [
       "<Figure size 720x720 with 1 Axes>"
      ]
     },
     "metadata": {
      "needs_background": "light"
     },
     "output_type": "display_data"
    }
   ],
   "source": [
    "plt.rcParams['figure.figsize'] = (10,10)\n",
    "feat_importances = pd.Series(model.feature_importances_, index=X.columns)\n",
    "feat_importances.nlargest(20).plot(kind='barh')"
   ]
  },
  {
   "cell_type": "markdown",
   "metadata": {},
   "source": [
    "# Total"
   ]
  },
  {
   "cell_type": "markdown",
   "metadata": {},
   "source": [
    "Итак, на данном этапе показатель метрики МАЕ нашей модели составляет 0.19846999999999998"
   ]
  }
 ],
 "metadata": {
  "kernelspec": {
   "display_name": "Python 3",
   "language": "python",
   "name": "python3"
  },
  "language_info": {
   "codemirror_mode": {
    "name": "ipython",
    "version": 3
   },
   "file_extension": ".py",
   "mimetype": "text/x-python",
   "name": "python",
   "nbconvert_exporter": "python",
   "pygments_lexer": "ipython3",
   "version": "3.8.3"
  }
 },
 "nbformat": 4,
 "nbformat_minor": 4
}
